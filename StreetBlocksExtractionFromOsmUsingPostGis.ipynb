{
 "cells": [
  {
   "cell_type": "markdown",
   "metadata": {
    "slideshow": {
     "slide_type": "slide"
    }
   },
   "source": [
    "<center> <font size=6> <b> Table of Contents </b> </font> </center> \n",
    "<div id=\"toc\"></div>"
   ]
  },
  {
   "cell_type": "markdown",
   "metadata": {
    "slideshow": {
     "slide_type": "fragment"
    }
   },
   "source": [
    "The following cell is a Javascript section of code for building the Jupyter notebook's table of content."
   ]
  },
  {
   "cell_type": "code",
   "execution_count": 1,
   "metadata": {
    "scrolled": true,
    "slideshow": {
     "slide_type": "-"
    }
   },
   "outputs": [
    {
     "data": {
      "application/javascript": [
       "$.getScript('https://kmahelona.github.io/ipython_notebook_goodies/ipython_notebook_toc.js')"
      ],
      "text/plain": [
       "<IPython.core.display.Javascript object>"
      ]
     },
     "metadata": {},
     "output_type": "display_data"
    }
   ],
   "source": [
    "%%javascript\n",
    "$.getScript('https://kmahelona.github.io/ipython_notebook_goodies/ipython_notebook_toc.js')"
   ]
  },
  {
   "cell_type": "markdown",
   "metadata": {
    "slideshow": {
     "slide_type": "slide"
    }
   },
   "source": [
    "<center> <font size=5> <h1>Dependency</h1> </font> </center> "
   ]
  },
  {
   "cell_type": "markdown",
   "metadata": {},
   "source": [
    "This process depend from different software. Please instal them.\n",
    "- Please install [psycopg2](http://initd.org/psycopg/) which is used to interact between the Jupyter notebook and a PostgreSql database. On Linux, this command-line should works: `pip install psycopg2`\n",
    "- Please install [osm2pgsql](http://wiki.openstreetmap.org/wiki/Osm2pgsql#Installation) which is command-line based program used to import .osm file in a PostgreSql database. For Windows user, you could find the osm2pgsql executable. Go to [this website](https://ci.appveyor.com/project/openstreetmap/osm2pgsql/history) and find the latest 'artifact'. For Linux user, this command-line should works: `sudo apt-get install osm2pgsql`"
   ]
  },
  {
   "cell_type": "markdown",
   "metadata": {
    "slideshow": {
     "slide_type": "slide"
    }
   },
   "source": [
    "<center> <font size=5> <h1>Define working environment</h1> </font> </center> "
   ]
  },
  {
   "cell_type": "markdown",
   "metadata": {
    "slideshow": {
     "slide_type": "fragment"
    }
   },
   "source": [
    "The following cells are used to: \n",
    "- Import needed libraries\n",
    "- Set the environment variables for Python, Anaconda, GRASS GIS and R statistical computing \n",
    "- Define the [\"GRASSDATA\" folder](https://grass.osgeo.org/grass73/manuals/helptext.html), the name of \"location\" and \"mapset\" where you will to work."
   ]
  },
  {
   "cell_type": "markdown",
   "metadata": {
    "slideshow": {
     "slide_type": "-"
    }
   },
   "source": [
    "**Import libraries**"
   ]
  },
  {
   "cell_type": "code",
   "execution_count": 2,
   "metadata": {
    "collapsed": true,
    "slideshow": {
     "slide_type": "-"
    }
   },
   "outputs": [],
   "source": [
    "## Import libraries needed for setting parameters of operating system \n",
    "import os\n",
    "import sys\n",
    "\n",
    "## Import library for temporary files creation \n",
    "import tempfile \n",
    "\n",
    "## Import Numpy library\n",
    "import numpy as np\n",
    "\n",
    "## Import Psycopg2 library (interection with postgres database)\n",
    "import psycopg2 as pg\n",
    "\n",
    "## Import Pandas library (View and manipulaiton of tables)\n",
    "import pandas as pd\n",
    "\n",
    "## Import Subprocess + subprocess.call\n",
    "import subprocess\n",
    "from subprocess import call, Popen, PIPE, STDOUT"
   ]
  },
  {
   "cell_type": "markdown",
   "metadata": {
    "slideshow": {
     "slide_type": "-"
    }
   },
   "source": [
    "**Create dictionnary for user inputs**"
   ]
  },
  {
   "cell_type": "code",
   "execution_count": 3,
   "metadata": {
    "collapsed": true
   },
   "outputs": [],
   "source": [
    "## Define a empty dictionnary for saving user inputs\n",
    "user={}"
   ]
  },
  {
   "cell_type": "markdown",
   "metadata": {
    "slideshow": {
     "slide_type": "slide"
    }
   },
   "source": [
    "<center> <font size=5> <h3>Environment variables</h3> </font> </center> "
   ]
  },
  {
   "cell_type": "markdown",
   "metadata": {
    "slideshow": {
     "slide_type": "fragment"
    }
   },
   "source": [
    "**Set 'Python' and 'GRASS GIS' environment variables**"
   ]
  },
  {
   "cell_type": "markdown",
   "metadata": {
    "slideshow": {
     "slide_type": "-"
    }
   },
   "source": [
    "Here, we set [the environment variables allowing to use of GRASS GIS](https://grass.osgeo.org/grass72/manuals/variables.html) inside this Jupyter notebook. Please change the directory path according to your own system configuration. Here after, possible paths are provided for different environment: \n",
    "- Windows7, using Anaconda2 and GRASS GIS 7.3svn standalone instal.\n",
    "- Linux Mint Serena (18.1) and GRASS GIS 7.3. Suggestions about environmental variables for Linux can be found here : [1](https://code.google.com/archive/p/postgis-grass-r-py/wikis/0003_01_PythonForGrassGis.wiki), [2](https://grasswiki.osgeo.org/wiki/Working_with_GRASS_without_starting_it_explicitly#Python:_GRASS_GIS_7_without_existing_location_using_metadata_only)"
   ]
  },
  {
   "cell_type": "code",
   "execution_count": 4,
   "metadata": {
    "collapsed": true,
    "slideshow": {
     "slide_type": "-"
    }
   },
   "outputs": [],
   "source": [
    "### Define GRASS GIS environment variables for LINUX UBUNTU Mint 18.1 (Serena)\n",
    "# Check is environmental variables exists and create them (empty) if not exists.\n",
    "if not 'PYTHONPATH' in os.environ:\n",
    "    os.environ['PYTHONPATH']=''\n",
    "if not 'LD_LIBRARY_PATH' in os.environ:\n",
    "    os.environ['LD_LIBRARY_PATH']=''\n",
    "# Set environmental variables\n",
    "os.environ['GISBASE'] = '/usr/lib/grass73'\n",
    "os.environ['PATH'] += os.pathsep + os.path.join(os.environ['GISBASE'],'bin')\n",
    "os.environ['PATH'] += os.pathsep + os.path.join(os.environ['GISBASE'],'script')\n",
    "os.environ['PATH'] += os.pathsep + os.path.join(os.environ['GISBASE'],'lib')\n",
    "#os.environ['PATH'] += os.pathsep + os.path.join(os.environ['GISBASE'],'etc','python')\n",
    "os.environ['PYTHONPATH'] += os.pathsep + os.path.join(os.environ['GISBASE'],'etc','python')\n",
    "os.environ['PYTHONPATH'] += os.pathsep + os.path.join(os.environ['GISBASE'],'etc','python','grass')\n",
    "os.environ['PYTHONPATH'] += os.pathsep + os.path.join(os.environ['GISBASE'],'etc','python','grass','script')\n",
    "os.environ['PYTHONLIB'] = '/usr/lib/python2.7'\n",
    "os.environ['LD_LIBRARY_PATH'] += os.pathsep + os.path.join(os.environ['GISBASE'],'lib')\n",
    "os.environ['GIS_LOCK'] = '$$'\n",
    "os.environ['GISRC'] = os.path.join(os.environ['HOME'],'.grass7','rc')\n",
    "\n",
    "## Define GRASS-Python environment\n",
    "sys.path.append(os.path.join(os.environ['GISBASE'],'etc','python'))"
   ]
  },
  {
   "cell_type": "markdown",
   "metadata": {
    "collapsed": true,
    "slideshow": {
     "slide_type": "fragment"
    }
   },
   "source": [
    "**Set environment variables for Osm2psgsql**"
   ]
  },
  {
   "cell_type": "code",
   "execution_count": 5,
   "metadata": {
    "collapsed": true
   },
   "outputs": [],
   "source": [
    "## Enter the path to the osm2pgsql folder\n",
    "user[\"osm2pgsqlfolder\"]=\"/usr/bin/osm2pgsql\""
   ]
  },
  {
   "cell_type": "code",
   "execution_count": 6,
   "metadata": {
    "collapsed": true
   },
   "outputs": [],
   "source": [
    "# Define the path to the osm2pgsql default.style file\n",
    "user[\"stylefile\"]=\"/usr/share/osm2pgsql/default_OSMmetadata.style\""
   ]
  },
  {
   "cell_type": "markdown",
   "metadata": {},
   "source": [
    "**-_-_-_-_-_-_-_-_-_-_-_-_-_-_-_-_-_-_-_-_-_-_-_-_-_-_-_-_-_-_-_-_-_-_-_-_-_-_-_-_-_-_-_-_-_-_-_-_-_-_-_-_-_-_-_-_-_-_-_-_-**"
   ]
  },
  {
   "cell_type": "markdown",
   "metadata": {},
   "source": [
    "<center> <font size=5> <h1>Define functions</h1> </font> </center> "
   ]
  },
  {
   "cell_type": "markdown",
   "metadata": {},
   "source": [
    "This section of the notebook is dedicated to defining functions which will then be called later in the script. If you want to create your own functions, define them here."
   ]
  },
  {
   "cell_type": "markdown",
   "metadata": {},
   "source": [
    "### Function for computing processing time"
   ]
  },
  {
   "cell_type": "markdown",
   "metadata": {},
   "source": [
    "The \"print_processing_time\" is used to calculate and display the processing time for various stages of the processing chain. At the beginning of each major step, the current time is stored in a new variable, using [time.time() function](https://docs.python.org/2/library/time.html). At the end of the stage in question, the \"print_processing_time\" function is called and takes as argument the name of this new variable containing the recorded time at the beginning of the stage, and an output message."
   ]
  },
  {
   "cell_type": "code",
   "execution_count": 7,
   "metadata": {
    "collapsed": true
   },
   "outputs": [],
   "source": [
    "## Import library for managing time in python\n",
    "import time  \n",
    "\n",
    "## Function \"print_processing_time()\" compute processing time and printing it.\n",
    "# The argument \"begintime\" wait for a variable containing the begintime (result of time.time()) of the process for which to compute processing time.\n",
    "# The argument \"printmessage\" wait for a string format with information about the process. \n",
    "def print_processing_time(begintime, printmessage):    \n",
    "    endtime=time.time()           \n",
    "    processtime=endtime-begintime\n",
    "    remainingtime=processtime\n",
    "\n",
    "    days=int((remainingtime)/86400)\n",
    "    remainingtime-=(days*86400)\n",
    "    hours=int((remainingtime)/3600)\n",
    "    remainingtime-=(hours*3600)\n",
    "    minutes=int((remainingtime)/60)\n",
    "    remainingtime-=(minutes*60)\n",
    "    seconds=round((remainingtime)%60,1)\n",
    "\n",
    "    if processtime<60:\n",
    "        finalprintmessage=str(printmessage)+str(seconds)+\" seconds\"\n",
    "    elif processtime<3600:\n",
    "        finalprintmessage=str(printmessage)+str(minutes)+\" minutes and \"+str(seconds)+\" seconds\"\n",
    "    elif processtime<86400:\n",
    "        finalprintmessage=str(printmessage)+str(hours)+\" hours and \"+str(minutes)+\" minutes and \"+str(seconds)+\" seconds\"\n",
    "    elif processtime>=86400:\n",
    "        finalprintmessage=str(printmessage)+str(days)+\" days, \"+str(hours)+\" hours and \"+str(minutes)+\" minutes and \"+str(seconds)+\" seconds\"\n",
    "    \n",
    "    return finalprintmessage"
   ]
  },
  {
   "cell_type": "markdown",
   "metadata": {},
   "source": [
    "### Function for Postgresql database vaccum"
   ]
  },
  {
   "cell_type": "code",
   "execution_count": 8,
   "metadata": {
    "collapsed": true
   },
   "outputs": [],
   "source": [
    "# Do a VACUUM on the current Postgresql database\n",
    "def vacuum(db):\n",
    "    old_isolation_level = db.isolation_level\n",
    "    db.set_isolation_level(0)\n",
    "    query = \"VACUUM\"\n",
    "    cur.execute(query)\n",
    "    db.set_isolation_level(old_isolation_level)"
   ]
  },
  {
   "cell_type": "markdown",
   "metadata": {},
   "source": [
    "**-_-_-_-_-_-_-_-_-_-_-_-_-_-_-_-_-_-_-_-_-_-_-_-_-_-_-_-_-_-_-_-_-_-_-_-_-_-_-_-_-_-_-_-_-_-_-_-_-_-_-_-_-_-_-_-_-_-_-_-_-**"
   ]
  },
  {
   "cell_type": "markdown",
   "metadata": {},
   "source": [
    "<center> <font size=5> <h1>User inputs</h1> </font> </center> "
   ]
  },
  {
   "cell_type": "markdown",
   "metadata": {},
   "source": [
    "Here after:\n",
    "- Enter the name of the location in which you want to work and its projection information in [EPSG code](http://spatialreference.org/ref/epsg/) format. Please note that the GRASSDATA folder and locations will be automatically created if not existing yet. If the location name already exists, the projection information will not be used.  \n",
    "- Enter the name you want for the mapsets which will be used later for Unsupervised Segmentation Parameter Optimization (USPO), Segmentation and Classification steps.\n",
    "- The environment variables of Postgresql will be defined. [More info here](https://www.postgresql.org/docs/9.3/static/libpq-envars.html)."
   ]
  },
  {
   "cell_type": "code",
   "execution_count": 9,
   "metadata": {
    "collapsed": true
   },
   "outputs": [],
   "source": [
    "## Enter the path to GRASSDATA folder\n",
    "user[\"gisdb\"] = \"/media/tais/data/MAUPP/Landuse_mapping/City_block_extraction/Test_extraction_bloc/GRASS_DATA\"\n",
    "## Enter the name of the location (existing or for a new one)\n",
    "user[\"location\"] = \"Ouaga_32630\"\n",
    "## Enter the EPSG code for this location \n",
    "user[\"locationepsg\"] = \"32630\"\n",
    "## Enter the name of the mapset to use\n",
    "user[\"mapsetname\"] = \"my_mapset\""
   ]
  },
  {
   "cell_type": "code",
   "execution_count": 10,
   "metadata": {
    "collapsed": true
   },
   "outputs": [],
   "source": [
    "## Enter postgresqgl host\n",
    "user[\"host\"] = \"localhost\"\n",
    "## Enter DB port\n",
    "user[\"port\"] = \"5432\"\n",
    "## Enter the postgresqgl username\n",
    "user[\"user\"] = \"tais\"\n",
    "## Enter postgresqgl Password\n",
    "user[\"password\"] = \"tais\"\n",
    "## Enter postgresqgl schema\n",
    "user[\"schema\"] = \"public\"\n",
    "## Enter the name of the new postgresqgl database\n",
    "user[\"dbname\"] = \"urbanblock_new\""
   ]
  },
  {
   "cell_type": "code",
   "execution_count": 11,
   "metadata": {
    "collapsed": true
   },
   "outputs": [],
   "source": [
    "os.environ['PGHOST'] = user[\"host\"]\n",
    "os.environ['PGPORT'] = user[\"port\"]\n",
    "os.environ['PGUSER'] = user[\"user\"]\n",
    "os.environ['PGPASSWORD'] = user[\"password\"]\n",
    "os.environ['PGDATABASE'] = user[\"dbname\"]"
   ]
  },
  {
   "cell_type": "markdown",
   "metadata": {},
   "source": [
    "Here after:\n",
    "- Enter the path to the folder where .osm file covering your area of interest will be downloaded. \n",
    "OSM data downloading is automated in this script. In case you would manage yourself the retrieving of OSM data, please read the [official wiki page](http://wiki.openstreetmap.org/wiki/Downloading_data) for that purpose. In tha case some parts of tis notebook should be adapted."
   ]
  },
  {
   "cell_type": "code",
   "execution_count": 12,
   "metadata": {
    "collapsed": true
   },
   "outputs": [],
   "source": [
    "## Enter the path to the .osm file\n",
    "user[\"osmfolder\"]=\"/media/tais/data/MAUPP/Donnees_brutes/OSM/Ouagadougou\"\n",
    "## Enter the prefix you want to be used in the PostGIS DB\n",
    "user[\"prefixosm\"]=\"ouaga_osm\""
   ]
  },
  {
   "cell_type": "markdown",
   "metadata": {},
   "source": [
    "**-_-_-_-_-_-_-_-_-_-_-_-_-_-_-_-_-_-_-_-_-_-_-_-_-_-_-_-_-_-_-_-_-_-_-_-_-_-_-_-_-_-_-_-_-_-_-_-_-_-_-_-_-_-_-_-_-_-_-_-_-**"
   ]
  },
  {
   "cell_type": "markdown",
   "metadata": {},
   "source": [
    "**-_-_-_-_-_-_-_-_-_-_-_-_-_-_-_-_-_-_-_-_-_-_-_-_-_-_-_-_-_-_-_-_-_-_-_-_-_-_-_-_-_-_-_-_-_-_-_-_-_-_-_-_-_-_-_-_-_-_-_-_-**"
   ]
  },
  {
   "cell_type": "markdown",
   "metadata": {},
   "source": [
    "<center> <font size=5> <h1>Import data in PostGIS databse</h1> </font>  </center>"
   ]
  },
  {
   "cell_type": "code",
   "execution_count": 13,
   "metadata": {
    "collapsed": true
   },
   "outputs": [],
   "source": [
    "## Saving current time for processing time management\n",
    "begintime_blockextraction_full=time.time()"
   ]
  },
  {
   "cell_type": "markdown",
   "metadata": {},
   "source": [
    "# Create PostGis database"
   ]
  },
  {
   "cell_type": "markdown",
   "metadata": {},
   "source": [
    "## Define name of database and tables"
   ]
  },
  {
   "cell_type": "code",
   "execution_count": 14,
   "metadata": {
    "scrolled": false
   },
   "outputs": [
    {
     "ename": "ProgrammingError",
     "evalue": "ERREUR:  la base de données « urbanblock_new » existe déjà\n",
     "output_type": "error",
     "traceback": [
      "\u001b[0;31m---------------------------------------------------------------------------\u001b[0m",
      "\u001b[0;31mProgrammingError\u001b[0m                          Traceback (most recent call last)",
      "\u001b[0;32m<ipython-input-14-59cb20e51888>\u001b[0m in \u001b[0;36m<module>\u001b[0;34m()\u001b[0m\n\u001b[1;32m      9\u001b[0m \u001b[0;31m# Drop the database if it exists, and create a new one\u001b[0m\u001b[0;34m\u001b[0m\u001b[0;34m\u001b[0m\u001b[0m\n\u001b[1;32m     10\u001b[0m \u001b[0;31m#cur.execute('DROP DATABASE IF EXISTS ' + user[\"dbname\"]) #Comment this to avoid deleting existing DB\u001b[0m\u001b[0;34m\u001b[0m\u001b[0;34m\u001b[0m\u001b[0m\n\u001b[0;32m---> 11\u001b[0;31m \u001b[0mcur\u001b[0m\u001b[0;34m.\u001b[0m\u001b[0mexecute\u001b[0m\u001b[0;34m(\u001b[0m\u001b[0;34m'CREATE DATABASE '\u001b[0m \u001b[0;34m+\u001b[0m \u001b[0muser\u001b[0m\u001b[0;34m[\u001b[0m\u001b[0;34m\"dbname\"\u001b[0m\u001b[0;34m]\u001b[0m\u001b[0;34m)\u001b[0m\u001b[0;34m\u001b[0m\u001b[0m\n\u001b[0m\u001b[1;32m     12\u001b[0m \u001b[0;31m# Make the changes to the database persistent\u001b[0m\u001b[0;34m\u001b[0m\u001b[0;34m\u001b[0m\u001b[0m\n\u001b[1;32m     13\u001b[0m \u001b[0mdb\u001b[0m\u001b[0;34m.\u001b[0m\u001b[0mcommit\u001b[0m\u001b[0;34m(\u001b[0m\u001b[0;34m)\u001b[0m\u001b[0;34m\u001b[0m\u001b[0m\n",
      "\u001b[0;31mProgrammingError\u001b[0m: ERREUR:  la base de données « urbanblock_new » existe déjà\n"
     ]
    }
   ],
   "source": [
    "from psycopg2.extensions import ISOLATION_LEVEL_AUTOCOMMIT\n",
    "\n",
    "# Connect to postgres database\n",
    "db=None\n",
    "db=pg.connect(dbname='postgres', user=user[\"user\"], password=user[\"password\"], host=user[\"host\"])\n",
    "cur=db.cursor()\n",
    "# Allow to create a new database\n",
    "db.set_isolation_level(ISOLATION_LEVEL_AUTOCOMMIT)\n",
    "# Drop the database if it exists, and create a new one \n",
    "#cur.execute('DROP DATABASE IF EXISTS ' + user[\"dbname\"]) #Comment this to avoid deleting existing DB\n",
    "cur.execute('CREATE DATABASE ' + user[\"dbname\"])\n",
    "# Make the changes to the database persistent\n",
    "db.commit()\n",
    "# Close connection with database\n",
    "cur.close()\n",
    "db.close()"
   ]
  },
  {
   "cell_type": "code",
   "execution_count": 15,
   "metadata": {
    "collapsed": true
   },
   "outputs": [],
   "source": [
    "# Connect to the new database\n",
    "db=None\n",
    "db=pg.connect(dbname=user[\"dbname\"], user=user[\"user\"], password=user[\"password\"], host=user[\"host\"])\n",
    "cur=db.cursor()\n",
    "# Create the postgis extension\n",
    "cur.execute('CREATE EXTENSION IF NOT EXISTS postgis')\n",
    "# Make the changes to the database persistent\n",
    "db.commit()\n",
    "# Drop table if exists:\n",
    "cur.execute('CREATE EXTENSION IF NOT EXISTS postgis_topology')\n",
    "# Make the changes to the database persistent\n",
    "db.commit()\n",
    "# Make vaccum\n",
    "vacuum(db)\n",
    "# Close connection with database\n",
    "cur.close()\n",
    "db.close()"
   ]
  },
  {
   "cell_type": "markdown",
   "metadata": {},
   "source": [
    "**-_-_-_-_-_-_-_-_-_-_-_-_-_-_-_-_-_-_-_-_-_-_-_-_-_-_-_-_-_-_-_-_-_-_-_-_-_-_-_-_-_-_-_-_-_-_-_-_-_-_-_-_-_-_-_-_-_-_-_-_-**"
   ]
  },
  {
   "cell_type": "markdown",
   "metadata": {},
   "source": [
    "# Import additional vector layers (shapefile) in PostGis DB"
   ]
  },
  {
   "cell_type": "markdown",
   "metadata": {},
   "source": [
    "The following part used the \"shp2pgsql\" program which should already be installed since postgis extension have been created in postgresql. See [this quick guide](http://www.bostongis.com/pgsql2shp_shp2pgsql_quickguide.bqg) for more information. "
   ]
  },
  {
   "cell_type": "markdown",
   "metadata": {},
   "source": [
    "## Morphological zones"
   ]
  },
  {
   "cell_type": "code",
   "execution_count": 16,
   "metadata": {
    "collapsed": true
   },
   "outputs": [],
   "source": [
    "#### Delineation of morphological zones\n",
    "# Path to shapefile\n",
    "pathtofile1=\"/media/tais/data/MAUPP/WorldView3_Ouagadougou/Decoupage_Morpho/Shape_limites_zonesmorpho_Ouaga/Orthorectified/Refined_version/Zone_morpho_Ouaga_refined.shp\"\n",
    "## Enter postgresqgl table's name\n",
    "user[\"morphotable\"] = \"morpho_delineation\""
   ]
  },
  {
   "cell_type": "code",
   "execution_count": 51,
   "metadata": {},
   "outputs": [
    {
     "data": {
      "text/plain": [
       "0"
      ]
     },
     "execution_count": 51,
     "metadata": {},
     "output_type": "execute_result"
    }
   ],
   "source": [
    "cmd=\"shp2pgsql \"\n",
    "cmd+=\"-s \"+user[\"locationepsg\"]+\":3857 \"\n",
    "cmd+=\"-d -I \"\n",
    "cmd+=pathtofile1+\" \"\n",
    "cmd+=user[\"schema\"]+\".\"+user[\"morphotable\"]\n",
    "cmd+=\" | psql\"\n",
    "os.system(cmd)"
   ]
  },
  {
   "cell_type": "markdown",
   "metadata": {},
   "source": [
    "**UPDATE last created PostGis table to ensure all geometries are valid**"
   ]
  },
  {
   "cell_type": "code",
   "execution_count": 52,
   "metadata": {
    "collapsed": true,
    "scrolled": true
   },
   "outputs": [],
   "source": [
    "# Connect to an existing database\n",
    "db=pg.connect(dbname=user[\"dbname\"], user=user[\"user\"], password=user[\"password\"], host=user[\"host\"])\n",
    "# Open a cursor to perform database operations\n",
    "cur=db.cursor()\n",
    "\n",
    "# Query\n",
    "query=\"UPDATE \"+user[\"schema\"]+\".\"+user[\"morphotable\"]+\" \\\n",
    "SET geom = ST_Multi(ST_CollectionExtract(ST_MakeValid(geom), 3)) \\\n",
    "WHERE ST_IsValid(geom) is not True\"\n",
    "# Execute the CREATE TABLE query \n",
    "cur.execute(query)\n",
    "# Make the changes to the database persistent\n",
    "db.commit()\n",
    "   \n",
    "# Close cursor and communication with the database\n",
    "cur.close()\n",
    "db.close()"
   ]
  },
  {
   "cell_type": "markdown",
   "metadata": {},
   "source": [
    "**-_-_-_-_-_-_-_-_-_-_-_-_-_-_-_-_-_-_-_-_-_-_-_-_-_-_-_-_-_-_-_-_-_-_-_-_-_-_-_-_-_-_-_-_-_-_-_-_-_-_-_-_-_-_-_-_-_-_-_-_-**"
   ]
  },
  {
   "cell_type": "markdown",
   "metadata": {},
   "source": [
    "## Area Of Interest of the city (AOI)"
   ]
  },
  {
   "cell_type": "code",
   "execution_count": 17,
   "metadata": {
    "collapsed": true
   },
   "outputs": [],
   "source": [
    "## Enter postgresqgl table's name\n",
    "user[\"AOI\"] = \"AOI\""
   ]
  },
  {
   "cell_type": "code",
   "execution_count": 54,
   "metadata": {
    "collapsed": true
   },
   "outputs": [],
   "source": [
    "# Connect to an existing database\n",
    "db=pg.connect(dbname=user[\"dbname\"], user=user[\"user\"], password=user[\"password\"], host=user[\"host\"])\n",
    "# Open a cursor to perform database operations\n",
    "cur=db.cursor()\n",
    "# Drop table if exists:\n",
    "cur.execute(\"DROP TABLE IF EXISTS \"+user[\"schema\"]+\".\"+user[\"AOI\"])\n",
    "# Make the changes to the database persistent\n",
    "db.commit()\n",
    "# Make vaccum\n",
    "vacuum(db)"
   ]
  },
  {
   "cell_type": "code",
   "execution_count": 55,
   "metadata": {
    "collapsed": true,
    "scrolled": true
   },
   "outputs": [],
   "source": [
    "#### Create a polygon with the AOI from the morphological zones\n",
    "# Subquery\n",
    "subquery1=\"SELECT ST_MakePolygon(ST_ExteriorRing(ST_Union(ST_MakeValid(geom)))) AS the_geom \\\n",
    "FROM \"+user[\"schema\"]+\".\"+user[\"morphotable\"]\n",
    "# Query\n",
    "query=\"CREATE TABLE \"+user[\"schema\"]+\".\"+user[\"AOI\"]+\" AS (\"\n",
    "query+=subquery1+\")\"\n",
    "# Execute the CREATE TABLE query \n",
    "cur.execute(query)\n",
    "# Make the changes to the database persistent\n",
    "db.commit()\n",
    "\n",
    "# Create spatial index on the geometry column:\n",
    "cur.execute(\"CREATE INDEX \"+user[\"AOI\"]+\"_gix\"+\" ON \"+user[\"schema\"]+\".\"+user[\"AOI\"]+\" USING GIST (the_geom)\")\n",
    "# Make the changes to the database persistent\n",
    "db.commit() \n",
    "\n",
    "# Close cursor and communication with the database\n",
    "cur.close()\n",
    "db.close()"
   ]
  },
  {
   "cell_type": "code",
   "execution_count": 56,
   "metadata": {
    "scrolled": true
   },
   "outputs": [
    {
     "name": "stdout",
     "output_type": "stream",
     "text": [
      "Number of items : 1\n"
     ]
    }
   ],
   "source": [
    "# Query to find the number of row in the sample table\n",
    "# Connect to an existing database\n",
    "db=pg.connect(dbname=user[\"dbname\"], user=user[\"user\"], password=user[\"password\"], host=user[\"host\"])\n",
    "# Query to find the number of row in the  table\n",
    "query=\"SELECT count(*) as nbr FROM \"+user[\"schema\"]+\".\"+user[\"AOI\"] \n",
    "# Execute query through panda\n",
    "df=pd.read_sql(query, db)\n",
    "# Save the number of items a variable\n",
    "nbr_blocks=list(df['nbr'])[0]\n",
    "# Print\n",
    "print \"Number of items : \"+str(nbr_blocks)"
   ]
  },
  {
   "cell_type": "markdown",
   "metadata": {},
   "source": [
    "**-_-_-_-_-_-_-_-_-_-_-_-_-_-_-_-_-_-_-_-_-_-_-_-_-_-_-_-_-_-_-_-_-_-_-_-_-_-_-_-_-_-_-_-_-_-_-_-_-_-_-_-_-_-_-_-_-_-_-_-_-**"
   ]
  },
  {
   "cell_type": "markdown",
   "metadata": {},
   "source": [
    "## Tiles covering the extent of the AOI"
   ]
  },
  {
   "cell_type": "code",
   "execution_count": 18,
   "metadata": {
    "collapsed": true
   },
   "outputs": [],
   "source": [
    "## Enter postgresqgl table's name\n",
    "user[\"tile\"] = \"tile\""
   ]
  },
  {
   "cell_type": "code",
   "execution_count": 58,
   "metadata": {
    "collapsed": true
   },
   "outputs": [],
   "source": [
    "# Connect to an existing database\n",
    "db=pg.connect(dbname=user[\"dbname\"], user=user[\"user\"], password=user[\"password\"], host=user[\"host\"])\n",
    "# Open a cursor to perform database operations\n",
    "cur=db.cursor()"
   ]
  },
  {
   "cell_type": "code",
   "execution_count": 59,
   "metadata": {
    "collapsed": true
   },
   "outputs": [],
   "source": [
    "# Drop table if exists:\n",
    "cur.execute(\"DROP TABLE IF EXISTS \"+user[\"schema\"]+\".\"+user[\"tile\"])\n",
    "# Make the changes to the database persistent\n",
    "db.commit()\n",
    "# Make vaccum\n",
    "vacuum(db)"
   ]
  },
  {
   "cell_type": "code",
   "execution_count": 60,
   "metadata": {
    "collapsed": true
   },
   "outputs": [],
   "source": [
    "### Save the previous subquery1 results in a new table\n",
    "# Connect to an existing database\n",
    "db=pg.connect(dbname=user[\"dbname\"], user=user[\"user\"], password=user[\"password\"], host=user[\"host\"])\n",
    "# Open a cursor to perform database operations\n",
    "cur=db.cursor()\n",
    "\n",
    "subquery1=\"WITH \\\n",
    "first_BBox AS(\\\n",
    "SELECT ST_Segmentize(ST_Envelope(the_geom),(ST_Perimeter(the_geom)/(4*2))) as the_geom \\\n",
    "FROM public.aoi),\\\n",
    " \\\n",
    "first_subdivide AS(\\\n",
    "SELECT ST_Subdivide(the_geom,8) AS the_geom \\\n",
    "FROM first_BBox),\\\n",
    " \\\n",
    "second_BBox AS(\\\n",
    "SELECT ST_Segmentize(ST_Envelope(the_geom),(ST_Perimeter(the_geom)/(4*2))) as the_geom \\\n",
    "FROM first_subdivide)\\\n",
    " \\\n",
    "SELECT ST_Subdivide(the_geom,8) AS the_geom \\\n",
    "FROM second_BBox\"\n",
    "\n",
    "# Query\n",
    "query=\"CREATE TABLE \"+user[\"schema\"]+\".\"+user[\"tile\"]+\" AS (\"\n",
    "query+=subquery1+\")\"\n",
    "\n",
    "# Execute the CREATE TABLE query \n",
    "cur.execute(query)\n",
    "# Make the changes to the database persistent\n",
    "db.commit()\n",
    "# Close cursor and communication with the database\n",
    "cur.close()\n",
    "db.close()"
   ]
  },
  {
   "cell_type": "markdown",
   "metadata": {},
   "source": [
    "Add a 'gid' SERIAL primary key and create a spatial index."
   ]
  },
  {
   "cell_type": "code",
   "execution_count": 61,
   "metadata": {
    "collapsed": true
   },
   "outputs": [],
   "source": [
    "# Connect to an existing database\n",
    "db=pg.connect(dbname=user[\"dbname\"], user=user[\"user\"], password=user[\"password\"], host=user[\"host\"])\n",
    "# Open a cursor to perform database operations\n",
    "cur=db.cursor()\n",
    "# Query\n",
    "query=\"ALTER TABLE \"+user[\"schema\"]+\".\"+user[\"tile\"]+\" ADD COLUMN gid SERIAL PRIMARY KEY\"\n",
    "# Execute the CREATE TABLE query \n",
    "cur.execute(query)\n",
    "# Make the changes to the database persistent\n",
    "db.commit()\n",
    "\n",
    "# Create spatial index:\n",
    "cur.execute(\"CREATE INDEX \"+user[\"tile\"]+\"_gix\"+\" ON \"+user[\"schema\"]+\".\"+user[\"tile\"]+\" USING GIST (the_geom)\")\n",
    "# Make the changes to the database persistent\n",
    "db.commit() \n",
    "\n",
    "# Close cursor and communication with the database\n",
    "cur.close()\n",
    "db.close()"
   ]
  },
  {
   "cell_type": "code",
   "execution_count": 19,
   "metadata": {
    "scrolled": true
   },
   "outputs": [
    {
     "name": "stdout",
     "output_type": "stream",
     "text": [
      "Number of items : 16\n"
     ]
    }
   ],
   "source": [
    "# Query to find the number of row in the sample table\n",
    "# Connect to an existing database\n",
    "db=pg.connect(dbname=user[\"dbname\"], user=user[\"user\"], password=user[\"password\"], host=user[\"host\"])\n",
    "# Query to find the number of row in the  table\n",
    "query=\"SELECT count(*) as nbr FROM \"+user[\"schema\"]+\".\"+user[\"tile\"] \n",
    "# Execute query through panda\n",
    "df=pd.read_sql(query, db)\n",
    "# Save the number of items a variable\n",
    "nbr_tiles=list(df['nbr'])[0]\n",
    "# Print\n",
    "print \"Number of items : \"+str(nbr_tiles)"
   ]
  },
  {
   "cell_type": "markdown",
   "metadata": {},
   "source": [
    "**-_-_-_-_-_-_-_-_-_-_-_-_-_-_-_-_-_-_-_-_-_-_-_-_-_-_-_-_-_-_-_-_-_-_-_-_-_-_-_-_-_-_-_-_-_-_-_-_-_-_-_-_-_-_-_-_-_-_-_-_-**"
   ]
  },
  {
   "cell_type": "markdown",
   "metadata": {},
   "source": [
    "### Get upper, lower, right and left coordinates of each tile (in WGS84)."
   ]
  },
  {
   "cell_type": "markdown",
   "metadata": {},
   "source": [
    "NB: the following query works for North hemisphere, west longitudes. Adapt ST_Ymin,ST_Ymax,ST_Xmin,ST_Xmax according to your geographical region."
   ]
  },
  {
   "cell_type": "code",
   "execution_count": 20,
   "metadata": {
    "collapsed": true
   },
   "outputs": [],
   "source": [
    "## Enter postgresqgl table's mane\n",
    "user[\"tile_coord\"] = \"tile_coord\""
   ]
  },
  {
   "cell_type": "code",
   "execution_count": 68,
   "metadata": {
    "scrolled": true
   },
   "outputs": [
    {
     "data": {
      "text/html": [
       "<div>\n",
       "<table border=\"1\" class=\"dataframe\">\n",
       "  <thead>\n",
       "    <tr style=\"text-align: right;\">\n",
       "      <th></th>\n",
       "      <th>gid</th>\n",
       "      <th>west</th>\n",
       "      <th>east</th>\n",
       "      <th>south</th>\n",
       "      <th>north</th>\n",
       "    </tr>\n",
       "  </thead>\n",
       "  <tbody>\n",
       "    <tr>\n",
       "      <th>0</th>\n",
       "      <td>1</td>\n",
       "      <td>-1.685413</td>\n",
       "      <td>-1.611509</td>\n",
       "      <td>12.222975</td>\n",
       "      <td>12.288475</td>\n",
       "    </tr>\n",
       "    <tr>\n",
       "      <th>1</th>\n",
       "      <td>2</td>\n",
       "      <td>-1.685413</td>\n",
       "      <td>-1.611509</td>\n",
       "      <td>12.288475</td>\n",
       "      <td>12.353959</td>\n",
       "    </tr>\n",
       "    <tr>\n",
       "      <th>2</th>\n",
       "      <td>3</td>\n",
       "      <td>-1.611509</td>\n",
       "      <td>-1.537604</td>\n",
       "      <td>12.222975</td>\n",
       "      <td>12.288475</td>\n",
       "    </tr>\n",
       "    <tr>\n",
       "      <th>3</th>\n",
       "      <td>4</td>\n",
       "      <td>-1.611509</td>\n",
       "      <td>-1.537604</td>\n",
       "      <td>12.288475</td>\n",
       "      <td>12.353959</td>\n",
       "    </tr>\n",
       "    <tr>\n",
       "      <th>4</th>\n",
       "      <td>5</td>\n",
       "      <td>-1.685413</td>\n",
       "      <td>-1.611509</td>\n",
       "      <td>12.353959</td>\n",
       "      <td>12.419426</td>\n",
       "    </tr>\n",
       "    <tr>\n",
       "      <th>5</th>\n",
       "      <td>6</td>\n",
       "      <td>-1.685413</td>\n",
       "      <td>-1.611509</td>\n",
       "      <td>12.419426</td>\n",
       "      <td>12.484878</td>\n",
       "    </tr>\n",
       "    <tr>\n",
       "      <th>6</th>\n",
       "      <td>7</td>\n",
       "      <td>-1.611509</td>\n",
       "      <td>-1.537604</td>\n",
       "      <td>12.353959</td>\n",
       "      <td>12.419426</td>\n",
       "    </tr>\n",
       "    <tr>\n",
       "      <th>7</th>\n",
       "      <td>8</td>\n",
       "      <td>-1.611509</td>\n",
       "      <td>-1.537604</td>\n",
       "      <td>12.419426</td>\n",
       "      <td>12.484878</td>\n",
       "    </tr>\n",
       "    <tr>\n",
       "      <th>8</th>\n",
       "      <td>9</td>\n",
       "      <td>-1.537604</td>\n",
       "      <td>-1.463699</td>\n",
       "      <td>12.222975</td>\n",
       "      <td>12.288475</td>\n",
       "    </tr>\n",
       "    <tr>\n",
       "      <th>9</th>\n",
       "      <td>10</td>\n",
       "      <td>-1.537604</td>\n",
       "      <td>-1.463699</td>\n",
       "      <td>12.288475</td>\n",
       "      <td>12.353959</td>\n",
       "    </tr>\n",
       "    <tr>\n",
       "      <th>10</th>\n",
       "      <td>11</td>\n",
       "      <td>-1.463699</td>\n",
       "      <td>-1.389795</td>\n",
       "      <td>12.222975</td>\n",
       "      <td>12.288475</td>\n",
       "    </tr>\n",
       "    <tr>\n",
       "      <th>11</th>\n",
       "      <td>12</td>\n",
       "      <td>-1.463699</td>\n",
       "      <td>-1.389795</td>\n",
       "      <td>12.288475</td>\n",
       "      <td>12.353959</td>\n",
       "    </tr>\n",
       "    <tr>\n",
       "      <th>12</th>\n",
       "      <td>13</td>\n",
       "      <td>-1.537604</td>\n",
       "      <td>-1.463699</td>\n",
       "      <td>12.353959</td>\n",
       "      <td>12.419426</td>\n",
       "    </tr>\n",
       "    <tr>\n",
       "      <th>13</th>\n",
       "      <td>14</td>\n",
       "      <td>-1.537604</td>\n",
       "      <td>-1.463699</td>\n",
       "      <td>12.419426</td>\n",
       "      <td>12.484878</td>\n",
       "    </tr>\n",
       "    <tr>\n",
       "      <th>14</th>\n",
       "      <td>15</td>\n",
       "      <td>-1.463699</td>\n",
       "      <td>-1.389795</td>\n",
       "      <td>12.353959</td>\n",
       "      <td>12.419426</td>\n",
       "    </tr>\n",
       "    <tr>\n",
       "      <th>15</th>\n",
       "      <td>16</td>\n",
       "      <td>-1.463699</td>\n",
       "      <td>-1.389795</td>\n",
       "      <td>12.419426</td>\n",
       "      <td>12.484878</td>\n",
       "    </tr>\n",
       "  </tbody>\n",
       "</table>\n",
       "</div>"
      ],
      "text/plain": [
       "    gid      west      east      south      north\n",
       "0     1 -1.685413 -1.611509  12.222975  12.288475\n",
       "1     2 -1.685413 -1.611509  12.288475  12.353959\n",
       "2     3 -1.611509 -1.537604  12.222975  12.288475\n",
       "3     4 -1.611509 -1.537604  12.288475  12.353959\n",
       "4     5 -1.685413 -1.611509  12.353959  12.419426\n",
       "5     6 -1.685413 -1.611509  12.419426  12.484878\n",
       "6     7 -1.611509 -1.537604  12.353959  12.419426\n",
       "7     8 -1.611509 -1.537604  12.419426  12.484878\n",
       "8     9 -1.537604 -1.463699  12.222975  12.288475\n",
       "9    10 -1.537604 -1.463699  12.288475  12.353959\n",
       "10   11 -1.463699 -1.389795  12.222975  12.288475\n",
       "11   12 -1.463699 -1.389795  12.288475  12.353959\n",
       "12   13 -1.537604 -1.463699  12.353959  12.419426\n",
       "13   14 -1.537604 -1.463699  12.419426  12.484878\n",
       "14   15 -1.463699 -1.389795  12.353959  12.419426\n",
       "15   16 -1.463699 -1.389795  12.419426  12.484878"
      ]
     },
     "execution_count": 68,
     "metadata": {},
     "output_type": "execute_result"
    }
   ],
   "source": [
    "### Save the previous subquery1 results in a new table\n",
    "# Connect to an existing database\n",
    "db=pg.connect(dbname=user[\"dbname\"], user=user[\"user\"], password=user[\"password\"], host=user[\"host\"])\n",
    "# Open a cursor to perform database operations\n",
    "cur=db.cursor()\n",
    "\n",
    "# Query\n",
    "query=\"WITH \\\n",
    "wgs84geom AS(\\\n",
    "SELECT  gid, ST_Transform(the_geom, 4326) AS the_geom \\\n",
    "FROM \"+user[\"schema\"]+\".\"+user[\"tile\"]+\") \\\n",
    "\\\n",
    "SELECT gid, ST_Xmin(the_geom) AS west, ST_Xmax(the_geom) AS east, \\\n",
    "ST_Ymin(the_geom) AS south, ST_Ymax(the_geom) AS north \\\n",
    "FROM wgs84geom\"\n",
    "\n",
    "# Execute query through panda\n",
    "df_tiles_coord=pd.read_sql(query, db)\n",
    "# Close cursor and communication with the database\n",
    "cur.close()\n",
    "db.close()\n",
    "# Show dataframe\n",
    "df_tiles_coord.head(50)"
   ]
  },
  {
   "cell_type": "markdown",
   "metadata": {},
   "source": [
    "**-_-_-_-_-_-_-_-_-_-_-_-_-_-_-_-_-_-_-_-_-_-_-_-_-_-_-_-_-_-_-_-_-_-_-_-_-_-_-_-_-_-_-_-_-_-_-_-_-_-_-_-_-_-_-_-_-_-_-_-_-**"
   ]
  },
  {
   "cell_type": "markdown",
   "metadata": {},
   "source": [
    "## Ajust the tiles to the AOI (ST_Intersection)."
   ]
  },
  {
   "cell_type": "code",
   "execution_count": 21,
   "metadata": {
    "collapsed": true
   },
   "outputs": [],
   "source": [
    "## Enter postgresqgl table's name\n",
    "user[\"aoi_tile\"] = \"AOI_tile\""
   ]
  },
  {
   "cell_type": "code",
   "execution_count": 66,
   "metadata": {
    "collapsed": true
   },
   "outputs": [],
   "source": [
    "# Connect to an existing database\n",
    "db=pg.connect(dbname=user[\"dbname\"], user=user[\"user\"], password=user[\"password\"], host=user[\"host\"])\n",
    "# Open a cursor to perform database operations\n",
    "cur=db.cursor()\n",
    "\n",
    "# Drop table if exists:\n",
    "cur.execute(\"DROP TABLE IF EXISTS \"+user[\"schema\"]+\".\"+user[\"aoi_tile\"])\n",
    "# Make the changes to the database persistent\n",
    "db.commit()\n",
    "# Make vaccum\n",
    "vacuum(db)\n",
    "\n",
    "# Subquery with the new 'the_geom' column resulting from ST_Interection\n",
    "subquery=\"WITH aoi_buffered AS (\\\n",
    "SELECT ST_Buffer(the_geom,0.01) AS the_geom \\\n",
    "FROM \"+user[\"schema\"]+\".\"+user[\"AOI\"]+\") \\\n",
    "\\\n",
    "SELECT \\\n",
    "tile.gid AS gid, \\\n",
    "ST_Intersection(aoi.the_geom, tile.the_geom) as the_geom \\\n",
    "FROM aoi_buffered AS aoi,\"+user[\"schema\"]+\".\"+user[\"tile\"]+\" AS tile \\\n",
    "WHERE ST_Intersects(aoi.the_geom, tile.the_geom)\"\n",
    "\n",
    "# Query\n",
    "query=\"CREATE TABLE \"+user[\"schema\"]+\".\"+user[\"aoi_tile\"]+\" AS (\"\n",
    "query+=subquery+\")\"\n",
    "\n",
    "# Execute the CREATE TABLE query \n",
    "cur.execute(query)\n",
    "# Make the changes to the database persistent\n",
    "db.commit()\n",
    "# Close cursor and communication with the database\n",
    "cur.close()\n",
    "db.close()"
   ]
  },
  {
   "cell_type": "markdown",
   "metadata": {},
   "source": [
    "**-_-_-_-_-_-_-_-_-_-_-_-_-_-_-_-_-_-_-_-_-_-_-_-_-_-_-_-_-_-_-_-_-_-_-_-_-_-_-_-_-_-_-_-_-_-_-_-_-_-_-_-_-_-_-_-_-_-_-_-_-**"
   ]
  },
  {
   "cell_type": "markdown",
   "metadata": {},
   "source": [
    "## OpenStreetMap data"
   ]
  },
  {
   "cell_type": "markdown",
   "metadata": {},
   "source": [
    "The trick to extract polygons from lines was found [here](http://gis.stackexchange.com/questions/83/separate-polygons-based-on-intersection-using-postgis)."
   ]
  },
  {
   "cell_type": "markdown",
   "metadata": {},
   "source": [
    "### Download OpenStreetMap data using Xapi"
   ]
  },
  {
   "cell_type": "markdown",
   "metadata": {},
   "source": [
    "More information about Xapi can be found [here](http://wiki.openstreetmap.org/wiki/Xapi)."
   ]
  },
  {
   "cell_type": "code",
   "execution_count": 69,
   "metadata": {
    "scrolled": false
   },
   "outputs": [
    {
     "name": "stdout",
     "output_type": "stream",
     "text": [
      "OSM data will be downloaded for tile n°1 (W:-1.685413 S:12.222975 E:-1.611509 N:12.288475)\n",
      "http://www.overpass-api.de/api/xapi?*[bbox=-1.685413,12.222975,-1.611509,12.288475][@meta]\n",
      "OSM data will be downloaded for tile n°2 (W:-1.685413 S:12.288475 E:-1.611509 N:12.353959)\n",
      "http://www.overpass-api.de/api/xapi?*[bbox=-1.685413,12.288475,-1.611509,12.353959][@meta]\n",
      "OSM data will be downloaded for tile n°3 (W:-1.611509 S:12.222975 E:-1.537604 N:12.288475)\n",
      "http://www.overpass-api.de/api/xapi?*[bbox=-1.611509,12.222975,-1.537604,12.288475][@meta]\n",
      "OSM data will be downloaded for tile n°4 (W:-1.611509 S:12.288475 E:-1.537604 N:12.353959)\n",
      "http://www.overpass-api.de/api/xapi?*[bbox=-1.611509,12.288475,-1.537604,12.353959][@meta]\n",
      "OSM data will be downloaded for tile n°5 (W:-1.685413 S:12.353959 E:-1.611509 N:12.419426)\n",
      "http://www.overpass-api.de/api/xapi?*[bbox=-1.685413,12.353959,-1.611509,12.419426][@meta]\n",
      "OSM data will be downloaded for tile n°6 (W:-1.685413 S:12.419426 E:-1.611509 N:12.484878)\n",
      "http://www.overpass-api.de/api/xapi?*[bbox=-1.685413,12.419426,-1.611509,12.484878][@meta]\n",
      "OSM data will be downloaded for tile n°7 (W:-1.611509 S:12.353959 E:-1.537604 N:12.419426)\n",
      "http://www.overpass-api.de/api/xapi?*[bbox=-1.611509,12.353959,-1.537604,12.419426][@meta]\n",
      "OSM data will be downloaded for tile n°8 (W:-1.611509 S:12.419426 E:-1.537604 N:12.484878)\n",
      "http://www.overpass-api.de/api/xapi?*[bbox=-1.611509,12.419426,-1.537604,12.484878][@meta]\n",
      "OSM data will be downloaded for tile n°9 (W:-1.537604 S:12.222975 E:-1.463699 N:12.288475)\n",
      "http://www.overpass-api.de/api/xapi?*[bbox=-1.537604,12.222975,-1.463699,12.288475][@meta]\n",
      "OSM data will be downloaded for tile n°10 (W:-1.537604 S:12.288475 E:-1.463699 N:12.353959)\n",
      "http://www.overpass-api.de/api/xapi?*[bbox=-1.537604,12.288475,-1.463699,12.353959][@meta]\n",
      "OSM data will be downloaded for tile n°11 (W:-1.463699 S:12.222975 E:-1.389795 N:12.288475)\n",
      "http://www.overpass-api.de/api/xapi?*[bbox=-1.463699,12.222975,-1.389795,12.288475][@meta]\n",
      "OSM data will be downloaded for tile n°12 (W:-1.463699 S:12.288475 E:-1.389795 N:12.353959)\n",
      "http://www.overpass-api.de/api/xapi?*[bbox=-1.463699,12.288475,-1.389795,12.353959][@meta]\n",
      "OSM data will be downloaded for tile n°13 (W:-1.537604 S:12.353959 E:-1.463699 N:12.419426)\n",
      "http://www.overpass-api.de/api/xapi?*[bbox=-1.537604,12.353959,-1.463699,12.419426][@meta]\n",
      "OSM data will be downloaded for tile n°14 (W:-1.537604 S:12.419426 E:-1.463699 N:12.484878)\n",
      "http://www.overpass-api.de/api/xapi?*[bbox=-1.537604,12.419426,-1.463699,12.484878][@meta]\n",
      "OSM data will be downloaded for tile n°15 (W:-1.463699 S:12.353959 E:-1.389795 N:12.419426)\n",
      "http://www.overpass-api.de/api/xapi?*[bbox=-1.463699,12.353959,-1.389795,12.419426][@meta]\n",
      "OSM data will be downloaded for tile n°16 (W:-1.463699 S:12.419426 E:-1.389795 N:12.484878)\n",
      "http://www.overpass-api.de/api/xapi?*[bbox=-1.463699,12.419426,-1.389795,12.484878][@meta]\n",
      "OSM Data downloaded in 2 minutes and 30.7 seconds\n"
     ]
    }
   ],
   "source": [
    "import datetime\n",
    "import urllib\n",
    "\n",
    "## Saving current time for processing time management\n",
    "begintime_download=time.time()\n",
    "  \n",
    "## Save the suffix corresponding to the date of today\n",
    "now=datetime.datetime.now()\n",
    "date_suffix=str(now.year)+str(now.month)+str(now.day)\n",
    "\n",
    "for tilenum in range(1,nbr_tiles+1):\n",
    "    north_coord=round(list(df_tiles_coord.loc[tilenum-1,['north']])[0],6)\n",
    "    south_coord=round(list(df_tiles_coord.loc[tilenum-1,['south']])[0],6)\n",
    "    west_coord=round(list(df_tiles_coord.loc[tilenum-1,['west']])[0],6)\n",
    "    east_coord=round(list(df_tiles_coord.loc[tilenum-1,['east']])[0],6)\n",
    "    print \"OSM data will be downloaded for tile n°\"+str(tilenum)+\" (W:\"+str(west_coord)+\" S:\"+str(south_coord)+\" E:\"+str(east_coord)+\" N:\"+str(north_coord)+\")\"\n",
    "    \n",
    "    osm_api_base_url=\"http://www.overpass-api.de/api/xapi?*\"\n",
    "    osm_api_query_url=osm_api_base_url+\"[bbox=\"+str(west_coord)+\",\"+str(south_coord)+\",\"+str(east_coord)+\",\"+str(north_coord)+\"][@meta]\"\n",
    "    \n",
    "    #osm_file=user[\"osmfolder\"]+\"/\"+user[\"prefixosm\"]+\"_\"+str(now.year)+str(now.month)+str(now.day)+\"_\"+str(tilenum)+\".osm\"\n",
    "    osm_file=os.path.join(user[\"osmfolder\"],user[\"prefixosm\"]+\"_\"+date_suffix+\"_\"+str(tilenum)+\".osm\")\n",
    "\n",
    "    urllib.urlretrieve(osm_api_query_url, osm_file)\n",
    "    print osm_api_query_url\n",
    "    \n",
    "## Print\n",
    "print print_processing_time(begintime_download, \"OSM Data downloaded in \")"
   ]
  },
  {
   "cell_type": "markdown",
   "metadata": {},
   "source": [
    "### Import OpenStreetMap layers in PostGis DB"
   ]
  },
  {
   "cell_type": "markdown",
   "metadata": {},
   "source": [
    "Here after, the OpenStreetMap data will be imported in the Postgresql Database. [Osm2pgsql](http://wiki.openstreetmap.org/wiki/Osm2pgsql) is used for this purpose. Informations can be found in [this github repository](https://github.com/openstreetmap/osm2pgsql). If you are working on Windows, this tool cand be found on [this website](https://ci.appveyor.com/project/openstreetmap/osm2pgsql/history) (please look for the latest 'artifact').\n",
    "\n",
    "The parameter to be used are explained [here](http://www.volkerschatz.com/net/osm/osm2pgsql-usage.html)."
   ]
  },
  {
   "cell_type": "code",
   "execution_count": 22,
   "metadata": {
    "collapsed": true
   },
   "outputs": [],
   "source": [
    "#### Please choose the version of .osm dataset to be used. \n",
    "# If you want to use the dataset which has just been downloaded (previous step), please use 'yes' value for \n",
    "# the \"use_today_dataset\" variable. If not, please use 'no' and update the \"date_suffix\" variable according\n",
    "# to the version of the dataset you want to be used (avoid zero, e.g. 201756 for the 6 of May 2017)\n",
    "use_today_dataset='no'\n",
    "if use_today_dataset=='no':\n",
    "    date_suffix='2017816'"
   ]
  },
  {
   "cell_type": "code",
   "execution_count": 76,
   "metadata": {},
   "outputs": [
    {
     "name": "stdout",
     "output_type": "stream",
     "text": [
      "osm2pgsql SVN version 0.88.1 (64bit id space)\n",
      "\n",
      "Unknown flag 'nocolumn' line 161, ignored\n",
      "Unknown flag 'nocolumn' line 162, ignored\n",
      "Unknown flag 'nocolumn' line 163, ignored\n",
      "Unknown flag 'nocolumn' line 164, ignored\n",
      "Unknown flag 'nocolumn' line 165, ignored\n",
      "Unknown flag 'nocolumn' line 166, ignored\n",
      "Using built-in tag processing pipeline\n",
      "Using projection SRS 3857 (EPSG:3857)\n",
      "Setting up table: ouaga_osm_2017816_1_point\n",
      "Setting up table: ouaga_osm_2017816_1_line\n",
      "Setting up table: ouaga_osm_2017816_1_polygon\n",
      "Setting up table: ouaga_osm_2017816_1_roads\n",
      "Allocating memory for dense node cache\n",
      "Allocating dense node cache in one big chunk\n",
      "Allocating memory for sparse node cache\n",
      "Sharing dense sparse\n",
      "Node-cache: cache=800MB, maxblocks=102400*8192, allocation method=3\n",
      "Mid: Ram, scale=100\n",
      "\n",
      "Reading in file: /media/tais/data/MAUPP/Donnees_brutes/OSM/Ouagadougou/ouaga_osm_2017816_1.osm\n",
      "StartElement: Unknown element name: note\n",
      "Unknown node type 3\n",
      "EndElement: Unknown element name: note\n",
      "StartElement: Unknown element name: meta\n",
      "EndElement: Unknown element name: meta\n",
      "Processing: Node(4k 4.1k/s) Way(0k 0.13k/s) Relation(4 4.00/s)  parse time: 0s\n",
      "Node stats: total(4071), max(4988300997) in 0s\n",
      "Way stats: total(134), max(505550390) in 0s\n",
      "Relation stats: total(4), max(5675759) in 0s\n",
      "Committing transaction for ouaga_osm_2017816_1_point\n",
      "Committing transaction for ouaga_osm_2017816_1_line\n",
      "Committing transaction for ouaga_osm_2017816_1_polygon\n",
      "Committing transaction for ouaga_osm_2017816_1_roads\n",
      "Using built-in tag processing pipeline\n",
      "\n",
      "Going over pending ways...\n",
      "\t82 ways are pending\n",
      "\n",
      "Using 1 helper-processes\n",
      "Finished processing 82 ways in 0 sec\n",
      "\n",
      "Committing transaction for ouaga_osm_2017816_1_point\n",
      "Committing transaction for ouaga_osm_2017816_1_line\n",
      "Committing transaction for ouaga_osm_2017816_1_polygon\n",
      "Committing transaction for ouaga_osm_2017816_1_roads\n",
      "\n",
      "Going over pending relations...\n",
      "\t0 relations are pending\n",
      "\n",
      "Using 1 helper-processes\n",
      "Finished processing 0 relations in 0 sec\n",
      "\n",
      "Committing transaction for ouaga_osm_2017816_1_point\n",
      "ATTENTION:  aucune transaction en cours\n",
      "Committing transaction for ouaga_osm_2017816_1_line\n",
      "ATTENTION:  aucune transaction en cours\n",
      "Committing transaction for ouaga_osm_2017816_1_polygon\n",
      "ATTENTION:  aucune transaction en cours\n",
      "Committing transaction for ouaga_osm_2017816_1_roads\n",
      "ATTENTION:  aucune transaction en cours\n",
      "Sorting data and creating indexes for ouaga_osm_2017816_1_point\n",
      "node cache: stored: 4071(100.00%), storage efficiency: 44.45% (dense blocks: 1, sparse nodes: 4067), hit rate: 100.00%\n",
      "Sorting data and creating indexes for ouaga_osm_2017816_1_roads\n",
      "Sorting data and creating indexes for ouaga_osm_2017816_1_polygon\n",
      "Sorting data and creating indexes for ouaga_osm_2017816_1_line\n",
      "Copying ouaga_osm_2017816_1_polygon to cluster by geometry finished\n",
      "Creating geometry index on  ouaga_osm_2017816_1_polygon\n",
      "Copying ouaga_osm_2017816_1_roads to cluster by geometry finished\n",
      "Creating geometry index on  ouaga_osm_2017816_1_roads\n",
      "Copying ouaga_osm_2017816_1_line to cluster by geometry finished\n",
      "Creating geometry index on  ouaga_osm_2017816_1_line\n",
      "Creating indexes on  ouaga_osm_2017816_1_polygon finished\n",
      "Creating indexes on  ouaga_osm_2017816_1_roads finished\n",
      "Creating indexes on  ouaga_osm_2017816_1_line finished\n",
      "All indexes on  ouaga_osm_2017816_1_polygon created  in 0s\n",
      "All indexes on  ouaga_osm_2017816_1_roads created  in 0s\n",
      "Completed ouaga_osm_2017816_1_roads\n",
      "Completed ouaga_osm_2017816_1_polygon\n",
      "All indexes on  ouaga_osm_2017816_1_line created  in 0s\n",
      "Completed ouaga_osm_2017816_1_line\n",
      "Copying ouaga_osm_2017816_1_point to cluster by geometry finished\n",
      "Creating geometry index on  ouaga_osm_2017816_1_point\n",
      "Creating indexes on  ouaga_osm_2017816_1_point finished\n",
      "All indexes on  ouaga_osm_2017816_1_point created  in 0s\n",
      "Completed ouaga_osm_2017816_1_point\n",
      "\n",
      "Osm2pgsql took 1s overall\n",
      "\n",
      "osm2pgsql SVN version 0.88.1 (64bit id space)\n",
      "\n",
      "Unknown flag 'nocolumn' line 161, ignored\n",
      "Unknown flag 'nocolumn' line 162, ignored\n",
      "Unknown flag 'nocolumn' line 163, ignored\n",
      "Unknown flag 'nocolumn' line 164, ignored\n",
      "Unknown flag 'nocolumn' line 165, ignored\n",
      "Unknown flag 'nocolumn' line 166, ignored\n",
      "Using built-in tag processing pipeline\n",
      "Using projection SRS 3857 (EPSG:3857)\n",
      "Setting up table: ouaga_osm_2017816_2_point\n",
      "Setting up table: ouaga_osm_2017816_2_line\n",
      "Setting up table: ouaga_osm_2017816_2_polygon\n",
      "Setting up table: ouaga_osm_2017816_2_roads\n",
      "Allocating memory for dense node cache\n",
      "Allocating dense node cache in one big chunk\n",
      "Allocating memory for sparse node cache\n",
      "Sharing dense sparse\n",
      "Node-cache: cache=800MB, maxblocks=102400*8192, allocation method=3\n",
      "Mid: Ram, scale=100\n",
      "\n",
      "Reading in file: /media/tais/data/MAUPP/Donnees_brutes/OSM/Ouagadougou/ouaga_osm_2017816_2.osm\n",
      "StartElement: Unknown element name: note\n",
      "Unknown node type 3\n",
      "EndElement: Unknown element name: note\n",
      "StartElement: Unknown element name: meta\n",
      "EndElement: Unknown element name: meta\n",
      "Processing: Node(11k 11.9k/s) Way(0k 0.90k/s) Relation(9 9.00/s)  parse time: 0s\n",
      "Node stats: total(11899), max(4999337124) in 0s\n",
      "Way stats: total(901), max(505846571) in 0s\n",
      "Relation stats: total(9), max(7184678) in 0s\n",
      "Committing transaction for ouaga_osm_2017816_2_point\n",
      "Committing transaction for ouaga_osm_2017816_2_line\n",
      "Committing transaction for ouaga_osm_2017816_2_polygon\n",
      "Committing transaction for ouaga_osm_2017816_2_roads\n",
      "Using built-in tag processing pipeline\n",
      "\n",
      "Going over pending ways...\n",
      "\t378 ways are pending\n",
      "\n",
      "Using 1 helper-processes\n",
      "Finished processing 378 ways in 0 sec\n",
      "\n",
      "Committing transaction for ouaga_osm_2017816_2_point\n",
      "Committing transaction for ouaga_osm_2017816_2_line\n",
      "Committing transaction for ouaga_osm_2017816_2_polygon\n",
      "Committing transaction for ouaga_osm_2017816_2_roads\n",
      "\n",
      "Going over pending relations...\n",
      "\t0 relations are pending\n",
      "\n",
      "Using 1 helper-processes\n",
      "Finished processing 0 relations in 0 sec\n",
      "\n",
      "Committing transaction for ouaga_osm_2017816_2_point\n",
      "ATTENTION:  aucune transaction en cours\n",
      "Committing transaction for ouaga_osm_2017816_2_line\n",
      "ATTENTION:  aucune transaction en cours\n",
      "Committing transaction for ouaga_osm_2017816_2_polygon\n",
      "ATTENTION:  aucune transaction en cours\n",
      "Committing transaction for ouaga_osm_2017816_2_roads\n",
      "ATTENTION:  aucune transaction en cours\n",
      "Sorting data and creating indexes for ouaga_osm_2017816_2_point\n",
      "Sorting data and creating indexes for ouaga_osm_2017816_2_line\n",
      "Sorting data and creating indexes for ouaga_osm_2017816_2_polygon\n",
      "Sorting data and creating indexes for ouaga_osm_2017816_2_roads\n",
      "node cache: stored: 11899(100.00%), storage efficiency: 48.10% (dense blocks: 2, sparse nodes: 11344), hit rate: 100.00%\n",
      "Copying ouaga_osm_2017816_2_roads to cluster by geometry finished\n",
      "Creating geometry index on  ouaga_osm_2017816_2_roads\n",
      "Creating indexes on  ouaga_osm_2017816_2_roads finished\n",
      "All indexes on  ouaga_osm_2017816_2_roads created  in 0s\n",
      "Completed ouaga_osm_2017816_2_roads\n",
      "Copying ouaga_osm_2017816_2_polygon to cluster by geometry finished\n",
      "Creating geometry index on  ouaga_osm_2017816_2_polygon\n",
      "Copying ouaga_osm_2017816_2_line to cluster by geometry finished\n",
      "Creating geometry index on  ouaga_osm_2017816_2_line\n",
      "Creating indexes on  ouaga_osm_2017816_2_polygon finished\n",
      "Creating indexes on  ouaga_osm_2017816_2_line finished\n",
      "All indexes on  ouaga_osm_2017816_2_polygon created  in 0s\n",
      "Completed ouaga_osm_2017816_2_polygon\n",
      "All indexes on  ouaga_osm_2017816_2_line created  in 0s\n",
      "Completed ouaga_osm_2017816_2_line\n",
      "Copying ouaga_osm_2017816_2_point to cluster by geometry finished\n",
      "Creating geometry index on  ouaga_osm_2017816_2_point\n",
      "Creating indexes on  ouaga_osm_2017816_2_point finished\n",
      "All indexes on  ouaga_osm_2017816_2_point created  in 1s\n",
      "Completed ouaga_osm_2017816_2_point\n",
      "\n",
      "Osm2pgsql took 2s overall\n",
      "\n",
      "osm2pgsql SVN version 0.88.1 (64bit id space)\n",
      "\n",
      "Unknown flag 'nocolumn' line 161, ignored\n",
      "Unknown flag 'nocolumn' line 162, ignored\n",
      "Unknown flag 'nocolumn' line 163, ignored\n",
      "Unknown flag 'nocolumn' line 164, ignored\n",
      "Unknown flag 'nocolumn' line 165, ignored\n",
      "Unknown flag 'nocolumn' line 166, ignored\n",
      "Using built-in tag processing pipeline\n",
      "Using projection SRS 3857 (EPSG:3857)\n",
      "Setting up table: ouaga_osm_2017816_3_point\n",
      "Setting up table: ouaga_osm_2017816_3_line\n",
      "Setting up table: ouaga_osm_2017816_3_polygon\n",
      "Setting up table: ouaga_osm_2017816_3_roads\n",
      "Allocating memory for dense node cache\n",
      "Allocating dense node cache in one big chunk\n",
      "Allocating memory for sparse node cache\n",
      "Sharing dense sparse\n",
      "Node-cache: cache=800MB, maxblocks=102400*8192, allocation method=3\n",
      "Mid: Ram, scale=100\n",
      "\n",
      "Reading in file: /media/tais/data/MAUPP/Donnees_brutes/OSM/Ouagadougou/ouaga_osm_2017816_3.osm\n",
      "StartElement: Unknown element name: note\n",
      "Unknown node type 3\n",
      "EndElement: Unknown element name: note\n",
      "StartElement: Unknown element name: meta\n",
      "EndElement: Unknown element name: meta\n",
      "Processing: Node(45k 45.8k/s) Way(4k 4.78k/s) Relation(11 11.00/s)  parse time: 1s\n",
      "Node stats: total(45752), max(4993112077) in 1s\n",
      "Way stats: total(4778), max(509638395) in 0s\n",
      "Relation stats: total(11), max(6981865) in 0s\n",
      "Committing transaction for ouaga_osm_2017816_3_point\n",
      "Committing transaction for ouaga_osm_2017816_3_line\n",
      "Committing transaction for ouaga_osm_2017816_3_polygon\n",
      "Committing transaction for ouaga_osm_2017816_3_roads\n",
      "Using built-in tag processing pipeline\n",
      "\n",
      "Going over pending ways...\n",
      "\t2307 ways are pending\n",
      "\n",
      "Using 1 helper-processes\n",
      "Finished processing 2307 ways in 0 sec\n",
      "\n",
      "Committing transaction for ouaga_osm_2017816_3_point\n",
      "Committing transaction for ouaga_osm_2017816_3_line\n",
      "Committing transaction for ouaga_osm_2017816_3_polygon\n",
      "Committing transaction for ouaga_osm_2017816_3_roads\n",
      "\n",
      "Going over pending relations...\n",
      "\t0 relations are pending\n",
      "\n",
      "Using 1 helper-processes\n",
      "Finished processing 0 relations in 0 sec\n",
      "\n",
      "Committing transaction for ouaga_osm_2017816_3_point\n",
      "ATTENTION:  aucune transaction en cours\n",
      "Committing transaction for ouaga_osm_2017816_3_line\n",
      "ATTENTION:  aucune transaction en cours\n",
      "Committing transaction for ouaga_osm_2017816_3_polygon\n",
      "ATTENTION:  aucune transaction en cours\n",
      "Committing transaction for ouaga_osm_2017816_3_roads\n",
      "ATTENTION:  aucune transaction en cours\n",
      "Sorting data and creating indexes for ouaga_osm_2017816_3_point\n",
      "Sorting data and creating indexes for ouaga_osm_2017816_3_line\n",
      "Sorting data and creating indexes for ouaga_osm_2017816_3_polygon\n",
      "node cache: stored: 45752(100.00%), storage efficiency: 53.13% (dense blocks: 17, sparse nodes: 34349), hit rate: 100.00%\n",
      "Sorting data and creating indexes for ouaga_osm_2017816_3_roads\n",
      "Copying ouaga_osm_2017816_3_roads to cluster by geometry finished\n",
      "Creating geometry index on  ouaga_osm_2017816_3_roads\n",
      "Creating indexes on  ouaga_osm_2017816_3_roads finished\n",
      "All indexes on  ouaga_osm_2017816_3_roads created  in 0s\n",
      "Completed ouaga_osm_2017816_3_roads\n",
      "Copying ouaga_osm_2017816_3_polygon to cluster by geometry finished\n",
      "Creating geometry index on  ouaga_osm_2017816_3_polygon\n",
      "Copying ouaga_osm_2017816_3_line to cluster by geometry finished\n",
      "Creating geometry index on  ouaga_osm_2017816_3_line\n",
      "Creating indexes on  ouaga_osm_2017816_3_polygon finished\n",
      "Creating indexes on  ouaga_osm_2017816_3_line finished\n",
      "All indexes on  ouaga_osm_2017816_3_polygon created  in 0s\n",
      "Completed ouaga_osm_2017816_3_polygon\n",
      "All indexes on  ouaga_osm_2017816_3_line created  in 0s\n",
      "Completed ouaga_osm_2017816_3_line\n",
      "Copying ouaga_osm_2017816_3_point to cluster by geometry finished\n",
      "Creating geometry index on  ouaga_osm_2017816_3_point\n",
      "Creating indexes on  ouaga_osm_2017816_3_point finished\n",
      "All indexes on  ouaga_osm_2017816_3_point created  in 1s\n",
      "Completed ouaga_osm_2017816_3_point\n",
      "\n",
      "Osm2pgsql took 3s overall\n",
      "\n"
     ]
    },
    {
     "name": "stdout",
     "output_type": "stream",
     "text": [
      "osm2pgsql SVN version 0.88.1 (64bit id space)\n",
      "\n",
      "Unknown flag 'nocolumn' line 161, ignored\n",
      "Unknown flag 'nocolumn' line 162, ignored\n",
      "Unknown flag 'nocolumn' line 163, ignored\n",
      "Unknown flag 'nocolumn' line 164, ignored\n",
      "Unknown flag 'nocolumn' line 165, ignored\n",
      "Unknown flag 'nocolumn' line 166, ignored\n",
      "Using built-in tag processing pipeline\n",
      "Using projection SRS 3857 (EPSG:3857)\n",
      "Setting up table: ouaga_osm_2017816_4_point\n",
      "Setting up table: ouaga_osm_2017816_4_line\n",
      "Setting up table: ouaga_osm_2017816_4_polygon\n",
      "Setting up table: ouaga_osm_2017816_4_roads\n",
      "Allocating memory for dense node cache\n",
      "Allocating dense node cache in one big chunk\n",
      "Allocating memory for sparse node cache\n",
      "Sharing dense sparse\n",
      "Node-cache: cache=800MB, maxblocks=102400*8192, allocation method=3\n",
      "Mid: Ram, scale=100\n",
      "\n",
      "Reading in file: /media/tais/data/MAUPP/Donnees_brutes/OSM/Ouagadougou/ouaga_osm_2017816_4.osm\n",
      "StartElement: Unknown element name: note\n",
      "Unknown node type 3\n",
      "EndElement: Unknown element name: note\n",
      "StartElement: Unknown element name: meta\n",
      "EndElement: Unknown element name: meta\n",
      "Processing: Node(71k 35.8k/s) Way(14k 14.54k/s) Relation(10 10.00/s)  parse time: 2s\n",
      "Node stats: total(71655), max(5020629324) in 2s\n",
      "Way stats: total(14539), max(509793671) in 0s\n",
      "Relation stats: total(10), max(4764476) in 0s\n",
      "Committing transaction for ouaga_osm_2017816_4_point\n",
      "Committing transaction for ouaga_osm_2017816_4_line\n",
      "Committing transaction for ouaga_osm_2017816_4_polygon\n",
      "Committing transaction for ouaga_osm_2017816_4_roads\n",
      "Using built-in tag processing pipeline\n",
      "\n",
      "Going over pending ways...\n",
      "\t11191 ways are pending\n",
      "\n",
      "Using 1 helper-processes\n",
      "Finished processing 11191 ways in 1 sec\n",
      "\n",
      "11191 Pending ways took 1s at a rate of 11191.00/s\n",
      "Committing transaction for ouaga_osm_2017816_4_point\n",
      "Committing transaction for ouaga_osm_2017816_4_line\n",
      "Committing transaction for ouaga_osm_2017816_4_polygon\n",
      "Committing transaction for ouaga_osm_2017816_4_roads\n",
      "\n",
      "Going over pending relations...\n",
      "\t0 relations are pending\n",
      "\n",
      "Using 1 helper-processes\n",
      "Finished processing 0 relations in 0 sec\n",
      "\n",
      "Committing transaction for ouaga_osm_2017816_4_point\n",
      "ATTENTION:  aucune transaction en cours\n",
      "Committing transaction for ouaga_osm_2017816_4_line\n",
      "ATTENTION:  aucune transaction en cours\n",
      "Committing transaction for ouaga_osm_2017816_4_polygon\n",
      "ATTENTION:  aucune transaction en cours\n",
      "Committing transaction for ouaga_osm_2017816_4_roads\n",
      "ATTENTION:  aucune transaction en cours\n",
      "Sorting data and creating indexes for ouaga_osm_2017816_4_point\n",
      "node cache: stored: 71655(100.00%), storage efficiency: 49.83% (dense blocks: 4, sparse nodes: 69854), hit rate: 100.00%\n",
      "Sorting data and creating indexes for ouaga_osm_2017816_4_roads\n",
      "Sorting data and creating indexes for ouaga_osm_2017816_4_polygon\n",
      "Sorting data and creating indexes for ouaga_osm_2017816_4_line\n",
      "Copying ouaga_osm_2017816_4_roads to cluster by geometry finished\n",
      "Creating geometry index on  ouaga_osm_2017816_4_roads\n",
      "Creating indexes on  ouaga_osm_2017816_4_roads finished\n",
      "All indexes on  ouaga_osm_2017816_4_roads created  in 0s\n",
      "Completed ouaga_osm_2017816_4_roads\n",
      "Copying ouaga_osm_2017816_4_line to cluster by geometry finished\n",
      "Creating geometry index on  ouaga_osm_2017816_4_line\n",
      "Creating indexes on  ouaga_osm_2017816_4_line finished\n",
      "All indexes on  ouaga_osm_2017816_4_line created  in 0s\n",
      "Completed ouaga_osm_2017816_4_line\n",
      "Copying ouaga_osm_2017816_4_polygon to cluster by geometry finished\n",
      "Creating geometry index on  ouaga_osm_2017816_4_polygon\n",
      "Creating indexes on  ouaga_osm_2017816_4_polygon finished\n",
      "All indexes on  ouaga_osm_2017816_4_polygon created  in 0s\n",
      "Completed ouaga_osm_2017816_4_polygon\n",
      "Copying ouaga_osm_2017816_4_point to cluster by geometry finished\n",
      "Creating geometry index on  ouaga_osm_2017816_4_point\n",
      "Creating indexes on  ouaga_osm_2017816_4_point finished\n",
      "All indexes on  ouaga_osm_2017816_4_point created  in 1s\n",
      "Completed ouaga_osm_2017816_4_point\n",
      "\n",
      "Osm2pgsql took 5s overall\n",
      "\n",
      "osm2pgsql SVN version 0.88.1 (64bit id space)\n",
      "\n",
      "Unknown flag 'nocolumn' line 161, ignored\n",
      "Unknown flag 'nocolumn' line 162, ignored\n",
      "Unknown flag 'nocolumn' line 163, ignored\n",
      "Unknown flag 'nocolumn' line 164, ignored\n",
      "Unknown flag 'nocolumn' line 165, ignored\n",
      "Unknown flag 'nocolumn' line 166, ignored\n",
      "Using built-in tag processing pipeline\n",
      "Using projection SRS 3857 (EPSG:3857)\n",
      "Setting up table: ouaga_osm_2017816_5_point\n",
      "Setting up table: ouaga_osm_2017816_5_line\n",
      "Setting up table: ouaga_osm_2017816_5_polygon\n",
      "Setting up table: ouaga_osm_2017816_5_roads\n",
      "Allocating memory for dense node cache\n",
      "Allocating dense node cache in one big chunk\n",
      "Allocating memory for sparse node cache\n",
      "Sharing dense sparse\n",
      "Node-cache: cache=800MB, maxblocks=102400*8192, allocation method=3\n",
      "Mid: Ram, scale=100\n",
      "\n",
      "Reading in file: /media/tais/data/MAUPP/Donnees_brutes/OSM/Ouagadougou/ouaga_osm_2017816_5.osm\n",
      "StartElement: Unknown element name: note\n",
      "Unknown node type 3\n",
      "EndElement: Unknown element name: note\n",
      "StartElement: Unknown element name: meta\n",
      "EndElement: Unknown element name: meta\n",
      "Processing: Node(85k 42.6k/s) Way(17k 17.02k/s) Relation(6 6.00/s)  parse time: 2s\n",
      "Node stats: total(85147), max(4979125379) in 2s\n",
      "Way stats: total(17025), max(505851224) in 0s\n",
      "Relation stats: total(6), max(7184678) in 0s\n",
      "Committing transaction for ouaga_osm_2017816_5_point\n",
      "Committing transaction for ouaga_osm_2017816_5_line\n",
      "Committing transaction for ouaga_osm_2017816_5_polygon\n",
      "Committing transaction for ouaga_osm_2017816_5_roads\n",
      "Using built-in tag processing pipeline\n",
      "\n",
      "Going over pending ways...\n",
      "\t14169 ways are pending\n",
      "\n",
      "Using 1 helper-processes\n",
      "Finished processing 14169 ways in 2 sec\n",
      "\n",
      "14169 Pending ways took 2s at a rate of 7084.50/s\n",
      "Committing transaction for ouaga_osm_2017816_5_point\n",
      "Committing transaction for ouaga_osm_2017816_5_line\n",
      "Committing transaction for ouaga_osm_2017816_5_polygon\n",
      "Committing transaction for ouaga_osm_2017816_5_roads\n",
      "\n",
      "Going over pending relations...\n",
      "\t0 relations are pending\n",
      "\n",
      "Using 1 helper-processes\n",
      "Finished processing 0 relations in 0 sec\n",
      "\n",
      "Committing transaction for ouaga_osm_2017816_5_point\n",
      "ATTENTION:  aucune transaction en cours\n",
      "Committing transaction for ouaga_osm_2017816_5_line\n",
      "ATTENTION:  aucune transaction en cours\n",
      "Committing transaction for ouaga_osm_2017816_5_polygon\n",
      "ATTENTION:  aucune transaction en cours\n",
      "Committing transaction for ouaga_osm_2017816_5_roads\n",
      "ATTENTION:  aucune transaction en cours\n",
      "Sorting data and creating indexes for ouaga_osm_2017816_5_point\n",
      "Sorting data and creating indexes for ouaga_osm_2017816_5_line\n",
      "Sorting data and creating indexes for ouaga_osm_2017816_5_roads\n",
      "Sorting data and creating indexes for ouaga_osm_2017816_5_polygon\n",
      "node cache: stored: 85147(100.00%), storage efficiency: 51.85% (dense blocks: 20, sparse nodes: 71874), hit rate: 100.00%\n",
      "Copying ouaga_osm_2017816_5_roads to cluster by geometry finished\n",
      "Creating geometry index on  ouaga_osm_2017816_5_roads\n",
      "Creating indexes on  ouaga_osm_2017816_5_roads finished\n",
      "All indexes on  ouaga_osm_2017816_5_roads created  in 0s\n",
      "Completed ouaga_osm_2017816_5_roads\n",
      "Copying ouaga_osm_2017816_5_line to cluster by geometry finished\n",
      "Creating geometry index on  ouaga_osm_2017816_5_line\n",
      "Creating indexes on  ouaga_osm_2017816_5_line finished\n",
      "All indexes on  ouaga_osm_2017816_5_line created  in 0s\n",
      "Completed ouaga_osm_2017816_5_line\n",
      "Copying ouaga_osm_2017816_5_polygon to cluster by geometry finished\n",
      "Creating geometry index on  ouaga_osm_2017816_5_polygon\n",
      "Creating indexes on  ouaga_osm_2017816_5_polygon finished\n",
      "All indexes on  ouaga_osm_2017816_5_polygon created  in 0s\n",
      "Completed ouaga_osm_2017816_5_polygon\n",
      "Copying ouaga_osm_2017816_5_point to cluster by geometry finished\n",
      "Creating geometry index on  ouaga_osm_2017816_5_point\n",
      "Creating indexes on  ouaga_osm_2017816_5_point finished\n",
      "All indexes on  ouaga_osm_2017816_5_point created  in 2s\n",
      "Completed ouaga_osm_2017816_5_point\n",
      "\n",
      "Osm2pgsql took 6s overall\n",
      "\n",
      "osm2pgsql SVN version 0.88.1 (64bit id space)\n",
      "\n",
      "Unknown flag 'nocolumn' line 161, ignored\n",
      "Unknown flag 'nocolumn' line 162, ignored\n",
      "Unknown flag 'nocolumn' line 163, ignored\n",
      "Unknown flag 'nocolumn' line 164, ignored\n",
      "Unknown flag 'nocolumn' line 165, ignored\n",
      "Unknown flag 'nocolumn' line 166, ignored\n",
      "Using built-in tag processing pipeline\n",
      "Using projection SRS 3857 (EPSG:3857)\n",
      "Setting up table: ouaga_osm_2017816_6_point\n",
      "Setting up table: ouaga_osm_2017816_6_line\n",
      "Setting up table: ouaga_osm_2017816_6_polygon\n",
      "Setting up table: ouaga_osm_2017816_6_roads\n",
      "Allocating memory for dense node cache\n",
      "Allocating dense node cache in one big chunk\n",
      "Allocating memory for sparse node cache\n",
      "Sharing dense sparse\n",
      "Node-cache: cache=800MB, maxblocks=102400*8192, allocation method=3\n",
      "Mid: Ram, scale=100\n",
      "\n",
      "Reading in file: /media/tais/data/MAUPP/Donnees_brutes/OSM/Ouagadougou/ouaga_osm_2017816_6.osm\n",
      "StartElement: Unknown element name: note\n",
      "Unknown node type 3\n",
      "EndElement: Unknown element name: note\n",
      "StartElement: Unknown element name: meta\n",
      "EndElement: Unknown element name: meta\n",
      "Processing: Node(23k 23.2k/s) Way(4k 4.25k/s) Relation(4 4.00/s)  parse time: 1s\n",
      "Node stats: total(23226), max(4979125379) in 1s\n",
      "Way stats: total(4254), max(506367782) in 0s\n",
      "Relation stats: total(4), max(5675759) in 0s\n",
      "Committing transaction for ouaga_osm_2017816_6_point\n",
      "Committing transaction for ouaga_osm_2017816_6_line\n",
      "Committing transaction for ouaga_osm_2017816_6_polygon\n",
      "Committing transaction for ouaga_osm_2017816_6_roads\n",
      "Using built-in tag processing pipeline\n",
      "\n",
      "Going over pending ways...\n",
      "\t3605 ways are pending\n",
      "\n",
      "Using 1 helper-processes\n",
      "Finished processing 3605 ways in 0 sec\n",
      "\n",
      "Committing transaction for ouaga_osm_2017816_6_point\n",
      "Committing transaction for ouaga_osm_2017816_6_line\n",
      "Committing transaction for ouaga_osm_2017816_6_polygon\n",
      "Committing transaction for ouaga_osm_2017816_6_roads\n",
      "\n",
      "Going over pending relations...\n",
      "\t0 relations are pending\n",
      "\n",
      "Using 1 helper-processes\n",
      "Finished processing 0 relations in 0 sec\n",
      "\n",
      "Committing transaction for ouaga_osm_2017816_6_point\n",
      "ATTENTION:  aucune transaction en cours\n",
      "Committing transaction for ouaga_osm_2017816_6_line\n",
      "ATTENTION:  aucune transaction en cours\n",
      "Committing transaction for ouaga_osm_2017816_6_polygon\n",
      "ATTENTION:  aucune transaction en cours\n",
      "Committing transaction for ouaga_osm_2017816_6_roads\n",
      "ATTENTION:  aucune transaction en cours\n",
      "Sorting data and creating indexes for ouaga_osm_2017816_6_point\n",
      "Sorting data and creating indexes for ouaga_osm_2017816_6_line\n",
      "Sorting data and creating indexes for ouaga_osm_2017816_6_polygon\n",
      "node cache: stored: 23226(100.00%), storage efficiency: 49.19% (dense blocks: 3, sparse nodes: 22072), hit rate: 100.00%\n",
      "Sorting data and creating indexes for ouaga_osm_2017816_6_roads\n",
      "Copying ouaga_osm_2017816_6_roads to cluster by geometry finished\n",
      "Creating geometry index on  ouaga_osm_2017816_6_roads\n",
      "Creating indexes on  ouaga_osm_2017816_6_roads finished\n",
      "Copying ouaga_osm_2017816_6_line to cluster by geometry finished\n",
      "Creating geometry index on  ouaga_osm_2017816_6_line\n",
      "All indexes on  ouaga_osm_2017816_6_roads created  in 0s\n",
      "Completed ouaga_osm_2017816_6_roads\n",
      "Creating indexes on  ouaga_osm_2017816_6_line finished\n",
      "All indexes on  ouaga_osm_2017816_6_line created  in 0s\n",
      "Completed ouaga_osm_2017816_6_line\n",
      "Copying ouaga_osm_2017816_6_polygon to cluster by geometry finished\n",
      "Creating geometry index on  ouaga_osm_2017816_6_polygon\n",
      "Creating indexes on  ouaga_osm_2017816_6_polygon finished\n",
      "All indexes on  ouaga_osm_2017816_6_polygon created  in 0s\n",
      "Completed ouaga_osm_2017816_6_polygon\n",
      "Copying ouaga_osm_2017816_6_point to cluster by geometry finished\n",
      "Creating geometry index on  ouaga_osm_2017816_6_point\n",
      "Creating indexes on  ouaga_osm_2017816_6_point finished\n",
      "All indexes on  ouaga_osm_2017816_6_point created  in 1s\n",
      "Completed ouaga_osm_2017816_6_point\n",
      "\n",
      "Osm2pgsql took 2s overall\n",
      "\n"
     ]
    },
    {
     "name": "stdout",
     "output_type": "stream",
     "text": [
      "osm2pgsql SVN version 0.88.1 (64bit id space)\n",
      "\n",
      "Unknown flag 'nocolumn' line 161, ignored\n",
      "Unknown flag 'nocolumn' line 162, ignored\n",
      "Unknown flag 'nocolumn' line 163, ignored\n",
      "Unknown flag 'nocolumn' line 164, ignored\n",
      "Unknown flag 'nocolumn' line 165, ignored\n",
      "Unknown flag 'nocolumn' line 166, ignored\n",
      "Using built-in tag processing pipeline\n",
      "Using projection SRS 3857 (EPSG:3857)\n",
      "Setting up table: ouaga_osm_2017816_7_point\n",
      "Setting up table: ouaga_osm_2017816_7_line\n",
      "Setting up table: ouaga_osm_2017816_7_polygon\n",
      "Setting up table: ouaga_osm_2017816_7_roads\n",
      "Allocating memory for dense node cache\n",
      "Allocating dense node cache in one big chunk\n",
      "Allocating memory for sparse node cache\n",
      "Sharing dense sparse\n",
      "Node-cache: cache=800MB, maxblocks=102400*8192, allocation method=3\n",
      "Mid: Ram, scale=100\n",
      "\n",
      "Reading in file: /media/tais/data/MAUPP/Donnees_brutes/OSM/Ouagadougou/ouaga_osm_2017816_7.osm\n",
      "StartElement: Unknown element name: note\n",
      "Unknown node type 3\n",
      "EndElement: Unknown element name: note\n",
      "StartElement: Unknown element name: meta\n",
      "EndElement: Unknown element name: meta\n",
      "Processing: Node(94k 47.0k/s) Way(19k 19.48k/s) Relation(19 19.00/s)  parse time: 3s\n",
      "Node stats: total(94099), max(4995082163) in 2s\n",
      "Way stats: total(19475), max(510510732) in 1s\n",
      "Relation stats: total(19), max(7184678) in 0s\n",
      "Committing transaction for ouaga_osm_2017816_7_point\n",
      "Committing transaction for ouaga_osm_2017816_7_line\n",
      "Committing transaction for ouaga_osm_2017816_7_polygon\n",
      "Committing transaction for ouaga_osm_2017816_7_roads\n",
      "Using built-in tag processing pipeline\n",
      "\n",
      "Going over pending ways...\n",
      "\t15437 ways are pending\n",
      "\n",
      "Using 1 helper-processes\n",
      "Finished processing 15437 ways in 2 sec\n",
      "\n",
      "15437 Pending ways took 2s at a rate of 7718.50/s\n",
      "Committing transaction for ouaga_osm_2017816_7_point\n",
      "Committing transaction for ouaga_osm_2017816_7_line\n",
      "Committing transaction for ouaga_osm_2017816_7_polygon\n",
      "Committing transaction for ouaga_osm_2017816_7_roads\n",
      "\n",
      "Going over pending relations...\n",
      "\t0 relations are pending\n",
      "\n",
      "Using 1 helper-processes\n",
      "Finished processing 0 relations in 0 sec\n",
      "\n",
      "Committing transaction for ouaga_osm_2017816_7_point\n",
      "ATTENTION:  aucune transaction en cours\n",
      "Committing transaction for ouaga_osm_2017816_7_line\n",
      "ATTENTION:  aucune transaction en cours\n",
      "Committing transaction for ouaga_osm_2017816_7_polygon\n",
      "ATTENTION:  aucune transaction en cours\n",
      "Committing transaction for ouaga_osm_2017816_7_roads\n",
      "ATTENTION:  aucune transaction en cours\n",
      "Sorting data and creating indexes for ouaga_osm_2017816_7_point\n",
      "node cache: stored: 94099(100.00%), storage efficiency: 50.18% (dense blocks: 8, sparse nodes: 89657), hit rate: 100.00%\n",
      "Sorting data and creating indexes for ouaga_osm_2017816_7_line\n",
      "Sorting data and creating indexes for ouaga_osm_2017816_7_polygon\n",
      "Sorting data and creating indexes for ouaga_osm_2017816_7_roads\n",
      "Copying ouaga_osm_2017816_7_roads to cluster by geometry finished\n",
      "Creating geometry index on  ouaga_osm_2017816_7_roads\n",
      "Creating indexes on  ouaga_osm_2017816_7_roads finished\n",
      "All indexes on  ouaga_osm_2017816_7_roads created  in 0s\n",
      "Completed ouaga_osm_2017816_7_roads\n",
      "Copying ouaga_osm_2017816_7_line to cluster by geometry finished\n",
      "Creating geometry index on  ouaga_osm_2017816_7_line\n",
      "Creating indexes on  ouaga_osm_2017816_7_line finished\n",
      "All indexes on  ouaga_osm_2017816_7_line created  in 0s\n",
      "Completed ouaga_osm_2017816_7_line\n",
      "Copying ouaga_osm_2017816_7_polygon to cluster by geometry finished\n",
      "Creating geometry index on  ouaga_osm_2017816_7_polygon\n",
      "Creating indexes on  ouaga_osm_2017816_7_polygon finished\n",
      "All indexes on  ouaga_osm_2017816_7_polygon created  in 0s\n",
      "Completed ouaga_osm_2017816_7_polygon\n",
      "Copying ouaga_osm_2017816_7_point to cluster by geometry finished\n",
      "Creating geometry index on  ouaga_osm_2017816_7_point\n",
      "Creating indexes on  ouaga_osm_2017816_7_point finished\n",
      "All indexes on  ouaga_osm_2017816_7_point created  in 2s\n",
      "Completed ouaga_osm_2017816_7_point\n",
      "\n",
      "Osm2pgsql took 7s overall\n",
      "\n",
      "osm2pgsql SVN version 0.88.1 (64bit id space)\n",
      "\n",
      "Unknown flag 'nocolumn' line 161, ignored\n",
      "Unknown flag 'nocolumn' line 162, ignored\n",
      "Unknown flag 'nocolumn' line 163, ignored\n",
      "Unknown flag 'nocolumn' line 164, ignored\n",
      "Unknown flag 'nocolumn' line 165, ignored\n",
      "Unknown flag 'nocolumn' line 166, ignored\n",
      "Using built-in tag processing pipeline\n",
      "Using projection SRS 3857 (EPSG:3857)\n",
      "Setting up table: ouaga_osm_2017816_8_point\n",
      "Setting up table: ouaga_osm_2017816_8_line\n",
      "Setting up table: ouaga_osm_2017816_8_polygon\n",
      "Setting up table: ouaga_osm_2017816_8_roads\n",
      "Allocating memory for dense node cache\n",
      "Allocating dense node cache in one big chunk\n",
      "Allocating memory for sparse node cache\n",
      "Sharing dense sparse\n",
      "Node-cache: cache=800MB, maxblocks=102400*8192, allocation method=3\n",
      "Mid: Ram, scale=100\n",
      "\n",
      "Reading in file: /media/tais/data/MAUPP/Donnees_brutes/OSM/Ouagadougou/ouaga_osm_2017816_8.osm\n",
      "StartElement: Unknown element name: note\n",
      "Unknown node type 3\n",
      "EndElement: Unknown element name: note\n",
      "StartElement: Unknown element name: meta\n",
      "EndElement: Unknown element name: meta\n",
      "Processing: Node(41k 41.5k/s) Way(7k 7.71k/s) Relation(28 28.00/s)  parse time: 2s\n",
      "Node stats: total(41509), max(4979125379) in 1s\n",
      "Way stats: total(7714), max(506385157) in 1s\n",
      "Relation stats: total(28), max(7231302) in 0s\n",
      "Committing transaction for ouaga_osm_2017816_8_point\n",
      "Committing transaction for ouaga_osm_2017816_8_line\n",
      "Committing transaction for ouaga_osm_2017816_8_polygon\n",
      "Committing transaction for ouaga_osm_2017816_8_roads\n",
      "Using built-in tag processing pipeline\n",
      "\n",
      "Going over pending ways...\n",
      "\t5411 ways are pending\n",
      "\n",
      "Using 1 helper-processes\n",
      "Finished processing 5411 ways in 0 sec\n",
      "\n",
      "Committing transaction for ouaga_osm_2017816_8_point\n",
      "Committing transaction for ouaga_osm_2017816_8_line\n",
      "Committing transaction for ouaga_osm_2017816_8_polygon\n",
      "Committing transaction for ouaga_osm_2017816_8_roads\n",
      "\n",
      "Going over pending relations...\n",
      "\t0 relations are pending\n",
      "\n",
      "Using 1 helper-processes\n",
      "Finished processing 0 relations in 0 sec\n",
      "\n",
      "Committing transaction for ouaga_osm_2017816_8_point\n",
      "ATTENTION:  aucune transaction en cours\n",
      "Committing transaction for ouaga_osm_2017816_8_line\n",
      "ATTENTION:  aucune transaction en cours\n",
      "Committing transaction for ouaga_osm_2017816_8_polygon\n",
      "ATTENTION:  aucune transaction en cours\n",
      "Committing transaction for ouaga_osm_2017816_8_roads\n",
      "ATTENTION:  aucune transaction en cours\n",
      "Sorting data and creating indexes for ouaga_osm_2017816_8_point\n",
      "node cache: stored: 41509(100.00%), storage efficiency: 49.91% (dense blocks: 4, sparse nodes: 39536), hit rate: 100.00%\n",
      "Sorting data and creating indexes for ouaga_osm_2017816_8_line\n",
      "Sorting data and creating indexes for ouaga_osm_2017816_8_polygon\n",
      "Sorting data and creating indexes for ouaga_osm_2017816_8_roads\n",
      "Copying ouaga_osm_2017816_8_roads to cluster by geometry finished\n",
      "Creating geometry index on  ouaga_osm_2017816_8_roads\n",
      "Creating indexes on  ouaga_osm_2017816_8_roads finished\n",
      "All indexes on  ouaga_osm_2017816_8_roads created  in 0s\n",
      "Completed ouaga_osm_2017816_8_roads\n",
      "Copying ouaga_osm_2017816_8_line to cluster by geometry finished\n",
      "Creating geometry index on  ouaga_osm_2017816_8_line\n",
      "Creating indexes on  ouaga_osm_2017816_8_line finished\n",
      "All indexes on  ouaga_osm_2017816_8_line created  in 0s\n",
      "Completed ouaga_osm_2017816_8_line\n",
      "Copying ouaga_osm_2017816_8_polygon to cluster by geometry finished\n",
      "Creating geometry index on  ouaga_osm_2017816_8_polygon\n",
      "Creating indexes on  ouaga_osm_2017816_8_polygon finished\n",
      "All indexes on  ouaga_osm_2017816_8_polygon created  in 1s\n",
      "Completed ouaga_osm_2017816_8_polygon\n",
      "Copying ouaga_osm_2017816_8_point to cluster by geometry finished\n",
      "Creating geometry index on  ouaga_osm_2017816_8_point\n",
      "Creating indexes on  ouaga_osm_2017816_8_point finished\n",
      "All indexes on  ouaga_osm_2017816_8_point created  in 1s\n",
      "Completed ouaga_osm_2017816_8_point\n",
      "\n",
      "Osm2pgsql took 3s overall\n",
      "\n",
      "osm2pgsql SVN version 0.88.1 (64bit id space)\n",
      "\n",
      "Unknown flag 'nocolumn' line 161, ignored\n",
      "Unknown flag 'nocolumn' line 162, ignored\n",
      "Unknown flag 'nocolumn' line 163, ignored\n",
      "Unknown flag 'nocolumn' line 164, ignored\n",
      "Unknown flag 'nocolumn' line 165, ignored\n",
      "Unknown flag 'nocolumn' line 166, ignored\n",
      "Using built-in tag processing pipeline\n",
      "Using projection SRS 3857 (EPSG:3857)\n",
      "Setting up table: ouaga_osm_2017816_9_point\n",
      "Setting up table: ouaga_osm_2017816_9_line\n",
      "Setting up table: ouaga_osm_2017816_9_polygon\n",
      "Setting up table: ouaga_osm_2017816_9_roads\n",
      "Allocating memory for dense node cache\n",
      "Allocating dense node cache in one big chunk\n",
      "Allocating memory for sparse node cache\n",
      "Sharing dense sparse\n",
      "Node-cache: cache=800MB, maxblocks=102400*8192, allocation method=3\n",
      "Mid: Ram, scale=100\n",
      "\n",
      "Reading in file: /media/tais/data/MAUPP/Donnees_brutes/OSM/Ouagadougou/ouaga_osm_2017816_9.osm\n",
      "StartElement: Unknown element name: note\n",
      "Unknown node type 3\n",
      "EndElement: Unknown element name: note\n",
      "StartElement: Unknown element name: meta\n",
      "EndElement: Unknown element name: meta\n",
      "Processing: Node(53k 53.2k/s) Way(6k 6.12k/s) Relation(9 9.00/s)  parse time: 1s\n",
      "Node stats: total(53215), max(4979125379) in 1s\n",
      "Way stats: total(6116), max(508643791) in 0s\n",
      "Relation stats: total(9), max(7388014) in 0s\n",
      "Committing transaction for ouaga_osm_2017816_9_point\n",
      "Committing transaction for ouaga_osm_2017816_9_line\n",
      "Committing transaction for ouaga_osm_2017816_9_polygon\n",
      "Committing transaction for ouaga_osm_2017816_9_roads\n",
      "Using built-in tag processing pipeline\n",
      "\n",
      "Going over pending ways...\n",
      "\t3398 ways are pending\n",
      "\n",
      "Using 1 helper-processes\n",
      "Finished processing 3398 ways in 0 sec\n",
      "\n",
      "Committing transaction for ouaga_osm_2017816_9_point\n",
      "Committing transaction for ouaga_osm_2017816_9_line\n",
      "Committing transaction for ouaga_osm_2017816_9_polygon\n",
      "Committing transaction for ouaga_osm_2017816_9_roads\n",
      "\n",
      "Going over pending relations...\n",
      "\t0 relations are pending\n",
      "\n",
      "Using 1 helper-processes\n",
      "Finished processing 0 relations in 0 sec\n",
      "\n",
      "Committing transaction for ouaga_osm_2017816_9_point\n",
      "ATTENTION:  aucune transaction en cours\n",
      "Committing transaction for ouaga_osm_2017816_9_line\n",
      "ATTENTION:  aucune transaction en cours\n",
      "Committing transaction for ouaga_osm_2017816_9_polygon\n",
      "ATTENTION:  aucune transaction en cours\n",
      "Committing transaction for ouaga_osm_2017816_9_roads\n",
      "ATTENTION:  aucune transaction en cours\n",
      "Sorting data and creating indexes for ouaga_osm_2017816_9_point\n",
      "Sorting data and creating indexes for ouaga_osm_2017816_9_line\n",
      "node cache: stored: 53215(100.00%), storage efficiency: 51.93% (dense blocks: 15, sparse nodes: 43558), hit rate: 100.00%\n",
      "Sorting data and creating indexes for ouaga_osm_2017816_9_polygon\n",
      "Sorting data and creating indexes for ouaga_osm_2017816_9_roads\n",
      "Copying ouaga_osm_2017816_9_roads to cluster by geometry finished\n",
      "Creating geometry index on  ouaga_osm_2017816_9_roads\n",
      "Creating indexes on  ouaga_osm_2017816_9_roads finished\n",
      "All indexes on  ouaga_osm_2017816_9_roads created  in 0s\n",
      "Completed ouaga_osm_2017816_9_roads\n",
      "Copying ouaga_osm_2017816_9_line to cluster by geometry finished\n",
      "Creating geometry index on  ouaga_osm_2017816_9_line\n",
      "Copying ouaga_osm_2017816_9_polygon to cluster by geometry finished\n",
      "Creating geometry index on  ouaga_osm_2017816_9_polygon\n",
      "Creating indexes on  ouaga_osm_2017816_9_line finished\n",
      "Creating indexes on  ouaga_osm_2017816_9_polygon finished\n",
      "All indexes on  ouaga_osm_2017816_9_line created  in 0s\n",
      "Completed ouaga_osm_2017816_9_line\n",
      "All indexes on  ouaga_osm_2017816_9_polygon created  in 0s\n",
      "Completed ouaga_osm_2017816_9_polygon\n",
      "Copying ouaga_osm_2017816_9_point to cluster by geometry finished\n",
      "Creating geometry index on  ouaga_osm_2017816_9_point\n",
      "Creating indexes on  ouaga_osm_2017816_9_point finished\n",
      "All indexes on  ouaga_osm_2017816_9_point created  in 1s\n",
      "Completed ouaga_osm_2017816_9_point\n",
      "\n",
      "Osm2pgsql took 4s overall\n",
      "\n"
     ]
    },
    {
     "name": "stdout",
     "output_type": "stream",
     "text": [
      "osm2pgsql SVN version 0.88.1 (64bit id space)\n",
      "\n",
      "Unknown flag 'nocolumn' line 161, ignored\n",
      "Unknown flag 'nocolumn' line 162, ignored\n",
      "Unknown flag 'nocolumn' line 163, ignored\n",
      "Unknown flag 'nocolumn' line 164, ignored\n",
      "Unknown flag 'nocolumn' line 165, ignored\n",
      "Unknown flag 'nocolumn' line 166, ignored\n",
      "Using built-in tag processing pipeline\n",
      "Using projection SRS 3857 (EPSG:3857)\n",
      "Setting up table: ouaga_osm_2017816_10_point\n",
      "Setting up table: ouaga_osm_2017816_10_line\n",
      "Setting up table: ouaga_osm_2017816_10_polygon\n",
      "Setting up table: ouaga_osm_2017816_10_roads\n",
      "Allocating memory for dense node cache\n",
      "Allocating dense node cache in one big chunk\n",
      "Allocating memory for sparse node cache\n",
      "Sharing dense sparse\n",
      "Node-cache: cache=800MB, maxblocks=102400*8192, allocation method=3\n",
      "Mid: Ram, scale=100\n",
      "\n",
      "Reading in file: /media/tais/data/MAUPP/Donnees_brutes/OSM/Ouagadougou/ouaga_osm_2017816_10.osm\n",
      "StartElement: Unknown element name: note\n",
      "Unknown node type 3\n",
      "EndElement: Unknown element name: note\n",
      "StartElement: Unknown element name: meta\n",
      "EndElement: Unknown element name: meta\n",
      "Processing: Node(85k 43.0k/s) Way(19k 19.36k/s) Relation(38 38.00/s)  parse time: 2s\n",
      "Node stats: total(85906), max(5008489469) in 2s\n",
      "Way stats: total(19361), max(509793663) in 0s\n",
      "Relation stats: total(38), max(7415298) in 0s\n",
      "Committing transaction for ouaga_osm_2017816_10_point\n",
      "Committing transaction for ouaga_osm_2017816_10_line\n",
      "Committing transaction for ouaga_osm_2017816_10_polygon\n",
      "Committing transaction for ouaga_osm_2017816_10_roads\n",
      "Using built-in tag processing pipeline\n",
      "\n",
      "Going over pending ways...\n",
      "\t15424 ways are pending\n",
      "\n",
      "Using 1 helper-processes\n",
      "Finished processing 15424 ways in 1 sec\n",
      "\n",
      "15424 Pending ways took 1s at a rate of 15424.00/s\n",
      "Committing transaction for ouaga_osm_2017816_10_point\n",
      "Committing transaction for ouaga_osm_2017816_10_line\n",
      "Committing transaction for ouaga_osm_2017816_10_polygon\n",
      "Committing transaction for ouaga_osm_2017816_10_roads\n",
      "\n",
      "Going over pending relations...\n",
      "\t0 relations are pending\n",
      "\n",
      "Using 1 helper-processes\n",
      "Finished processing 0 relations in 0 sec\n",
      "\n",
      "Committing transaction for ouaga_osm_2017816_10_point\n",
      "ATTENTION:  aucune transaction en cours\n",
      "Committing transaction for ouaga_osm_2017816_10_line\n",
      "ATTENTION:  aucune transaction en cours\n",
      "Committing transaction for ouaga_osm_2017816_10_polygon\n",
      "ATTENTION:  aucune transaction en cours\n",
      "Committing transaction for ouaga_osm_2017816_10_roads\n",
      "ATTENTION:  aucune transaction en cours\n",
      "Sorting data and creating indexes for ouaga_osm_2017816_10_point\n",
      "Sorting data and creating indexes for ouaga_osm_2017816_10_roads\n",
      "node cache: stored: 85906(100.00%), storage efficiency: 49.92% (dense blocks: 5, sparse nodes: 83477), hit rate: 100.00%\n",
      "Sorting data and creating indexes for ouaga_osm_2017816_10_line\n",
      "Sorting data and creating indexes for ouaga_osm_2017816_10_polygon\n",
      "Copying ouaga_osm_2017816_10_roads to cluster by geometry finished\n",
      "Creating geometry index on  ouaga_osm_2017816_10_roads\n",
      "Creating indexes on  ouaga_osm_2017816_10_roads finished\n",
      "All indexes on  ouaga_osm_2017816_10_roads created  in 0s\n",
      "Completed ouaga_osm_2017816_10_roads\n",
      "Copying ouaga_osm_2017816_10_line to cluster by geometry finished\n",
      "Creating geometry index on  ouaga_osm_2017816_10_line\n",
      "Creating indexes on  ouaga_osm_2017816_10_line finished\n",
      "All indexes on  ouaga_osm_2017816_10_line created  in 0s\n",
      "Completed ouaga_osm_2017816_10_line\n",
      "Copying ouaga_osm_2017816_10_polygon to cluster by geometry finished\n",
      "Creating geometry index on  ouaga_osm_2017816_10_polygon\n",
      "Creating indexes on  ouaga_osm_2017816_10_polygon finished\n",
      "All indexes on  ouaga_osm_2017816_10_polygon created  in 1s\n",
      "Completed ouaga_osm_2017816_10_polygon\n",
      "Copying ouaga_osm_2017816_10_point to cluster by geometry finished\n",
      "Creating geometry index on  ouaga_osm_2017816_10_point\n",
      "Creating indexes on  ouaga_osm_2017816_10_point finished\n",
      "All indexes on  ouaga_osm_2017816_10_point created  in 2s\n",
      "Completed ouaga_osm_2017816_10_point\n",
      "\n",
      "Osm2pgsql took 6s overall\n",
      "\n",
      "osm2pgsql SVN version 0.88.1 (64bit id space)\n",
      "\n",
      "Unknown flag 'nocolumn' line 161, ignored\n",
      "Unknown flag 'nocolumn' line 162, ignored\n",
      "Unknown flag 'nocolumn' line 163, ignored\n",
      "Unknown flag 'nocolumn' line 164, ignored\n",
      "Unknown flag 'nocolumn' line 165, ignored\n",
      "Unknown flag 'nocolumn' line 166, ignored\n",
      "Using built-in tag processing pipeline\n",
      "Using projection SRS 3857 (EPSG:3857)\n",
      "Setting up table: ouaga_osm_2017816_11_point\n",
      "Setting up table: ouaga_osm_2017816_11_line\n",
      "Setting up table: ouaga_osm_2017816_11_polygon\n",
      "Setting up table: ouaga_osm_2017816_11_roads\n",
      "Allocating memory for dense node cache\n",
      "Allocating dense node cache in one big chunk\n",
      "Allocating memory for sparse node cache\n",
      "Sharing dense sparse\n",
      "Node-cache: cache=800MB, maxblocks=102400*8192, allocation method=3\n",
      "Mid: Ram, scale=100\n",
      "\n",
      "Reading in file: /media/tais/data/MAUPP/Donnees_brutes/OSM/Ouagadougou/ouaga_osm_2017816_11.osm\n",
      "StartElement: Unknown element name: note\n",
      "Unknown node type 3\n",
      "EndElement: Unknown element name: note\n",
      "StartElement: Unknown element name: meta\n",
      "EndElement: Unknown element name: meta\n",
      "Processing: Node(16k 16.1k/s) Way(1k 1.08k/s) Relation(5 5.00/s)  parse time: 0s\n",
      "Node stats: total(16084), max(4979125379) in 0s\n",
      "Way stats: total(1081), max(508643846) in 0s\n",
      "Relation stats: total(5), max(5675758) in 0s\n",
      "Committing transaction for ouaga_osm_2017816_11_point\n",
      "Committing transaction for ouaga_osm_2017816_11_line\n",
      "Committing transaction for ouaga_osm_2017816_11_polygon\n",
      "Committing transaction for ouaga_osm_2017816_11_roads\n",
      "Using built-in tag processing pipeline\n",
      "\n",
      "Going over pending ways...\n",
      "\t503 ways are pending\n",
      "\n",
      "Using 1 helper-processes\n",
      "Finished processing 503 ways in 0 sec\n",
      "\n",
      "Committing transaction for ouaga_osm_2017816_11_point\n",
      "Committing transaction for ouaga_osm_2017816_11_line\n",
      "Committing transaction for ouaga_osm_2017816_11_polygon\n",
      "Committing transaction for ouaga_osm_2017816_11_roads\n",
      "\n",
      "Going over pending relations...\n",
      "\t0 relations are pending\n",
      "\n",
      "Using 1 helper-processes\n",
      "Finished processing 0 relations in 0 sec\n",
      "\n",
      "Committing transaction for ouaga_osm_2017816_11_point\n",
      "ATTENTION:  aucune transaction en cours\n",
      "Committing transaction for ouaga_osm_2017816_11_line\n",
      "ATTENTION:  aucune transaction en cours\n",
      "Committing transaction for ouaga_osm_2017816_11_polygon\n",
      "ATTENTION:  aucune transaction en cours\n",
      "Committing transaction for ouaga_osm_2017816_11_roads\n",
      "ATTENTION:  aucune transaction en cours\n",
      "Sorting data and creating indexes for ouaga_osm_2017816_11_point\n",
      "Sorting data and creating indexes for ouaga_osm_2017816_11_line\n",
      "node cache: stored: 16084(100.00%), storage efficiency: 53.28% (dense blocks: 5, sparse nodes: 12535), hit rate: 100.00%\n",
      "Sorting data and creating indexes for ouaga_osm_2017816_11_polygon\n",
      "Sorting data and creating indexes for ouaga_osm_2017816_11_roads\n",
      "Copying ouaga_osm_2017816_11_roads to cluster by geometry finished\n",
      "Creating geometry index on  ouaga_osm_2017816_11_roads\n",
      "Creating indexes on  ouaga_osm_2017816_11_roads finished\n",
      "All indexes on  ouaga_osm_2017816_11_roads created  in 0s\n",
      "Completed ouaga_osm_2017816_11_roads\n",
      "Copying ouaga_osm_2017816_11_polygon to cluster by geometry finished\n",
      "Creating geometry index on  ouaga_osm_2017816_11_polygon\n",
      "Creating indexes on  ouaga_osm_2017816_11_polygon finished\n",
      "Copying ouaga_osm_2017816_11_line to cluster by geometry finished\n",
      "Creating geometry index on  ouaga_osm_2017816_11_line\n",
      "All indexes on  ouaga_osm_2017816_11_polygon created  in 0s\n",
      "Completed ouaga_osm_2017816_11_polygon\n",
      "Creating indexes on  ouaga_osm_2017816_11_line finished\n",
      "All indexes on  ouaga_osm_2017816_11_line created  in 0s\n",
      "Completed ouaga_osm_2017816_11_line\n",
      "Copying ouaga_osm_2017816_11_point to cluster by geometry finished\n",
      "Creating geometry index on  ouaga_osm_2017816_11_point\n",
      "Creating indexes on  ouaga_osm_2017816_11_point finished\n",
      "All indexes on  ouaga_osm_2017816_11_point created  in 0s\n",
      "Completed ouaga_osm_2017816_11_point\n",
      "\n",
      "Osm2pgsql took 2s overall\n",
      "\n",
      "osm2pgsql SVN version 0.88.1 (64bit id space)\n",
      "\n",
      "Unknown flag 'nocolumn' line 161, ignored\n",
      "Unknown flag 'nocolumn' line 162, ignored\n",
      "Unknown flag 'nocolumn' line 163, ignored\n",
      "Unknown flag 'nocolumn' line 164, ignored\n",
      "Unknown flag 'nocolumn' line 165, ignored\n",
      "Unknown flag 'nocolumn' line 166, ignored\n",
      "Using built-in tag processing pipeline\n",
      "Using projection SRS 3857 (EPSG:3857)\n",
      "Setting up table: ouaga_osm_2017816_12_point\n",
      "Setting up table: ouaga_osm_2017816_12_line\n",
      "Setting up table: ouaga_osm_2017816_12_polygon\n",
      "Setting up table: ouaga_osm_2017816_12_roads\n",
      "Allocating memory for dense node cache\n",
      "Allocating dense node cache in one big chunk\n",
      "Allocating memory for sparse node cache\n",
      "Sharing dense sparse\n",
      "Node-cache: cache=800MB, maxblocks=102400*8192, allocation method=3\n",
      "Mid: Ram, scale=100\n",
      "\n",
      "Reading in file: /media/tais/data/MAUPP/Donnees_brutes/OSM/Ouagadougou/ouaga_osm_2017816_12.osm\n",
      "StartElement: Unknown element name: note\n",
      "Unknown node type 3\n",
      "EndElement: Unknown element name: note\n",
      "StartElement: Unknown element name: meta\n",
      "EndElement: Unknown element name: meta\n",
      "Processing: Node(17k 17.4k/s) Way(2k 2.30k/s) Relation(4 4.00/s)  parse time: 1s\n",
      "Node stats: total(17424), max(4985055924) in 1s\n",
      "Way stats: total(2299), max(506465485) in 0s\n",
      "Relation stats: total(4), max(5675758) in 0s\n",
      "Committing transaction for ouaga_osm_2017816_12_point\n",
      "Committing transaction for ouaga_osm_2017816_12_line\n",
      "Committing transaction for ouaga_osm_2017816_12_polygon\n",
      "Committing transaction for ouaga_osm_2017816_12_roads\n",
      "Using built-in tag processing pipeline\n",
      "\n",
      "Going over pending ways...\n",
      "\t1095 ways are pending\n",
      "\n",
      "Using 1 helper-processes\n",
      "Finished processing 1095 ways in 0 sec\n",
      "\n",
      "Committing transaction for ouaga_osm_2017816_12_point\n",
      "Committing transaction for ouaga_osm_2017816_12_line\n",
      "Committing transaction for ouaga_osm_2017816_12_polygon\n",
      "Committing transaction for ouaga_osm_2017816_12_roads\n",
      "\n",
      "Going over pending relations...\n",
      "\t0 relations are pending\n",
      "\n",
      "Using 1 helper-processes\n",
      "Finished processing 0 relations in 0 sec\n",
      "\n",
      "Committing transaction for ouaga_osm_2017816_12_point\n",
      "ATTENTION:  aucune transaction en cours\n",
      "Committing transaction for ouaga_osm_2017816_12_line\n",
      "ATTENTION:  aucune transaction en cours\n",
      "Committing transaction for ouaga_osm_2017816_12_polygon\n",
      "ATTENTION:  aucune transaction en cours\n",
      "Committing transaction for ouaga_osm_2017816_12_roads\n",
      "ATTENTION:  aucune transaction en cours\n",
      "Sorting data and creating indexes for ouaga_osm_2017816_12_point\n",
      "node cache: stored: 17424(100.00%), storage efficiency: 49.34% (dense blocks: 3, sparse nodes: 16122), hit rate: 100.00%\n",
      "Sorting data and creating indexes for ouaga_osm_2017816_12_line\n",
      "Sorting data and creating indexes for ouaga_osm_2017816_12_polygon\n",
      "Sorting data and creating indexes for ouaga_osm_2017816_12_roads\n",
      "Copying ouaga_osm_2017816_12_roads to cluster by geometry finished\n",
      "Creating geometry index on  ouaga_osm_2017816_12_roads\n",
      "Creating indexes on  ouaga_osm_2017816_12_roads finished\n",
      "All indexes on  ouaga_osm_2017816_12_roads created  in 1s\n",
      "Completed ouaga_osm_2017816_12_roads\n",
      "Copying ouaga_osm_2017816_12_polygon to cluster by geometry finished\n",
      "Creating geometry index on  ouaga_osm_2017816_12_polygon\n",
      "Copying ouaga_osm_2017816_12_line to cluster by geometry finished\n",
      "Creating geometry index on  ouaga_osm_2017816_12_line\n",
      "Creating indexes on  ouaga_osm_2017816_12_polygon finished\n",
      "Creating indexes on  ouaga_osm_2017816_12_line finished\n",
      "All indexes on  ouaga_osm_2017816_12_polygon created  in 1s\n",
      "Completed ouaga_osm_2017816_12_polygon\n",
      "All indexes on  ouaga_osm_2017816_12_line created  in 1s\n",
      "Completed ouaga_osm_2017816_12_line\n",
      "Copying ouaga_osm_2017816_12_point to cluster by geometry finished\n",
      "Creating geometry index on  ouaga_osm_2017816_12_point\n",
      "Creating indexes on  ouaga_osm_2017816_12_point finished\n",
      "All indexes on  ouaga_osm_2017816_12_point created  in 1s\n",
      "Completed ouaga_osm_2017816_12_point\n",
      "\n",
      "Osm2pgsql took 2s overall\n",
      "\n"
     ]
    },
    {
     "name": "stdout",
     "output_type": "stream",
     "text": [
      "osm2pgsql SVN version 0.88.1 (64bit id space)\n",
      "\n",
      "Unknown flag 'nocolumn' line 161, ignored\n",
      "Unknown flag 'nocolumn' line 162, ignored\n",
      "Unknown flag 'nocolumn' line 163, ignored\n",
      "Unknown flag 'nocolumn' line 164, ignored\n",
      "Unknown flag 'nocolumn' line 165, ignored\n",
      "Unknown flag 'nocolumn' line 166, ignored\n",
      "Using built-in tag processing pipeline\n",
      "Using projection SRS 3857 (EPSG:3857)\n",
      "Setting up table: ouaga_osm_2017816_13_point\n",
      "Setting up table: ouaga_osm_2017816_13_line\n",
      "Setting up table: ouaga_osm_2017816_13_polygon\n",
      "Setting up table: ouaga_osm_2017816_13_roads\n",
      "Allocating memory for dense node cache\n",
      "Allocating dense node cache in one big chunk\n",
      "Allocating memory for sparse node cache\n",
      "Sharing dense sparse\n",
      "Node-cache: cache=800MB, maxblocks=102400*8192, allocation method=3\n",
      "Mid: Ram, scale=100\n",
      "\n",
      "Reading in file: /media/tais/data/MAUPP/Donnees_brutes/OSM/Ouagadougou/ouaga_osm_2017816_13.osm\n",
      "StartElement: Unknown element name: note\n",
      "Unknown node type 3\n",
      "EndElement: Unknown element name: note\n",
      "StartElement: Unknown element name: meta\n",
      "EndElement: Unknown element name: meta\n",
      "Processing: Node(72k 36.5k/s) Way(15k 15.45k/s) Relation(48 48.00/s)  parse time: 2s\n",
      "Node stats: total(72953), max(5038902693) in 2s\n",
      "Way stats: total(15451), max(516069400) in 0s\n",
      "Relation stats: total(48), max(7184678) in 0s\n",
      "Committing transaction for ouaga_osm_2017816_13_point\n",
      "Committing transaction for ouaga_osm_2017816_13_line\n",
      "Committing transaction for ouaga_osm_2017816_13_polygon\n",
      "Committing transaction for ouaga_osm_2017816_13_roads\n",
      "Using built-in tag processing pipeline\n",
      "\n",
      "Going over pending ways...\n",
      "\t11965 ways are pending\n",
      "\n",
      "Using 1 helper-processes\n",
      "Finished processing 11965 ways in 1 sec\n",
      "\n",
      "11965 Pending ways took 1s at a rate of 11965.00/s\n",
      "Committing transaction for ouaga_osm_2017816_13_point\n",
      "Committing transaction for ouaga_osm_2017816_13_line\n",
      "Committing transaction for ouaga_osm_2017816_13_polygon\n",
      "Committing transaction for ouaga_osm_2017816_13_roads\n",
      "\n",
      "Going over pending relations...\n",
      "\t0 relations are pending\n",
      "\n",
      "Using 1 helper-processes\n",
      "Finished processing 0 relations in 0 sec\n",
      "\n",
      "Committing transaction for ouaga_osm_2017816_13_point\n",
      "ATTENTION:  aucune transaction en cours\n",
      "Committing transaction for ouaga_osm_2017816_13_line\n",
      "ATTENTION:  aucune transaction en cours\n",
      "Committing transaction for ouaga_osm_2017816_13_polygon\n",
      "ATTENTION:  aucune transaction en cours\n",
      "Committing transaction for ouaga_osm_2017816_13_roads\n",
      "ATTENTION:  aucune transaction en cours\n",
      "node cache: stored: 72953(100.00%), storage efficiency: 51.25% (dense blocks: 10, sparse nodes: 66051), hit rate: 100.00%\n",
      "Sorting data and creating indexes for ouaga_osm_2017816_13_point\n",
      "Sorting data and creating indexes for ouaga_osm_2017816_13_line\n",
      "Sorting data and creating indexes for ouaga_osm_2017816_13_polygon\n",
      "Sorting data and creating indexes for ouaga_osm_2017816_13_roads\n",
      "Copying ouaga_osm_2017816_13_roads to cluster by geometry finished\n",
      "Creating geometry index on  ouaga_osm_2017816_13_roads\n",
      "Creating indexes on  ouaga_osm_2017816_13_roads finished\n",
      "All indexes on  ouaga_osm_2017816_13_roads created  in 0s\n",
      "Completed ouaga_osm_2017816_13_roads\n",
      "Copying ouaga_osm_2017816_13_line to cluster by geometry finished\n",
      "Creating geometry index on  ouaga_osm_2017816_13_line\n",
      "Creating indexes on  ouaga_osm_2017816_13_line finished\n",
      "All indexes on  ouaga_osm_2017816_13_line created  in 0s\n",
      "Completed ouaga_osm_2017816_13_line\n",
      "Copying ouaga_osm_2017816_13_polygon to cluster by geometry finished\n",
      "Creating geometry index on  ouaga_osm_2017816_13_polygon\n",
      "Creating indexes on  ouaga_osm_2017816_13_polygon finished\n",
      "All indexes on  ouaga_osm_2017816_13_polygon created  in 0s\n",
      "Completed ouaga_osm_2017816_13_polygon\n",
      "Copying ouaga_osm_2017816_13_point to cluster by geometry finished\n",
      "Creating geometry index on  ouaga_osm_2017816_13_point\n",
      "Creating indexes on  ouaga_osm_2017816_13_point finished\n",
      "All indexes on  ouaga_osm_2017816_13_point created  in 2s\n",
      "Completed ouaga_osm_2017816_13_point\n",
      "\n",
      "Osm2pgsql took 6s overall\n",
      "\n",
      "osm2pgsql SVN version 0.88.1 (64bit id space)\n",
      "\n",
      "Unknown flag 'nocolumn' line 161, ignored\n",
      "Unknown flag 'nocolumn' line 162, ignored\n",
      "Unknown flag 'nocolumn' line 163, ignored\n",
      "Unknown flag 'nocolumn' line 164, ignored\n",
      "Unknown flag 'nocolumn' line 165, ignored\n",
      "Unknown flag 'nocolumn' line 166, ignored\n",
      "Using built-in tag processing pipeline\n",
      "Using projection SRS 3857 (EPSG:3857)\n",
      "Setting up table: ouaga_osm_2017816_14_point\n",
      "Setting up table: ouaga_osm_2017816_14_line\n",
      "Setting up table: ouaga_osm_2017816_14_polygon\n",
      "Setting up table: ouaga_osm_2017816_14_roads\n",
      "Allocating memory for dense node cache\n",
      "Allocating dense node cache in one big chunk\n",
      "Allocating memory for sparse node cache\n",
      "Sharing dense sparse\n",
      "Node-cache: cache=800MB, maxblocks=102400*8192, allocation method=3\n",
      "Mid: Ram, scale=100\n",
      "\n",
      "Reading in file: /media/tais/data/MAUPP/Donnees_brutes/OSM/Ouagadougou/ouaga_osm_2017816_14.osm\n",
      "StartElement: Unknown element name: note\n",
      "Unknown node type 3\n",
      "EndElement: Unknown element name: note\n",
      "StartElement: Unknown element name: meta\n",
      "EndElement: Unknown element name: meta\n",
      "Processing: Node(14k 14.7k/s) Way(1k 1.85k/s) Relation(7 7.00/s)  parse time: 1s\n",
      "Node stats: total(14682), max(4979125379) in 1s\n",
      "Way stats: total(1848), max(506388078) in 0s\n",
      "Relation stats: total(7), max(7184678) in 0s\n",
      "Committing transaction for ouaga_osm_2017816_14_point\n",
      "Committing transaction for ouaga_osm_2017816_14_line\n",
      "Committing transaction for ouaga_osm_2017816_14_polygon\n",
      "Committing transaction for ouaga_osm_2017816_14_roads\n",
      "Using built-in tag processing pipeline\n",
      "\n",
      "Going over pending ways...\n",
      "\t411 ways are pending\n",
      "\n",
      "Using 1 helper-processes\n",
      "Finished processing 411 ways in 0 sec\n",
      "\n",
      "Committing transaction for ouaga_osm_2017816_14_point\n",
      "Committing transaction for ouaga_osm_2017816_14_line\n",
      "Committing transaction for ouaga_osm_2017816_14_polygon\n",
      "Committing transaction for ouaga_osm_2017816_14_roads\n",
      "\n",
      "Going over pending relations...\n",
      "\t0 relations are pending\n",
      "\n",
      "Using 1 helper-processes\n",
      "Finished processing 0 relations in 0 sec\n",
      "\n",
      "Committing transaction for ouaga_osm_2017816_14_point\n",
      "ATTENTION:  aucune transaction en cours\n",
      "Committing transaction for ouaga_osm_2017816_14_line\n",
      "ATTENTION:  aucune transaction en cours\n",
      "Committing transaction for ouaga_osm_2017816_14_polygon\n",
      "ATTENTION:  aucune transaction en cours\n",
      "Committing transaction for ouaga_osm_2017816_14_roads\n",
      "ATTENTION:  aucune transaction en cours\n",
      "node cache: stored: 14682(100.00%), storage efficiency: 49.29% (dense blocks: 3, sparse nodes: 13357), hit rate: 100.00%\n",
      "Sorting data and creating indexes for ouaga_osm_2017816_14_point\n",
      "Sorting data and creating indexes for ouaga_osm_2017816_14_line\n",
      "Sorting data and creating indexes for ouaga_osm_2017816_14_polygon\n",
      "Sorting data and creating indexes for ouaga_osm_2017816_14_roads\n",
      "Copying ouaga_osm_2017816_14_roads to cluster by geometry finished\n",
      "Creating geometry index on  ouaga_osm_2017816_14_roads\n",
      "Creating indexes on  ouaga_osm_2017816_14_roads finished\n",
      "All indexes on  ouaga_osm_2017816_14_roads created  in 0s\n",
      "Completed ouaga_osm_2017816_14_roads\n",
      "Copying ouaga_osm_2017816_14_polygon to cluster by geometry finished\n",
      "Creating geometry index on  ouaga_osm_2017816_14_polygon\n",
      "Creating indexes on  ouaga_osm_2017816_14_polygon finished\n",
      "Copying ouaga_osm_2017816_14_line to cluster by geometry finished\n",
      "Creating geometry index on  ouaga_osm_2017816_14_line\n",
      "All indexes on  ouaga_osm_2017816_14_polygon created  in 0s\n",
      "Completed ouaga_osm_2017816_14_polygon\n",
      "Creating indexes on  ouaga_osm_2017816_14_line finished\n",
      "All indexes on  ouaga_osm_2017816_14_line created  in 0s\n",
      "Completed ouaga_osm_2017816_14_line\n",
      "Copying ouaga_osm_2017816_14_point to cluster by geometry finished\n",
      "Creating geometry index on  ouaga_osm_2017816_14_point\n",
      "Creating indexes on  ouaga_osm_2017816_14_point finished\n",
      "All indexes on  ouaga_osm_2017816_14_point created  in 0s\n",
      "Completed ouaga_osm_2017816_14_point\n",
      "\n",
      "Osm2pgsql took 1s overall\n",
      "\n",
      "osm2pgsql SVN version 0.88.1 (64bit id space)\n",
      "\n",
      "Unknown flag 'nocolumn' line 161, ignored\n",
      "Unknown flag 'nocolumn' line 162, ignored\n",
      "Unknown flag 'nocolumn' line 163, ignored\n",
      "Unknown flag 'nocolumn' line 164, ignored\n",
      "Unknown flag 'nocolumn' line 165, ignored\n",
      "Unknown flag 'nocolumn' line 166, ignored\n",
      "Using built-in tag processing pipeline\n",
      "Using projection SRS 3857 (EPSG:3857)\n",
      "Setting up table: ouaga_osm_2017816_15_point\n",
      "Setting up table: ouaga_osm_2017816_15_line\n",
      "Setting up table: ouaga_osm_2017816_15_polygon\n",
      "Setting up table: ouaga_osm_2017816_15_roads\n",
      "Allocating memory for dense node cache\n",
      "Allocating dense node cache in one big chunk\n",
      "Allocating memory for sparse node cache\n",
      "Sharing dense sparse\n",
      "Node-cache: cache=800MB, maxblocks=102400*8192, allocation method=3\n",
      "Mid: Ram, scale=100\n",
      "\n",
      "Reading in file: /media/tais/data/MAUPP/Donnees_brutes/OSM/Ouagadougou/ouaga_osm_2017816_15.osm\n",
      "StartElement: Unknown element name: note\n",
      "Unknown node type 3\n",
      "EndElement: Unknown element name: note\n",
      "StartElement: Unknown element name: meta\n",
      "EndElement: Unknown element name: meta\n",
      "Processing: Node(56k 56.5k/s) Way(12k 12.21k/s) Relation(6 6.00/s)  parse time: 1s\n",
      "Node stats: total(56529), max(5036700468) in 1s\n",
      "Way stats: total(12215), max(515829845) in 0s\n",
      "Relation stats: total(6), max(5675758) in 0s\n",
      "Committing transaction for ouaga_osm_2017816_15_point\n",
      "Committing transaction for ouaga_osm_2017816_15_line\n",
      "Committing transaction for ouaga_osm_2017816_15_polygon\n",
      "Committing transaction for ouaga_osm_2017816_15_roads\n",
      "Using built-in tag processing pipeline\n",
      "\n",
      "Going over pending ways...\n",
      "\t9730 ways are pending\n",
      "\n",
      "Using 1 helper-processes\n",
      "Finished processing 9730 ways in 1 sec\n",
      "\n",
      "9730 Pending ways took 1s at a rate of 9730.00/s\n",
      "Committing transaction for ouaga_osm_2017816_15_point\n",
      "Committing transaction for ouaga_osm_2017816_15_line\n",
      "Committing transaction for ouaga_osm_2017816_15_polygon\n",
      "Committing transaction for ouaga_osm_2017816_15_roads\n",
      "\n",
      "Going over pending relations...\n",
      "\t0 relations are pending\n",
      "\n",
      "Using 1 helper-processes\n",
      "Finished processing 0 relations in 0 sec\n",
      "\n",
      "Committing transaction for ouaga_osm_2017816_15_point\n",
      "ATTENTION:  aucune transaction en cours\n",
      "Committing transaction for ouaga_osm_2017816_15_line\n",
      "ATTENTION:  aucune transaction en cours\n",
      "Committing transaction for ouaga_osm_2017816_15_polygon\n",
      "ATTENTION:  aucune transaction en cours\n",
      "Committing transaction for ouaga_osm_2017816_15_roads\n",
      "ATTENTION:  aucune transaction en cours\n",
      "node cache: stored: 56529(100.00%), storage efficiency: 50.21% (dense blocks: 6, sparse nodes: 53224), hit rate: 100.00%\n",
      "Sorting data and creating indexes for ouaga_osm_2017816_15_point\n",
      "Sorting data and creating indexes for ouaga_osm_2017816_15_line\n",
      "Sorting data and creating indexes for ouaga_osm_2017816_15_polygon\n",
      "Sorting data and creating indexes for ouaga_osm_2017816_15_roads\n",
      "Copying ouaga_osm_2017816_15_roads to cluster by geometry finished\n",
      "Creating geometry index on  ouaga_osm_2017816_15_roads\n",
      "Creating indexes on  ouaga_osm_2017816_15_roads finished\n",
      "All indexes on  ouaga_osm_2017816_15_roads created  in 0s\n",
      "Completed ouaga_osm_2017816_15_roads\n",
      "Copying ouaga_osm_2017816_15_line to cluster by geometry finished\n",
      "Creating geometry index on  ouaga_osm_2017816_15_line\n",
      "Creating indexes on  ouaga_osm_2017816_15_line finished\n",
      "All indexes on  ouaga_osm_2017816_15_line created  in 0s\n",
      "Completed ouaga_osm_2017816_15_line\n",
      "Copying ouaga_osm_2017816_15_polygon to cluster by geometry finished\n",
      "Creating geometry index on  ouaga_osm_2017816_15_polygon\n",
      "Creating indexes on  ouaga_osm_2017816_15_polygon finished\n",
      "All indexes on  ouaga_osm_2017816_15_polygon created  in 0s\n",
      "Completed ouaga_osm_2017816_15_polygon\n",
      "Copying ouaga_osm_2017816_15_point to cluster by geometry finished\n",
      "Creating geometry index on  ouaga_osm_2017816_15_point\n",
      "Creating indexes on  ouaga_osm_2017816_15_point finished\n",
      "All indexes on  ouaga_osm_2017816_15_point created  in 1s\n",
      "Completed ouaga_osm_2017816_15_point\n",
      "\n",
      "Osm2pgsql took 4s overall\n",
      "\n"
     ]
    },
    {
     "name": "stdout",
     "output_type": "stream",
     "text": [
      "osm2pgsql SVN version 0.88.1 (64bit id space)\n",
      "\n",
      "Unknown flag 'nocolumn' line 161, ignored\n",
      "Unknown flag 'nocolumn' line 162, ignored\n",
      "Unknown flag 'nocolumn' line 163, ignored\n",
      "Unknown flag 'nocolumn' line 164, ignored\n",
      "Unknown flag 'nocolumn' line 165, ignored\n",
      "Unknown flag 'nocolumn' line 166, ignored\n",
      "Using built-in tag processing pipeline\n",
      "Using projection SRS 3857 (EPSG:3857)\n",
      "Setting up table: ouaga_osm_2017816_16_point\n",
      "Setting up table: ouaga_osm_2017816_16_line\n",
      "Setting up table: ouaga_osm_2017816_16_polygon\n",
      "Setting up table: ouaga_osm_2017816_16_roads\n",
      "Allocating memory for dense node cache\n",
      "Allocating dense node cache in one big chunk\n",
      "Allocating memory for sparse node cache\n",
      "Sharing dense sparse\n",
      "Node-cache: cache=800MB, maxblocks=102400*8192, allocation method=3\n",
      "Mid: Ram, scale=100\n",
      "\n",
      "Reading in file: /media/tais/data/MAUPP/Donnees_brutes/OSM/Ouagadougou/ouaga_osm_2017816_16.osm\n",
      "StartElement: Unknown element name: note\n",
      "Unknown node type 3\n",
      "EndElement: Unknown element name: note\n",
      "StartElement: Unknown element name: meta\n",
      "EndElement: Unknown element name: meta\n",
      "\r",
      "Processing: Node(10k 10.0k/s) Way(0k 0.00k/s) Relation(0 0.00/s)\r",
      "Processing: Node(16k 16.6k/s) Way(1k 1.00k/s) Relation(0 0.00/s)\r",
      "Processing: Node(16k 16.6k/s) Way(1k 1.80k/s) Relation(10 10.00/s)\r",
      "Processing: Node(16k 16.6k/s) Way(1k 1.80k/s) Relation(13 13.00/s)  parse time: 1s\n",
      "Node stats: total(16585), max(4979125379) in 1s\n",
      "Way stats: total(1798), max(498672756) in 0s\n",
      "Relation stats: total(13), max(7054873) in 0s\n",
      "Committing transaction for ouaga_osm_2017816_16_point\n",
      "Committing transaction for ouaga_osm_2017816_16_line\n",
      "Committing transaction for ouaga_osm_2017816_16_polygon\n",
      "Committing transaction for ouaga_osm_2017816_16_roads\n",
      "Using built-in tag processing pipeline\n",
      "\n",
      "Going over pending ways...\n",
      "\t532 ways are pending\n",
      "\n",
      "Using 1 helper-processes\n",
      "\r",
      "Finished processing 532 ways in 0 sec\n",
      "\n",
      "Committing transaction for ouaga_osm_2017816_16_point\n",
      "Committing transaction for ouaga_osm_2017816_16_line\n",
      "Committing transaction for ouaga_osm_2017816_16_polygon\n",
      "Committing transaction for ouaga_osm_2017816_16_roads\n",
      "\n",
      "Going over pending relations...\n",
      "\t0 relations are pending\n",
      "\n",
      "Using 1 helper-processes\n",
      "\r",
      "Finished processing 0 relations in 0 sec\n",
      "\n",
      "Committing transaction for ouaga_osm_2017816_16_point\n",
      "ATTENTION:  aucune transaction en cours\n",
      "Committing transaction for ouaga_osm_2017816_16_line\n",
      "ATTENTION:  aucune transaction en cours\n",
      "Committing transaction for ouaga_osm_2017816_16_polygon\n",
      "ATTENTION:  aucune transaction en cours\n",
      "Committing transaction for ouaga_osm_2017816_16_roads\n",
      "ATTENTION:  aucune transaction en cours\n",
      "node cache: stored: 16585(100.00%), storage efficiency: 50.13% (dense blocks: 5, sparse nodes: 13983), hit rate: 100.00%\n",
      "Sorting data and creating indexes for ouaga_osm_2017816_16_point\n",
      "Sorting data and creating indexes for ouaga_osm_2017816_16_line\n",
      "Sorting data and creating indexes for ouaga_osm_2017816_16_polygon\n",
      "Sorting data and creating indexes for ouaga_osm_2017816_16_roads\n",
      "Copying ouaga_osm_2017816_16_roads to cluster by geometry finished\n",
      "Creating geometry index on  ouaga_osm_2017816_16_roads\n",
      "Creating indexes on  ouaga_osm_2017816_16_roads finished\n",
      "All indexes on  ouaga_osm_2017816_16_roads created  in 0s\n",
      "Completed ouaga_osm_2017816_16_roads\n",
      "Copying ouaga_osm_2017816_16_polygon to cluster by geometry finished\n",
      "Creating geometry index on  ouaga_osm_2017816_16_polygon\n",
      "Copying ouaga_osm_2017816_16_line to cluster by geometry finished\n",
      "Creating geometry index on  ouaga_osm_2017816_16_line\n",
      "Creating indexes on  ouaga_osm_2017816_16_polygon finished\n",
      "All indexes on  ouaga_osm_2017816_16_polygon created  in 0s\n",
      "Completed ouaga_osm_2017816_16_polygon\n",
      "Creating indexes on  ouaga_osm_2017816_16_line finished\n",
      "All indexes on  ouaga_osm_2017816_16_line created  in 0s\n",
      "Completed ouaga_osm_2017816_16_line\n",
      "Copying ouaga_osm_2017816_16_point to cluster by geometry finished\n",
      "Creating geometry index on  ouaga_osm_2017816_16_point\n",
      "Creating indexes on  ouaga_osm_2017816_16_point finished\n",
      "All indexes on  ouaga_osm_2017816_16_point created  in 0s\n",
      "Completed ouaga_osm_2017816_16_point\n",
      "\n",
      "Osm2pgsql took 1s overall\n",
      "\n"
     ]
    }
   ],
   "source": [
    "## Loop through the stack of tiles\n",
    "for tilenum in range(1,nbr_tiles+1):\n",
    "    ## Call osm2pgsql as a subprocess\n",
    "    p=Popen(['osm2pgsql','-c','-d',user[\"dbname\"],\n",
    "              '-U',user[\"user\"],\n",
    "              '-H',user[\"host\"],\n",
    "              '--extra-attributes',\n",
    "              '-E','3857',\n",
    "              '-p',user[\"prefixosm\"]+\"_\"+date_suffix+\"_\"+str(tilenum),\n",
    "              '-S',user[\"stylefile\"],\n",
    "              os.path.join(user[\"osmfolder\"],user[\"prefixosm\"]+\"_\"+date_suffix+\"_\"+str(tilenum)+\".osm\")],\n",
    "            env={'PGPASS': user[\"password\"]},\n",
    "            stdin=PIPE,stdout=PIPE,stderr=STDOUT)\n",
    "    stdout,stderr=p.communicate()\n",
    "    if stdout:\n",
    "        print stdout\n",
    "    if stderr:\n",
    "        print (\"ERROR MESSAGE:\\n\"+stderr)"
   ]
  },
  {
   "cell_type": "markdown",
   "metadata": {},
   "source": [
    "Here after, the osm table \"poin\" and \"roads\" will be droped as they will not be used in our processings."
   ]
  },
  {
   "cell_type": "code",
   "execution_count": 77,
   "metadata": {
    "collapsed": true
   },
   "outputs": [],
   "source": [
    "## Drop tables \"point\" and \"roads\" which will not be used in this script\n",
    "\n",
    "# Connect to an existing database\n",
    "db=pg.connect(dbname=user[\"dbname\"], user=user[\"user\"], password=user[\"password\"], host=user[\"host\"])\n",
    "# Open a cursor to perform database operations\n",
    "cur=db.cursor()\n",
    "\n",
    "for tilenum in range(1,nbr_tiles+1):\n",
    "    # Drop table if exists:\n",
    "    cur.execute(\"DROP TABLE IF EXISTS \"+user[\"schema\"]+\".\"+\"\\\n",
    "    \"+user[\"prefixosm\"]+\"_\"+date_suffix+\"_\"+str(tilenum)+\"_\"+\"point\")\n",
    "\n",
    "    # Drop table if exists:\n",
    "    cur.execute(\"DROP TABLE IF EXISTS \"+user[\"schema\"]+\".\"+\"\\\n",
    "    \"+user[\"prefixosm\"]+\"_\"+date_suffix+\"_\"+str(tilenum)+\"_\"+\"roads\")\n",
    "    \n",
    "# Make the changes to the database persistent\n",
    "db.commit()\n",
    "# Make vaccum\n",
    "vacuum(db)"
   ]
  },
  {
   "cell_type": "markdown",
   "metadata": {},
   "source": [
    "Here after, the name of the osm table will be saved in dictionnaries."
   ]
  },
  {
   "cell_type": "code",
   "execution_count": 23,
   "metadata": {
    "scrolled": true
   },
   "outputs": [
    {
     "name": "stdout",
     "output_type": "stream",
     "text": [
      "ouaga_osm_2017816_16_line    ouaga_osm_2017816_16_polygon\n",
      "ouaga_osm_2017816_15_line    ouaga_osm_2017816_15_polygon\n",
      "ouaga_osm_2017816_14_line    ouaga_osm_2017816_14_polygon\n",
      "ouaga_osm_2017816_13_line    ouaga_osm_2017816_13_polygon\n",
      "ouaga_osm_2017816_12_line    ouaga_osm_2017816_12_polygon\n",
      "ouaga_osm_2017816_11_line    ouaga_osm_2017816_11_polygon\n",
      "ouaga_osm_2017816_10_line    ouaga_osm_2017816_10_polygon\n",
      "ouaga_osm_2017816_7_line    ouaga_osm_2017816_7_polygon\n",
      "ouaga_osm_2017816_6_line    ouaga_osm_2017816_6_polygon\n",
      "ouaga_osm_2017816_5_line    ouaga_osm_2017816_5_polygon\n",
      "ouaga_osm_2017816_4_line    ouaga_osm_2017816_4_polygon\n",
      "ouaga_osm_2017816_3_line    ouaga_osm_2017816_3_polygon\n",
      "ouaga_osm_2017816_2_line    ouaga_osm_2017816_2_polygon\n",
      "ouaga_osm_2017816_1_line    ouaga_osm_2017816_1_polygon\n",
      "ouaga_osm_2017816_9_line    ouaga_osm_2017816_9_polygon\n",
      "ouaga_osm_2017816_8_line    ouaga_osm_2017816_8_polygon\n"
     ]
    }
   ],
   "source": [
    "## Define a empty dictionnary for saving osm line and polygon table names\n",
    "osm_line={}\n",
    "osm_polygon={}\n",
    "\n",
    "## Loop through the stack of tiles\n",
    "for tilenum in range(1,nbr_tiles+1):\n",
    "    # Save the table postgis table name in the dictionnary\n",
    "    osm_line[\"tile_\"+str(tilenum)]=user[\"prefixosm\"]+\"_\"+date_suffix+\"_\"+str(tilenum)+\"_line\"\n",
    "    osm_polygon[\"tile_\"+str(tilenum)]=user[\"prefixosm\"]+\"_\"+date_suffix+\"_\"+str(tilenum)+\"_polygon\"\n",
    "    \n",
    "#### Display name of osm tables\n",
    "for tile in osm_line.keys():\n",
    "    print osm_line[tile]+\"    \"+osm_polygon[tile]"
   ]
  },
  {
   "cell_type": "markdown",
   "metadata": {},
   "source": [
    "**-_-_-_-_-_-_-_-_-_-_-_-_-_-_-_-_-_-_-_-_-_-_-_-_-_-_-_-_-_-_-_-_-_-_-_-_-_-_-_-_-_-_-_-_-_-_-_-_-_-_-_-_-_-_-_-_-_-_-_-_-**"
   ]
  },
  {
   "cell_type": "markdown",
   "metadata": {},
   "source": [
    "<center> *-*-*-*-*-*-*-*-*-*-*-*-*-*-*-*-*-*-*-*-*-*- </center> "
   ]
  },
  {
   "cell_type": "markdown",
   "metadata": {},
   "source": [
    "**-_-_-_-_-_-_-_-_-_-_-_-_-_-_-_-_-_-_-_-_-_-_-_-_-_-_-_-_-_-_-_-_-_-_-_-_-_-_-_-_-_-_-_-_-_-_-_-_-_-_-_-_-_-_-_-_-_-_-_-_-**"
   ]
  },
  {
   "cell_type": "markdown",
   "metadata": {},
   "source": [
    "# Extract urban blocks for each tile"
   ]
  },
  {
   "cell_type": "code",
   "execution_count": 24,
   "metadata": {},
   "outputs": [
    {
     "name": "stdout",
     "output_type": "stream",
     "text": [
      "linestrings_tile_16 ; linestrings_snaped_tile_16 ; urban_blocks_tile_16 ; urban_blocks_snaped_tile_16\n",
      "linestrings_tile_15 ; linestrings_snaped_tile_15 ; urban_blocks_tile_15 ; urban_blocks_snaped_tile_15\n",
      "linestrings_tile_14 ; linestrings_snaped_tile_14 ; urban_blocks_tile_14 ; urban_blocks_snaped_tile_14\n",
      "linestrings_tile_13 ; linestrings_snaped_tile_13 ; urban_blocks_tile_13 ; urban_blocks_snaped_tile_13\n",
      "linestrings_tile_12 ; linestrings_snaped_tile_12 ; urban_blocks_tile_12 ; urban_blocks_snaped_tile_12\n",
      "linestrings_tile_11 ; linestrings_snaped_tile_11 ; urban_blocks_tile_11 ; urban_blocks_snaped_tile_11\n",
      "linestrings_tile_10 ; linestrings_snaped_tile_10 ; urban_blocks_tile_10 ; urban_blocks_snaped_tile_10\n",
      "linestrings_tile_7 ; linestrings_snaped_tile_7 ; urban_blocks_tile_7 ; urban_blocks_snaped_tile_7\n",
      "linestrings_tile_6 ; linestrings_snaped_tile_6 ; urban_blocks_tile_6 ; urban_blocks_snaped_tile_6\n",
      "linestrings_tile_5 ; linestrings_snaped_tile_5 ; urban_blocks_tile_5 ; urban_blocks_snaped_tile_5\n",
      "linestrings_tile_4 ; linestrings_snaped_tile_4 ; urban_blocks_tile_4 ; urban_blocks_snaped_tile_4\n",
      "linestrings_tile_3 ; linestrings_snaped_tile_3 ; urban_blocks_tile_3 ; urban_blocks_snaped_tile_3\n",
      "linestrings_tile_2 ; linestrings_snaped_tile_2 ; urban_blocks_tile_2 ; urban_blocks_snaped_tile_2\n",
      "linestrings_tile_1 ; linestrings_snaped_tile_1 ; urban_blocks_tile_1 ; urban_blocks_snaped_tile_1\n",
      "linestrings_tile_9 ; linestrings_snaped_tile_9 ; urban_blocks_tile_9 ; urban_blocks_snaped_tile_9\n",
      "linestrings_tile_8 ; linestrings_snaped_tile_8 ; urban_blocks_tile_8 ; urban_blocks_snaped_tile_8\n"
     ]
    }
   ],
   "source": [
    "#### Save names of linestrings and blocks for each tile\n",
    "\n",
    "## Define a empty dictionnary for saving osm line and polygon table names\n",
    "linestrings={}\n",
    "blocks={}\n",
    "linestrings_snaped={}\n",
    "blocks_snaped={}\n",
    "\n",
    "for tile in osm_line.keys()[:]:\n",
    "    linestrings[tile] = \"linestrings\"+\"_\"+str(tile)\n",
    "    linestrings_snaped[tile] = \"linestrings_snaped\"+\"_\"+str(tile)\n",
    "    blocks[tile] = \"urban_blocks\"+\"_\"+str(tile)\n",
    "    blocks_snaped[tile] = \"urban_blocks_snaped\"+\"_\"+str(tile)\n",
    "    print linestrings[tile]+\" ; \"+linestrings_snaped[tile]+\" ; \"+blocks[tile]+\" ; \"+blocks_snaped[tile]"
   ]
  },
  {
   "cell_type": "raw",
   "metadata": {
    "scrolled": true
   },
   "source": [
    "#### Save names of linestrings and blocks for each tile\n",
    "\n",
    "## Define a empty dictionnary for saving osm line and polygon table names\n",
    "linestrings={}\n",
    "blocks={}\n",
    "linestrings_snaped={}\n",
    "blocks_snaped={}\n",
    "\n",
    "for tile in osm_line.keys()[:]:\n",
    "    linestrings[tile] = \"a_linestrings\"+\"_\"+str(tile)\n",
    "    linestrings_snaped[tile] = \"a_linestrings_snaped\"+\"_\"+str(tile)\n",
    "    blocks[tile] = \"a_urban_blocks\"+\"_\"+str(tile)\n",
    "    blocks_snaped[tile] = \"a_urban_blocks_snaped\"+\"_\"+str(tile)\n",
    "    print linestrings[tile]+\" ; \"+linestrings_snaped[tile]+\" ; \"+blocks[tile]+\" ; \"+blocks_snaped[tile]"
   ]
  },
  {
   "cell_type": "markdown",
   "metadata": {},
   "source": [
    "## Extract linestrings from different sources"
   ]
  },
  {
   "cell_type": "markdown",
   "metadata": {},
   "source": [
    "**If you faced an \"GEOSUnaryUnion: TopologyException: found non-noded intersection between\" error, please change a bit the value of 'snaptogrid_param' (increase for to 0.07 or 0.10 for example)**"
   ]
  },
  {
   "cell_type": "code",
   "execution_count": 94,
   "metadata": {
    "scrolled": true
   },
   "outputs": [
    {
     "name": "stdout",
     "output_type": "stream",
     "text": [
      "Working on tile_8\n",
      "Linestrings of 'tile_8' extracted in 30.7 seconds\n",
      "Process achieved in 30.7 seconds\n"
     ]
    }
   ],
   "source": [
    "## Saving current time for processing time management\n",
    "begintime_linestrings_total=time.time()\n",
    "\n",
    "snaptogrid_param=\"0.04\"\n",
    "\n",
    "# Connect to an existing database\n",
    "db=pg.connect(dbname=user[\"dbname\"], user=user[\"user\"], password=user[\"password\"], host=user[\"host\"])\n",
    "# Open a cursor to perform database operations\n",
    "cur=db.cursor()\n",
    "\n",
    "for tile in osm_line.keys()[:]:\n",
    "    ## Saving current time for processing time management\n",
    "    begintime_linestrings_loop=time.time()\n",
    "    print \"Working on \"+str(tile)\n",
    "\n",
    "    ########## Combine all linestrings from both lines and polygons in a single table ##########\n",
    "   \n",
    "    # Drop table if exists:\n",
    "    cur.execute(\"DROP TABLE IF EXISTS \"+user[\"schema\"]+\".\"+linestrings[tile])\n",
    "    # Make the changes to the database persistent\n",
    "    db.commit()\n",
    "    # Make vaccum\n",
    "    vacuum(db)\n",
    "    \n",
    "    # Subquery for extraction of linestrings from different sources\n",
    "    subquery1=\"WITH \\\n",
    "    current_tile AS (\\\n",
    "    SELECT the_geom FROM \"+user[\"schema\"]+\".\"+user[\"aoi_tile\"]+\" AS tile \\\n",
    "    WHERE gid=\"+tile[tile.index(\"_\")+1:]+\"), \\\n",
    "    \\\n",
    "    linestrings AS (\\\n",
    "    SELECT  ST_ExteriorRing(aoi.the_geom) AS the_geom \\\n",
    "    FROM \"+user[\"schema\"]+\".\"+user[\"AOI\"]+\" AS aoi \\\n",
    "    \\\n",
    "    UNION ALL \\\n",
    "    \\\n",
    "    SELECT ST_SnapToGrid(l.way,\"+snaptogrid_param+\") AS the_geom \\\n",
    "    FROM \"+user[\"schema\"]+\".\"+osm_line[tile]+\" AS l, current_tile \\\n",
    "    WHERE (l.highway is not null OR l.waterway is not null OR l.railway is not null) \\\n",
    "    AND ST_Intersects(l.way, current_tile.the_geom) \\\n",
    "    \\\n",
    "    UNION ALL \\\n",
    "    \\\n",
    "    SELECT ST_SnapToGrid(ST_ExteriorRing((ST_DumpRings(morpho.geom)).geom),\"+snaptogrid_param+\") AS the_geom \\\n",
    "    FROM (SELECT (ST_Dump(zm.geom)).* FROM \"+user[\"schema\"]+\".\"+user[\"morphotable\"]+\" AS zm) AS morpho, current_tile \\\n",
    "    WHERE ST_Intersects(morpho.geom, current_tile.the_geom) \\\n",
    "    \\\n",
    "    UNION ALL \\\n",
    "    \\\n",
    "    SELECT ST_SnapToGrid(ST_ExteriorRing((ST_DumpRings(naturpoly.geom)).geom),\"+snaptogrid_param+\") AS the_geom \\\n",
    "    FROM (SELECT (ST_Dump(p.way)).* FROM \"+user[\"schema\"]+\".\"+osm_polygon[tile]+\" AS p, current_tile  \\\n",
    "    WHERE p.natural is not null AND ST_Area(ST_Transform(p.way, \"+user[\"locationepsg\"]+\"))>2500 \\\n",
    "    AND ST_Intersects(p.way, current_tile.the_geom)) AS naturpoly \\\n",
    "    \\\n",
    "    UNION ALL \\\n",
    "    \\\n",
    "    SELECT ST_SnapToGrid(ST_ExteriorRing((ST_DumpRings(amenities.geom)).geom),\"+snaptogrid_param+\") AS the_geom \\\n",
    "    FROM (SELECT (ST_Dump(p.way)).* FROM \"+user[\"schema\"]+\".\"+osm_polygon[tile]+\" AS p, current_tile  \\\n",
    "    WHERE p.amenity IN ('college','school','university','clinic','hospital') \\\n",
    "    AND ST_Area(ST_Transform(p.way, \"+user[\"locationepsg\"]+\"))>1000 \\\n",
    "    AND ST_Intersects(p.way, current_tile.the_geom)) AS amenities \\\n",
    "    \\\n",
    "    UNION ALL\\\n",
    "    \\\n",
    "    SELECT ST_SnapToGrid(ST_ExteriorRing((ST_DumpRings(landusepoly.geom)).geom),\"+snaptogrid_param+\") AS the_geom \\\n",
    "    FROM (SELECT (ST_Dump(p.way)).* FROM \"+user[\"schema\"]+\".\"+osm_polygon[tile]+\" AS p, current_tile \\\n",
    "    WHERE (p.landuse is not null OR p.barrier is not null) \\\n",
    "    AND ST_Area(ST_Transform(p.way, \"+user[\"locationepsg\"]+\"))>2500 \\\n",
    "    AND ST_Intersects(p.way, current_tile.the_geom)) AS landusepoly), \\\n",
    "    \\\n",
    "    tiled_linestrings AS (\\\n",
    "    SELECT CASE \\\n",
    "    WHEN ST_CoveredBy(ls.the_geom,tile.the_geom) \\\n",
    "    THEN ls.the_geom \\\n",
    "    ELSE ST_Intersection(ls.the_geom,tile.the_geom) \\\n",
    "    END As the_geom \\\n",
    "    FROM linestrings AS ls \\\n",
    "    INNER JOIN current_tile As tile \\\n",
    "    ON ST_Intersects(ls.the_geom,tile.the_geom)) \\\n",
    "    \\\n",
    "    SELECT (ST_Dump(the_geom)).geom AS the_geom \\\n",
    "    FROM (SELECT ST_Union(ST_MakeValid(the_geom)) AS the_geom FROM tiled_linestrings) AS noded_line\"\n",
    "\n",
    "    # Query\n",
    "    query=\"CREATE TABLE \"+user[\"schema\"]+\".\"+linestrings[tile]+\" AS (\"\n",
    "    query+=subquery1+\")\"\n",
    "    # Execute the CREATE TABLE query \n",
    "    cur.execute(query)\n",
    "    # Make the changes to the database persistent\n",
    "    db.commit()\n",
    "    \n",
    "    ## Print\n",
    "    print print_processing_time(begintime_linestrings_loop, \"Linestrings of '\"+str(tile)+\"' extracted in \")\n",
    "        \n",
    "# Close cursor and communication with the database\n",
    "cur.close()\n",
    "db.close()\n",
    "    \n",
    "## Print\n",
    "print print_processing_time(begintime_linestrings_total, \"Process achieved in \")"
   ]
  },
  {
   "cell_type": "markdown",
   "metadata": {},
   "source": [
    "## Merge all tiles together"
   ]
  },
  {
   "cell_type": "code",
   "execution_count": 25,
   "metadata": {
    "collapsed": true
   },
   "outputs": [],
   "source": [
    "## Enter postgresqgl table's name\n",
    "user[\"linestrings_all\"] = \"linestrings_all\""
   ]
  },
  {
   "cell_type": "code",
   "execution_count": 46,
   "metadata": {
    "collapsed": true
   },
   "outputs": [],
   "source": [
    "# Connect to an existing database\n",
    "db=pg.connect(dbname=user[\"dbname\"], user=user[\"user\"], password=user[\"password\"], host=user[\"host\"])\n",
    "# Open a cursor to perform database operations\n",
    "cur=db.cursor()"
   ]
  },
  {
   "cell_type": "code",
   "execution_count": 47,
   "metadata": {
    "scrolled": true
   },
   "outputs": [
    {
     "name": "stdout",
     "output_type": "stream",
     "text": [
      "Going to merge all tiles together\n",
      "Linestrings from all tiles merged in 0.7 seconds\n"
     ]
    }
   ],
   "source": [
    "## Saving current time for processing time management\n",
    "begintime_tilemerging=time.time()\n",
    "print \"Going to merge all tiles together\"\n",
    "\n",
    "# Drop table if exists:\n",
    "cur.execute(\"DROP TABLE IF EXISTS \"+user[\"schema\"]+\".\"+user[\"linestrings_all\"])\n",
    "# Make the changes to the database persistent\n",
    "db.commit()\n",
    "# Make vaccum\n",
    "vacuum(db)\n",
    "\n",
    "# Subquery\n",
    "subquery=\"WITH \\\n",
    "merged_tiles AS(\\\n",
    "SELECT all_tiles.the_geom AS the_geom \\\n",
    "FROM (\"\n",
    "for tile in linestrings.keys():\n",
    "    if tile not in linestrings.keys()[-1:]:\n",
    "        subquery+=\"SELECT * FROM \"+user[\"schema\"]+\".\"+linestrings[tile]+\" \\\n",
    "                    UNION ALL \\\n",
    "                    \"\n",
    "    else :\n",
    "        subquery+=\"SELECT * FROM \"+user[\"schema\"]+\".\"+linestrings[tile]+\") AS all_tiles) \"\n",
    "        \n",
    "subquery+=\"\\\n",
    "SELECT the_geom FROM merged_tiles\"\n",
    "\n",
    "# Query\n",
    "query=\"CREATE TABLE \"+user[\"schema\"]+\".\"+user[\"linestrings_all\"]+\" AS (\"\n",
    "query+=subquery+\")\"\n",
    "\n",
    "#print query \n",
    "# Execute the CREATE TABLE query \n",
    "cur.execute(query)\n",
    "# Make the changes to the database persistent\n",
    "db.commit()\n",
    "\n",
    "# Add a SERIAL PRIMARY KEY on the table \n",
    "cur.execute(\"ALTER TABLE \"+user[\"schema\"]+\".\"+user[\"linestrings_all\"]+\" ADD COLUMN gid SERIAL PRIMARY KEY\")\n",
    "# Make the changes to the database persistent\n",
    "db.commit()\n",
    "\n",
    "## Print\n",
    "print print_processing_time(begintime_tilemerging, \"Linestrings from all tiles merged in \")"
   ]
  },
  {
   "cell_type": "code",
   "execution_count": 48,
   "metadata": {
    "collapsed": true,
    "scrolled": true
   },
   "outputs": [],
   "source": [
    "# Close cursor and communication with the database\n",
    "cur.close()\n",
    "db.close()"
   ]
  },
  {
   "cell_type": "markdown",
   "metadata": {},
   "source": [
    "**-_-_-_-_-_-_-_-_-_-_-_-_-_-_-_-_-_-_-_-_-_-_-_-_-_-_-_-_-_-_-_-_-_-_-_-_-_-_-_-_-_-_-_-_-_-_-_-_-_-_-_-_-_-_-_-_-_-_-_-_-**"
   ]
  },
  {
   "cell_type": "markdown",
   "metadata": {},
   "source": [
    "### Use PostGis topology to clean the linestrings network (snapping-like)"
   ]
  },
  {
   "cell_type": "markdown",
   "metadata": {},
   "source": [
    "The trick was found [here](http://blog.mathieu-leplatre.info/use-postgis-topologies-to-clean-up-road-networks.html)."
   ]
  },
  {
   "cell_type": "code",
   "execution_count": 49,
   "metadata": {
    "collapsed": true
   },
   "outputs": [],
   "source": [
    "# Set the tolerance for snapping (in meters)\n",
    "tolerance=7"
   ]
  },
  {
   "cell_type": "code",
   "execution_count": 26,
   "metadata": {
    "collapsed": true,
    "scrolled": false
   },
   "outputs": [],
   "source": [
    "user[\"linestrings_all_snaped\"]=\"linestrings_all_snaped\""
   ]
  },
  {
   "cell_type": "code",
   "execution_count": 51,
   "metadata": {},
   "outputs": [
    {
     "name": "stdout",
     "output_type": "stream",
     "text": [
      "Process achieved in 15 hours and 35 minutes and 55.7 seconds\n"
     ]
    }
   ],
   "source": [
    "## Saving current time for processing time management\n",
    "begintime_linestrings=time.time()\n",
    "\n",
    "# Connect to an existing database\n",
    "db=pg.connect(dbname=user[\"dbname\"], user=user[\"user\"], password=user[\"password\"], host=user[\"host\"])\n",
    "# Open a cursor to perform database operations\n",
    "cur=db.cursor()\n",
    "\n",
    "########## Clean the linestrings network using PostGis topology fonctions ##########\n",
    "topo_layer=\"linestring_topo_test\"\n",
    "\n",
    "# Query\n",
    "query=\"SELECT topology.DropTopology('\"+topo_layer+\"') \\\n",
    "WHERE EXISTS (SELECT * FROM topology.topology WHERE name='\"+topo_layer+\"')\"\n",
    "# Drop table if exists:\n",
    "cur.execute(query)\n",
    "# Make the changes to the database persistent\n",
    "db.commit()\n",
    "\n",
    "# Query\n",
    "query=\"SELECT topology.CreateTopology('\"+topo_layer+\"', 3857, \"+str(tolerance)+\") \\\n",
    "WHERE NOT EXISTS (SELECT * FROM topology.topology WHERE name='\"+topo_layer+\"')\"\n",
    "# Drop table if exists:\n",
    "cur.execute(query)\n",
    "# Make the changes to the database persistent\n",
    "db.commit()\n",
    "\n",
    "# Query\n",
    "query=\"SELECT topology.AddTopoGeometryColumn(\\\n",
    "'\"+topo_layer+\"','\"+user[\"schema\"]+\"','\"+user[\"linestrings_all\"]+\"','topo_geom','LINESTRING')\"\n",
    "# Drop table if exists:\n",
    "cur.execute(query)\n",
    "# Make the changes to the database persistent\n",
    "db.commit()\n",
    "\n",
    "# Query\n",
    "query=\"\\\n",
    "DO $$DECLARE r record;\\\n",
    "BEGIN \\\n",
    "  FOR r IN SELECT * FROM \"+user[\"schema\"]+\".\"+user[\"linestrings_all\"]+\" LOOP \\\n",
    "    BEGIN \\\n",
    "      UPDATE \"+user[\"schema\"]+\".\"+user[\"linestrings_all\"]+\" \\\n",
    "        SET topo_geom = topology.toTopoGeom(the_geom, '\"+topo_layer+\"', 1, \"+str(tolerance)+\") \\\n",
    "      WHERE the_geom = r.the_geom; \\\n",
    "    EXCEPTION \\\n",
    "      WHEN OTHERS THEN \\\n",
    "        RAISE WARNING 'Loading of record % failed: %', r.the_geom, SQLERRM; \\\n",
    "    END; \\\n",
    "  END LOOP; \\\n",
    "END$$;\"\n",
    "# Drop table if exists:\n",
    "cur.execute(query)\n",
    "# Make the changes to the database persistent\n",
    "db.commit()\n",
    "# Make vaccum\n",
    "vacuum(db)\n",
    "\n",
    "# Drop table if exists:\n",
    "cur.execute(\"DROP TABLE IF EXISTS \"+user[\"schema\"]+\".\"+user[\"linestrings_all_snaped\"])\n",
    "# Make the changes to the database persistent\n",
    "db.commit()\n",
    "# Make vaccum\n",
    "vacuum(db)\n",
    "\n",
    "# Subquery\n",
    "subquery=\"WITH \\\n",
    "valid_linestring AS(\\\n",
    "SELECT ST_MakeValid((ST_Dump(topo_geom::geometry)).geom) AS the_geom \\\n",
    "FROM \"+user[\"schema\"]+\".\"+user[\"linestrings_all\"]+\"), \\\n",
    "\\\n",
    "noded_linestring AS(\\\n",
    "SELECT (ST_Dump(ST_Union(the_geom))).geom AS the_geom FROM valid_linestring) \\\n",
    "\\\n",
    "SELECT * FROM noded_linestring\"\n",
    "# Query\n",
    "query=\"CREATE TABLE \"+user[\"schema\"]+\".\"+user[\"linestrings_all_snaped\"]+\" AS (\"\n",
    "query+=subquery+\")\"\n",
    "\n",
    "# Execute the query\n",
    "cur.execute(query)\n",
    "# Make the changes to the database persistent\n",
    "db.commit() \n",
    "    \n",
    "## Print\n",
    "print print_processing_time(begintime_linestrings, \"Process achieved in \")"
   ]
  },
  {
   "cell_type": "markdown",
   "metadata": {},
   "source": [
    "### Polygonize linestrings network to create urban blocks"
   ]
  },
  {
   "cell_type": "code",
   "execution_count": 27,
   "metadata": {
    "collapsed": true
   },
   "outputs": [],
   "source": [
    "## Enter postgresqgl table's name\n",
    "user[\"street_blocks_with_artifacts\"] = \"street_blocks_with_artifacts\""
   ]
  },
  {
   "cell_type": "code",
   "execution_count": 53,
   "metadata": {
    "collapsed": true
   },
   "outputs": [],
   "source": [
    "# Connect to an existing database\n",
    "db=pg.connect(dbname=user[\"dbname\"], user=user[\"user\"], password=user[\"password\"], host=user[\"host\"])\n",
    "# Open a cursor to perform database operations\n",
    "cur=db.cursor()"
   ]
  },
  {
   "cell_type": "code",
   "execution_count": 54,
   "metadata": {},
   "outputs": [
    {
     "name": "stdout",
     "output_type": "stream",
     "text": [
      "Process achieved in 5.8 seconds\n"
     ]
    }
   ],
   "source": [
    "## Saving current time for processing time management\n",
    "begintime_polygonize=time.time()\n",
    "\n",
    "# Drop table if exists:\n",
    "cur.execute(\"DROP TABLE IF EXISTS \"+user[\"schema\"]+\".\"+user[\"street_blocks_with_artifacts\"])\n",
    "# Make the changes to the database persistent\n",
    "db.commit()\n",
    "# Make vaccum\n",
    "vacuum(db)\n",
    "\n",
    "# Subquery for polygonization of mutlilinestrings\n",
    "subquery1=\"WITH \\\n",
    "multilinestring AS (\\\n",
    "SELECT ST_Multi(the_geom) AS the_geom \\\n",
    "FROM (SELECT ST_Collect(the_geom) AS the_geom \\\n",
    "      FROM \"+user[\"schema\"]+\".\"+user[\"linestrings_all_snaped\"]+\") As GeomCollection), \\\n",
    "\\\n",
    "valid_polygons AS (\\\n",
    "SELECT ST_CollectionExtract((ST_Dump(ST_MakeValid(the_geom))).geom,3) AS the_geom \\\n",
    "FROM (SELECT DISTINCT ST_CollectionExtract(((ST_Dump(ST_Polygonize(the_geom))).geom),3) AS the_geom \\\n",
    "FROM multilinestring) AS extracted_polygons) \\\n",
    "\\\n",
    "SELECT the_geom FROM valid_polygons\"\n",
    "\n",
    "# Query\n",
    "query=\"CREATE TABLE \"+user[\"schema\"]+\".\"+user[\"street_blocks_with_artifacts\"]+\" AS (\"\n",
    "query+=subquery1+\")\"\n",
    "# Execute the CREATE TABLE query \n",
    "cur.execute(query)\n",
    "# Make the changes to the database persistent\n",
    "db.commit()\n",
    "# Add a SERIAL PRIMARY KEY on the table \n",
    "cur.execute(\"ALTER TABLE \"+user[\"schema\"]+\".\"+user[\"street_blocks_with_artifacts\"]+\" \\\n",
    "ADD COLUMN gid SERIAL PRIMARY KEY\")\n",
    "# Make the changes to the database persistent\n",
    "db.commit()\n",
    "    \n",
    "## Print\n",
    "print print_processing_time(begintime_polygonize, \"Process achieved in \")"
   ]
  },
  {
   "cell_type": "code",
   "execution_count": 55,
   "metadata": {
    "scrolled": false
   },
   "outputs": [
    {
     "name": "stdout",
     "output_type": "stream",
     "text": [
      "Number of blocks extracted : 47367\n"
     ]
    }
   ],
   "source": [
    "# Query to find the number of row in the  table\n",
    "query=\"SELECT count(*) as nbr FROM \"+user[\"schema\"]+\".\"+user[\"street_blocks_with_artifacts\"]\n",
    "# Execute query through panda\n",
    "df=pd.read_sql(query, db)\n",
    "# Save the number of items a variable\n",
    "nbr_tiles=list(df['nbr'])[0]\n",
    "# Print\n",
    "print \"Number of blocks extracted : \"+str(nbr_tiles)"
   ]
  },
  {
   "cell_type": "code",
   "execution_count": 56,
   "metadata": {
    "collapsed": true
   },
   "outputs": [],
   "source": [
    "# Close cursor and communication with the database\n",
    "cur.close()\n",
    "db.close()"
   ]
  },
  {
   "cell_type": "markdown",
   "metadata": {},
   "source": [
    "**-_-_-_-_-_-_-_-_-_-_-_-_-_-_-_-_-_-_-_-_-_-_-_-_-_-_-_-_-_-_-_-_-_-_-_-_-_-_-_-_-_-_-_-_-_-_-_-_-_-_-_-_-_-_-_-_-_-_-_-_-**"
   ]
  },
  {
   "cell_type": "markdown",
   "metadata": {},
   "source": [
    "<center> *-*-*-*-*-*-*-*-*-*-*-*-*-*-*-*-*-*-*-*-*-*- </center> "
   ]
  },
  {
   "cell_type": "markdown",
   "metadata": {},
   "source": [
    "**-_-_-_-_-_-_-_-_-_-_-_-_-_-_-_-_-_-_-_-_-_-_-_-_-_-_-_-_-_-_-_-_-_-_-_-_-_-_-_-_-_-_-_-_-_-_-_-_-_-_-_-_-_-_-_-_-_-_-_-_-**"
   ]
  },
  {
   "cell_type": "markdown",
   "metadata": {
    "collapsed": true
   },
   "source": [
    "# Remove artifact polygons"
   ]
  },
  {
   "cell_type": "markdown",
   "metadata": {
    "collapsed": true
   },
   "source": [
    "## Defining functions"
   ]
  },
  {
   "cell_type": "code",
   "execution_count": 36,
   "metadata": {
    "collapsed": true
   },
   "outputs": [],
   "source": [
    "def find_nbrrowm(db, schema, table):\n",
    "    # Query to find the number of row in the  table\n",
    "    query=\"SELECT count(*) as nbr FROM \"+schema+\".\"+table\n",
    "    # Execute query through panda\n",
    "    df=pd.read_sql(query, db)\n",
    "    # Save the number of items a variable\n",
    "    nbr_row=list(df['nbr'])[0]\n",
    "    # Return\n",
    "    return nbr_row"
   ]
  },
  {
   "cell_type": "code",
   "execution_count": 37,
   "metadata": {
    "collapsed": true
   },
   "outputs": [],
   "source": [
    "def add_area_perimeter_compactness(db, schema, table):\n",
    "    # Open a cursor to perform database operations\n",
    "    cur=db.cursor()\n",
    "    # Add columns if not exist\n",
    "    cur.execute(\"ALTER TABLE \"+schema+\".\"+table+\" \\\n",
    "    ADD COLUMN IF NOT EXISTS area double precision, \\\n",
    "    ADD COLUMN IF NOT EXISTS perimeter double precision, \\\n",
    "    ADD COLUMN IF NOT EXISTS compactness double precision\")\n",
    "    # Make the changes to the database persistent\n",
    "    db.commit()\n",
    "    # Update columns with values\n",
    "    cur.execute(\"UPDATE \"+schema+\".\"+table+\" \\\n",
    "    SET area=ST_Area(ST_Transform(the_geom,\"+user[\"locationepsg\"]+\")), \\\n",
    "    perimeter=ST_Perimeter(ST_Transform(the_geom,\"+user[\"locationepsg\"]+\")),\\\n",
    "    compactness=(ST_Perimeter(ST_Transform(the_geom,\"+user[\"locationepsg\"]+\"))/sqrt(\\\n",
    "    ST_Area(ST_Transform(the_geom,\"+user[\"locationepsg\"]+\"))))\")\n",
    "    # Make the changes to the database persistent\n",
    "    db.commit()"
   ]
  },
  {
   "cell_type": "code",
   "execution_count": 90,
   "metadata": {
    "collapsed": true
   },
   "outputs": [],
   "source": [
    "def add_morphoid_morphotype(db, schema, streetblocktable, morphotable):\n",
    "    # Open a cursor to perform database operations\n",
    "    cur=db.cursor()\n",
    "    # Add columns if not exist\n",
    "    cur.execute(\"ALTER TABLE \"+schema+\".\"+streetblocktable+\" \\\n",
    "    ADD COLUMN IF NOT EXISTS morpho_id integer, \\\n",
    "    ADD COLUMN IF NOT EXISTS morpho_type varchar(10) \")\n",
    "    # Make the changes to the database persistent\n",
    "    db.commit()\n",
    "    # Update columns with values\n",
    "    cur.execute(\"UPDATE \"+schema+\".\"+streetblocktable+\" AS a \\\n",
    "    SET morpho_id=b.gid \\\n",
    "    FROM \"+schema+\".\"+morphotable+\" AS b \\\n",
    "    WHERE ST_Within(ST_PointOnSurface(a.the_geom),b.geom)\")\n",
    "    # Make the changes to the database persistent\n",
    "    db.commit()   \n",
    "    # Update columns with values\n",
    "    cur.execute(\"UPDATE \"+schema+\".\"+streetblocktable+\" AS a \\\n",
    "    SET morpho_type=b.type \\\n",
    "    FROM \"+schema+\".\"+morphotable+\" AS b \\\n",
    "    WHERE ST_Within(ST_PointOnSurface(a.the_geom),b.geom)\")\n",
    "    # Make the changes to the database persistent\n",
    "    db.commit()  "
   ]
  },
  {
   "cell_type": "code",
   "execution_count": 135,
   "metadata": {
    "collapsed": true
   },
   "outputs": [],
   "source": [
    "def find_artifact(db, schema, table):\n",
    "    ## Enter postgresqgl table's mane\n",
    "    temp_join = \"temp_join\"\n",
    "\n",
    "    # Open a cursor to perform database operations\n",
    "    cur=db.cursor()\n",
    "\n",
    "    #### Identify the artifact polygon (identified by selection on area and perimeter) \n",
    "    #### and all polygons non-artifact polygons touching them.\n",
    "\n",
    "    # Drop table if exists:\n",
    "    cur.execute(\"DROP TABLE IF EXISTS \"+user[\"schema\"]+\".\"+temp_join)\n",
    "    # Make the changes to the database persistent\n",
    "    db.commit()\n",
    "\n",
    "    # Subquery\n",
    "    subquery1=\"WITH \\\n",
    "    artifacts AS (\\\n",
    "    SELECT * FROM \"+schema+\".\"+table+\" AS p \\\n",
    "    WHERE (p.compactness>6.5 AND p.area<10000) OR (p.area<2200) OR (p.compactness>15)), \\\n",
    "    \\\n",
    "    basepolygons AS (\\\n",
    "    SELECT * FROM \"+schema+\".\"+table+\" AS p \\\n",
    "    WHERE NOT EXISTS (SELECT a.gid FROM artifacts AS a WHERE p.gid=a.gid)) \\\n",
    "    \\\n",
    "    SELECT a.the_geom, a.gid AS artifact_gid, b.gid AS base_gid, a.morpho_id, a.morpho_type, \\\n",
    "    ST_Length(ST_CollectionExtract(ST_Intersection(a.the_geom, b.the_geom), 2)) AS length \\\n",
    "    FROM artifacts a INNER JOIN basepolygons b ON (ST_Touches(a.the_geom,b.the_geom) AND a.morpho_id=b.morpho_id) \\\n",
    "    WHERE ST_Length(ST_CollectionExtract(ST_Intersection(a.the_geom, b.the_geom), 2)) > 0 \\\n",
    "    ORDER BY a.gid\"\n",
    "    \n",
    "    # Query\n",
    "    query=\"CREATE TABLE \"+schema+\".\"+temp_join+\" AS (\"\n",
    "    query+=subquery1+\")\"\n",
    "\n",
    "    # Execute the CREATE TABLE query \n",
    "    cur.execute(query)\n",
    "    # Make the changes to the database persistent\n",
    "    db.commit()\n",
    "\n",
    "    #### For each artifact, keep only the record regarding to the longer shared lenght with basepolygon.\n",
    "\n",
    "    # Set the name of the temporary layer\n",
    "    global temp_maxborder\n",
    "    temp_maxborder=\"temp_maxborder\"\n",
    "\n",
    "    # Drop table if exists:\n",
    "    cur.execute(\"DROP TABLE IF EXISTS \"+schema+\".\"+temp_maxborder)\n",
    "    # Make the changes to the database persistent\n",
    "    db.commit()\n",
    "\n",
    "    # Subquery for extraction of linestrings from different sources\n",
    "    subquery=\"WITH \\\n",
    "    max_value AS(\\\n",
    "    SELECT artifact_gid, max(length) AS shared_length \\\n",
    "    FROM \"+schema+\".\"+temp_join+\" \\\n",
    "    GROUP BY artifact_gid ORDER BY artifact_gid) \\\n",
    "    \\\n",
    "    SELECT a.* \\\n",
    "    FROM \"+schema+\".\"+temp_join+\" AS a \\\n",
    "    INNER JOIN max_value AS b \\\n",
    "    ON (a.length = b.shared_length AND a.artifact_gid = b.artifact_gid)\"\n",
    "\n",
    "    ## Query\n",
    "    query=\"CREATE TABLE \"+schema+\".\"+temp_maxborder+\" AS (\"\n",
    "    query+=subquery+\")\"\n",
    "    # Execute the CREATE TABLE query \n",
    "    cur.execute(query)\n",
    "    # Make the changes to the database persistent\n",
    "    db.commit()\n",
    "\n",
    "    return find_nbrrowm(db, schema, temp_maxborder)"
   ]
  },
  {
   "cell_type": "code",
   "execution_count": 136,
   "metadata": {
    "collapsed": true
   },
   "outputs": [],
   "source": [
    "def remove_artifacts(db, schema, table):\n",
    "    # Set the name of the temporary layer\n",
    "    union_table=\"union_table\"\n",
    "\n",
    "    # Drop table if exists:\n",
    "    cur.execute(\"DROP TABLE IF EXISTS \"+schema+\".\"+union_table)\n",
    "    # Make the changes to the database persistent\n",
    "    db.commit()\n",
    "\n",
    "    # Subquery for extraction of linestrings from different sources\n",
    "    subquery=\"SELECT a.*, b.base_gid AS union_gid FROM \"+schema+\".\"+table+\" AS a \\\n",
    "    LEFT JOIN \"+schema+\".\"+temp_maxborder+\" AS b ON a.gid=b.artifact_gid\"\n",
    "\n",
    "    ## Query\n",
    "    query=\"CREATE TABLE \"+schema+\".\"+union_table+\" AS (\"\n",
    "    query+=subquery+\")\"\n",
    "    # Execute the CREATE TABLE query \n",
    "    cur.execute(query)\n",
    "    # Make the changes to the database persistent\n",
    "    db.commit()\n",
    "    \n",
    "    # Add a SERIAL PRIMARY KEY on the table \n",
    "    cur.execute(\"UPDATE \"+schema+\".\"+union_table+\" SET union_gid=gid WHERE union_gid IS NULL\")\n",
    "    # Make the changes to the database persistent\n",
    "    db.commit()\n",
    "    \n",
    "    # Drop table if exists:\n",
    "    cur.execute(\"DROP TABLE IF EXISTS \"+schema+\".\"+table)\n",
    "    # Make the changes to the database persistent\n",
    "    db.commit()\n",
    "\n",
    "    # Subquery for extraction of linestrings from different sources\n",
    "    subquery=\"SELECT ST_Union(the_geom) AS the_geom, union_gid AS gid \\\n",
    "    FROM \"+schema+\".\"+union_table+\" \\\n",
    "    GROUP BY union_gid ORDER BY union_gid\"\n",
    "\n",
    "    ## Query\n",
    "    query=\"CREATE TABLE \"+schema+\".\"+table+\" AS (\"\n",
    "    query+=subquery+\")\"\n",
    "    # Execute the CREATE TABLE query \n",
    "    cur.execute(query)\n",
    "    # Make the changes to the database persistent\n",
    "    db.commit()"
   ]
  },
  {
   "cell_type": "markdown",
   "metadata": {
    "collapsed": true
   },
   "source": [
    "## Remove artifacts in a loop"
   ]
  },
  {
   "cell_type": "code",
   "execution_count": 137,
   "metadata": {
    "collapsed": true
   },
   "outputs": [],
   "source": [
    "# Connect to an existing database\n",
    "db=pg.connect(dbname=user[\"dbname\"], user=user[\"user\"], password=user[\"password\"], host=user[\"host\"])\n",
    "# Open a cursor to perform database operations\n",
    "cur=db.cursor()"
   ]
  },
  {
   "cell_type": "markdown",
   "metadata": {},
   "source": [
    "**Copy the current street blocks in a temporary table for processing**"
   ]
  },
  {
   "cell_type": "code",
   "execution_count": 138,
   "metadata": {
    "collapsed": true
   },
   "outputs": [],
   "source": [
    "## Enter postgresqgl table's name\n",
    "user[\"street_blocks_temp\"] = \"street_blocks_temp\""
   ]
  },
  {
   "cell_type": "code",
   "execution_count": 139,
   "metadata": {
    "collapsed": true
   },
   "outputs": [],
   "source": [
    "# Drop table if exists:\n",
    "cur.execute(\"DROP TABLE IF EXISTS \"+user[\"schema\"]+\".\"+user[\"street_blocks_temp\"])\n",
    "# Make the changes to the database persistent\n",
    "db.commit()\n",
    "\n",
    "# Subquery for extraction of linestrings from different sources\n",
    "subquery=\"SELECT * FROM \"+user[\"schema\"]+\".\"+user[\"street_blocks_with_artifacts\"]\n",
    "\n",
    "## Query\n",
    "query=\"CREATE TABLE \"+user[\"schema\"]+\".\"+user[\"street_blocks_temp\"]+\" AS (\"\n",
    "query+=subquery+\")\"\n",
    "# Execute the CREATE TABLE query \n",
    "cur.execute(query)\n",
    "# Make the changes to the database persistent\n",
    "db.commit()"
   ]
  },
  {
   "cell_type": "code",
   "execution_count": 140,
   "metadata": {
    "collapsed": true
   },
   "outputs": [],
   "source": [
    "# Compute morphological metrics\n",
    "add_area_perimeter_compactness(db,user[\"schema\"],user[\"street_blocks_temp\"])"
   ]
  },
  {
   "cell_type": "code",
   "execution_count": null,
   "metadata": {
    "collapsed": true
   },
   "outputs": [],
   "source": [
    "# Compute appartenance to morphological zones\n",
    "add_morphoid_morphotype(db,user[\"schema\"],user[\"street_blocks_temp\"], user[\"morphotable\"])"
   ]
  },
  {
   "cell_type": "markdown",
   "metadata": {},
   "source": [
    "**Remove artifacts in a loop**"
   ]
  },
  {
   "cell_type": "code",
   "execution_count": null,
   "metadata": {
    "scrolled": true
   },
   "outputs": [
    {
     "name": "stdout",
     "output_type": "stream",
     "text": [
      "Pass n°1.\n",
      "\n",
      "14169 artifacts have to be removed.\n",
      "\n",
      "Artifacts successfully removed.\n",
      "\n",
      "\n",
      "Pass n°2.\n",
      "\n",
      "1130 artifacts have to be removed.\n",
      "\n",
      "Artifacts successfully removed.\n",
      "\n",
      "\n",
      "Pass n°3.\n",
      "\n",
      "111 artifacts have to be removed.\n",
      "\n",
      "Artifacts successfully removed.\n",
      "\n",
      "\n",
      "Pass n°4.\n",
      "\n",
      "18 artifacts have to be removed.\n",
      "\n",
      "Artifacts successfully removed.\n",
      "\n",
      "\n",
      "Pass n°5.\n",
      "\n",
      "3 artifacts have to be removed.\n",
      "\n",
      "Artifacts successfully removed.\n",
      "\n",
      "\n"
     ]
    }
   ],
   "source": [
    "## Saving current time for processing time management\n",
    "begintime_cleaning=time.time()\n",
    " \n",
    "# Compute the initial number of artifact\n",
    "nbr_artifact=find_artifact(db,user[\"schema\"],user[\"street_blocks_temp\"])\n",
    "\n",
    "# Remove artifacts in a loop\n",
    "if nbr_artifact==0:\n",
    "    print \"There is no artifact to be removed\"\n",
    "else:\n",
    "    nbr_loop=0\n",
    "    while nbr_artifact > 0:\n",
    "        nbr_loop+=1\n",
    "        print \"Pass n°\"+str(nbr_loop)+\".\\n\"\n",
    "        print str(nbr_artifact)+\" artifacts have to be removed.\\n\"\n",
    "        remove_artifacts(db,user[\"schema\"],user[\"street_blocks_temp\"])\n",
    "        print \"Artifacts successfully removed.\\n\\n\"\n",
    "        add_area_perimeter_compactness(db,user[\"schema\"], user[\"street_blocks_temp\"])\n",
    "        add_morphoid_morphotype(db,user[\"schema\"],user[\"street_blocks_temp\"], user[\"morphotable\"])\n",
    "        nbr_artifact=find_artifact(db,user[\"schema\"], user[\"street_blocks_temp\"])\n",
    "    print \"All artifacts were removed after \"+str(nbr_loop)+\" passes.\"\n",
    "    \n",
    "## Print\n",
    "print print_processing_time(begintime_cleaning, \"Artifacts where removed in \")"
   ]
  },
  {
   "cell_type": "code",
   "execution_count": null,
   "metadata": {
    "collapsed": true
   },
   "outputs": [],
   "source": [
    "# Close cursor and communication with the database\n",
    "cur.close()\n",
    "db.close()"
   ]
  },
  {
   "cell_type": "markdown",
   "metadata": {},
   "source": [
    "**Copy the result in the a new PostGis table**"
   ]
  },
  {
   "cell_type": "code",
   "execution_count": null,
   "metadata": {
    "collapsed": true
   },
   "outputs": [],
   "source": [
    "## Enter postgresqgl table's name\n",
    "user[\"street_blocks\"] = \"street_blocks\""
   ]
  },
  {
   "cell_type": "code",
   "execution_count": null,
   "metadata": {
    "collapsed": true
   },
   "outputs": [],
   "source": [
    "# Connect to an existing database\n",
    "db=pg.connect(dbname=user[\"dbname\"], user=user[\"user\"], password=user[\"password\"], host=user[\"host\"])\n",
    "# Open a cursor to perform database operations\n",
    "cur=db.cursor()"
   ]
  },
  {
   "cell_type": "code",
   "execution_count": null,
   "metadata": {
    "collapsed": true
   },
   "outputs": [],
   "source": [
    "# Drop table if exists:\n",
    "cur.execute(\"DROP TABLE IF EXISTS \"+user[\"schema\"]+\".\"+user[\"street_blocks\"])\n",
    "# Make the changes to the database persistent\n",
    "db.commit()\n",
    "\n",
    "# Subquery for extraction of linestrings from different sources\n",
    "subquery=\"SELECT * FROM \"+user[\"schema\"]+\".\"+user[\"street_blocks_temp\"]\n",
    "\n",
    "## Query\n",
    "query=\"CREATE TABLE \"+user[\"schema\"]+\".\"+user[\"street_blocks\"]+\" AS (\"\n",
    "query+=subquery+\")\"\n",
    "# Execute the CREATE TABLE query \n",
    "cur.execute(query)\n",
    "# Make the changes to the database persistent\n",
    "db.commit()"
   ]
  },
  {
   "cell_type": "code",
   "execution_count": null,
   "metadata": {
    "collapsed": true
   },
   "outputs": [],
   "source": [
    "# Close cursor and communication with the database\n",
    "cur.close()\n",
    "db.close()"
   ]
  },
  {
   "cell_type": "markdown",
   "metadata": {
    "collapsed": true
   },
   "source": [
    "## Compute some statistics about the street blocks"
   ]
  },
  {
   "cell_type": "code",
   "execution_count": null,
   "metadata": {
    "collapsed": true
   },
   "outputs": [],
   "source": [
    "# Connect to an existing database\n",
    "db=pg.connect(dbname=user[\"dbname\"], user=user[\"user\"], password=user[\"password\"], host=user[\"host\"])\n",
    "# Open a cursor to perform database operations\n",
    "cur=db.cursor()"
   ]
  },
  {
   "cell_type": "code",
   "execution_count": null,
   "metadata": {
    "collapsed": true,
    "scrolled": true
   },
   "outputs": [],
   "source": [
    "# Max number of records to return from the query\n",
    "limitnumber=20\n",
    "# Query\n",
    "query=\"SELECT * FROM \"+user[\"schema\"]+\".\"+user[\"street_blocks\"]+\" LIMIT \"+str(limitnumber)\n",
    "# Execute query through panda\n",
    "df=pd.read_sql(query, db)\n",
    "# Show dataframe\n",
    "df.head(limitnumber)"
   ]
  },
  {
   "cell_type": "code",
   "execution_count": null,
   "metadata": {
    "collapsed": true,
    "scrolled": true
   },
   "outputs": [],
   "source": [
    "# Query,\n",
    "query=\"SELECT count(id), mean(area), stddev(area), mean(perimeter), stddev(perimeter) \\\n",
    "FROM \"+user[\"schema\"]+\".\"+user[\"street_blocks\"]+\" \\\n",
    "GROUP BY \"\n",
    "# Execute query through panda\n",
    "df=pd.read_sql(query, db)\n",
    "# Show dataframe\n",
    "df.head(50)"
   ]
  },
  {
   "cell_type": "code",
   "execution_count": null,
   "metadata": {
    "collapsed": true
   },
   "outputs": [],
   "source": []
  },
  {
   "cell_type": "code",
   "execution_count": null,
   "metadata": {
    "collapsed": true
   },
   "outputs": [],
   "source": []
  },
  {
   "cell_type": "code",
   "execution_count": null,
   "metadata": {
    "collapsed": true
   },
   "outputs": [],
   "source": []
  },
  {
   "cell_type": "code",
   "execution_count": null,
   "metadata": {
    "collapsed": true
   },
   "outputs": [],
   "source": []
  },
  {
   "cell_type": "code",
   "execution_count": null,
   "metadata": {
    "collapsed": true
   },
   "outputs": [],
   "source": []
  },
  {
   "cell_type": "code",
   "execution_count": null,
   "metadata": {
    "collapsed": true
   },
   "outputs": [],
   "source": []
  },
  {
   "cell_type": "code",
   "execution_count": null,
   "metadata": {
    "collapsed": true
   },
   "outputs": [],
   "source": []
  },
  {
   "cell_type": "code",
   "execution_count": null,
   "metadata": {
    "collapsed": true
   },
   "outputs": [],
   "source": []
  },
  {
   "cell_type": "code",
   "execution_count": null,
   "metadata": {
    "collapsed": true
   },
   "outputs": [],
   "source": []
  },
  {
   "cell_type": "code",
   "execution_count": null,
   "metadata": {
    "collapsed": true
   },
   "outputs": [],
   "source": []
  },
  {
   "cell_type": "code",
   "execution_count": null,
   "metadata": {
    "collapsed": true
   },
   "outputs": [],
   "source": []
  },
  {
   "cell_type": "markdown",
   "metadata": {
    "collapsed": true
   },
   "source": [
    "## Remove all tables not needed anymore"
   ]
  },
  {
   "cell_type": "raw",
   "metadata": {
    "scrolled": false
   },
   "source": [
    "# Query\n",
    "query=\"SELECT topology.DropTopology('\"+topo_layer+\"')\"\n",
    "# Drop table if exists:\n",
    "cur.execute(query)\n",
    "# Make the changes to the database persistent\n",
    "db.commit()\n",
    "\n",
    "# Close cursor and communication with the database\n",
    "cur.close()\n",
    "db.close()"
   ]
  },
  {
   "cell_type": "code",
   "execution_count": null,
   "metadata": {
    "collapsed": true
   },
   "outputs": [],
   "source": []
  },
  {
   "cell_type": "markdown",
   "metadata": {},
   "source": [
    "## Remove temporary layer created during the process"
   ]
  },
  {
   "cell_type": "code",
   "execution_count": 137,
   "metadata": {
    "collapsed": true
   },
   "outputs": [],
   "source": [
    "# Connect to an existing database\n",
    "db=pg.connect(dbname=user[\"dbname\"], user=user[\"user\"], password=user[\"password\"], host=user[\"host\"])\n",
    "# Open a cursor to perform database operations\n",
    "cur=db.cursor()\n",
    "\n",
    "# Drop table if exists:\n",
    "cur.execute(\"DROP TABLE IF EXISTS \"+user[\"schema\"]+\".\"+temp_layer_touchingpolygon)\n",
    "cur.execute(\"DROP TABLE IF EXISTS \"+user[\"schema\"]+\".\"+temp_layer_borderlength)\n",
    "cur.execute(\"DROP TABLE IF EXISTS \"+user[\"schema\"]+\".\"+temp_layer_borderlength_max)\n",
    "cur.execute(\"DROP TABLE IF EXISTS \"+user[\"schema\"]+\".\"+temp_layer_cleaned)\n",
    "# Make the changes to the database persistent\n",
    "db.commit()\n",
    "# Make vaccum\n",
    "vacuum(db)\n",
    "\n",
    "# Close cursor and communication with the database\n",
    "cur.close()\n",
    "db.close()"
   ]
  },
  {
   "cell_type": "markdown",
   "metadata": {},
   "source": [
    "**-_-_-_-_-_-_-_-_-_-_-_-_-_-_-_-_-_-_-_-_-_-_-_-_-_-_-_-_-_-_-_-_-_-_-_-_-_-_-_-_-_-_-_-_-_-_-_-_-_-_-_-_-_-_-_-_-_-_-_-_-**"
   ]
  },
  {
   "cell_type": "markdown",
   "metadata": {},
   "source": [
    "<center> *-*-*-*-*-*-*-*-*-*-*-*-*-*-*-*-*-*-*-*-*-*- </center> "
   ]
  },
  {
   "cell_type": "markdown",
   "metadata": {},
   "source": [
    "**-_-_-_-_-_-_-_-_-_-_-_-_-_-_-_-_-_-_-_-_-_-_-_-_-_-_-_-_-_-_-_-_-_-_-_-_-_-_-_-_-_-_-_-_-_-_-_-_-_-_-_-_-_-_-_-_-_-_-_-_-**"
   ]
  },
  {
   "cell_type": "code",
   "execution_count": null,
   "metadata": {
    "collapsed": true
   },
   "outputs": [],
   "source": []
  },
  {
   "cell_type": "code",
   "execution_count": null,
   "metadata": {
    "collapsed": true
   },
   "outputs": [],
   "source": []
  },
  {
   "cell_type": "code",
   "execution_count": null,
   "metadata": {
    "collapsed": true
   },
   "outputs": [],
   "source": []
  },
  {
   "cell_type": "code",
   "execution_count": null,
   "metadata": {
    "collapsed": true
   },
   "outputs": [],
   "source": []
  },
  {
   "cell_type": "markdown",
   "metadata": {},
   "source": [
    "### Export urban blocks in Shapefile"
   ]
  },
  {
   "cell_type": "markdown",
   "metadata": {},
   "source": [
    "dsjdsodlksdds"
   ]
  },
  {
   "cell_type": "code",
   "execution_count": null,
   "metadata": {
    "collapsed": true
   },
   "outputs": [],
   "source": [
    "## Shapefile of the morphological delineation\n",
    "pathtofile1=\"F:\\\\MAUPP\\\\Landuse_mapping\\\\City_block_extraction\\\\Test_extraction_bloc\\\\Data\\\\Zone_morpho_Ouaga_ajusted_ortho.shp\""
   ]
  },
  {
   "cell_type": "code",
   "execution_count": null,
   "metadata": {
    "collapsed": true
   },
   "outputs": [],
   "source": [
    "## Build the osm2pgsql command-line\n",
    "cmdline=\"set PGPASSWORD=\"+user[\"password\"]+\"\\n\"\n",
    "cmdline+=\"pgsql2shp -s -d -I\"+\" \"\n",
    "cmdline+=pathtofile1+\" \"+user[\"schema\"]+\".\"+user[\"blocks\"]+\" \"\n",
    "cmdline+=\"|\"+\" \"\n",
    "cmdline+=\"psql -d \"+user[\"dbname\"]+\" -h \"+user[\"host\"]+\" -U \"+user[\"user\"]\n",
    "## Create temp bash file for osm2pgsql\n",
    "outputcsv=tempfile.gettempdir()+\"\\\\tmp_bash.bat\" # Define the csv output file name\n",
    "f = open(outputcsv, 'w')\n",
    "f.write(cmdline)\n",
    "f.close()\n",
    "\n",
    "print cmdline"
   ]
  },
  {
   "cell_type": "code",
   "execution_count": null,
   "metadata": {
    "collapsed": true
   },
   "outputs": [],
   "source": [
    "%%cmd\n",
    "%Temp%\\tmp_bash.bat"
   ]
  },
  {
   "cell_type": "code",
   "execution_count": null,
   "metadata": {
    "collapsed": true
   },
   "outputs": [],
   "source": []
  },
  {
   "cell_type": "code",
   "execution_count": null,
   "metadata": {
    "collapsed": true
   },
   "outputs": [],
   "source": [
    "## Print processing time for the full process\n",
    "print_processing_time(begintime_blockextraction_full, \"Urban blocks extracted in: \")"
   ]
  }
 ],
 "metadata": {
  "anaconda-cloud": {},
  "kernelspec": {
   "display_name": "Python 2",
   "language": "python",
   "name": "python2"
  },
  "language_info": {
   "codemirror_mode": {
    "name": "ipython",
    "version": 2
   },
   "file_extension": ".py",
   "mimetype": "text/x-python",
   "name": "python",
   "nbconvert_exporter": "python",
   "pygments_lexer": "ipython2",
   "version": "2.7.12"
  }
 },
 "nbformat": 4,
 "nbformat_minor": 1
}
